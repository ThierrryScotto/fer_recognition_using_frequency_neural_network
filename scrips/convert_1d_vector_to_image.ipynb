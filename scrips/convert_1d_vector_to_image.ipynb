{
 "cells": [
  {
   "cell_type": "code",
   "execution_count": 29,
   "metadata": {},
   "outputs": [],
   "source": [
    "import numpy as np\n",
    "import pandas as pd\n",
    "import matplotlib.pyplot as plt\n",
    "import os"
   ]
  },
  {
   "cell_type": "code",
   "execution_count": 30,
   "metadata": {},
   "outputs": [
    {
     "data": {
      "text/html": [
       "<div>\n",
       "<style scoped>\n",
       "    .dataframe tbody tr th:only-of-type {\n",
       "        vertical-align: middle;\n",
       "    }\n",
       "\n",
       "    .dataframe tbody tr th {\n",
       "        vertical-align: top;\n",
       "    }\n",
       "\n",
       "    .dataframe thead th {\n",
       "        text-align: right;\n",
       "    }\n",
       "</style>\n",
       "<table border=\"1\" class=\"dataframe\">\n",
       "  <thead>\n",
       "    <tr style=\"text-align: right;\">\n",
       "      <th></th>\n",
       "      <th>emotion</th>\n",
       "      <th>pixels</th>\n",
       "      <th>Usage</th>\n",
       "    </tr>\n",
       "  </thead>\n",
       "  <tbody>\n",
       "    <tr>\n",
       "      <th>0</th>\n",
       "      <td>6</td>\n",
       "      <td>36 39 35 25 19 11 8 7 3 13 15 9 21 57 75 90 10...</td>\n",
       "      <td>Training</td>\n",
       "    </tr>\n",
       "    <tr>\n",
       "      <th>1</th>\n",
       "      <td>6</td>\n",
       "      <td>88 74 19 4 5 5 3 12 8 21 15 21 15 18 24 29 32 ...</td>\n",
       "      <td>Training</td>\n",
       "    </tr>\n",
       "    <tr>\n",
       "      <th>2</th>\n",
       "      <td>6</td>\n",
       "      <td>9 2 4 7 1 1 1 0 7 29 49 76 115 141 156 169 177...</td>\n",
       "      <td>Training</td>\n",
       "    </tr>\n",
       "    <tr>\n",
       "      <th>3</th>\n",
       "      <td>6</td>\n",
       "      <td>104 106 108 104 95 50 60 61 58 83 126 133 139 ...</td>\n",
       "      <td>Training</td>\n",
       "    </tr>\n",
       "    <tr>\n",
       "      <th>4</th>\n",
       "      <td>6</td>\n",
       "      <td>68 72 67 67 6 2 1 1 1 1 1 14 24 24 38 65 79 94...</td>\n",
       "      <td>Training</td>\n",
       "    </tr>\n",
       "    <tr>\n",
       "      <th>...</th>\n",
       "      <td>...</td>\n",
       "      <td>...</td>\n",
       "      <td>...</td>\n",
       "    </tr>\n",
       "    <tr>\n",
       "      <th>915</th>\n",
       "      <td>5</td>\n",
       "      <td>87 86 88 92 92 127 231 248 251 253 254 254 254...</td>\n",
       "      <td>PrivateTest</td>\n",
       "    </tr>\n",
       "    <tr>\n",
       "      <th>916</th>\n",
       "      <td>5</td>\n",
       "      <td>21 24 26 28 27 28 30 8 0 0 0 0 0 0 1 4 37 42 4...</td>\n",
       "      <td>PrivateTest</td>\n",
       "    </tr>\n",
       "    <tr>\n",
       "      <th>917</th>\n",
       "      <td>5</td>\n",
       "      <td>76 40 31 38 28 34 38 36 41 36 46 38 44 26 45 5...</td>\n",
       "      <td>PrivateTest</td>\n",
       "    </tr>\n",
       "    <tr>\n",
       "      <th>918</th>\n",
       "      <td>5</td>\n",
       "      <td>114 87 16 29 17 25 30 34 37 35 45 93 63 80 73 ...</td>\n",
       "      <td>PrivateTest</td>\n",
       "    </tr>\n",
       "    <tr>\n",
       "      <th>919</th>\n",
       "      <td>5</td>\n",
       "      <td>101 102 99 96 98 42 23 18 15 17 27 34 17 24 29...</td>\n",
       "      <td>PrivateTest</td>\n",
       "    </tr>\n",
       "  </tbody>\n",
       "</table>\n",
       "<p>920 rows × 3 columns</p>\n",
       "</div>"
      ],
      "text/plain": [
       "     emotion                                             pixels        Usage\n",
       "0          6  36 39 35 25 19 11 8 7 3 13 15 9 21 57 75 90 10...     Training\n",
       "1          6  88 74 19 4 5 5 3 12 8 21 15 21 15 18 24 29 32 ...     Training\n",
       "2          6  9 2 4 7 1 1 1 0 7 29 49 76 115 141 156 169 177...     Training\n",
       "3          6  104 106 108 104 95 50 60 61 58 83 126 133 139 ...     Training\n",
       "4          6  68 72 67 67 6 2 1 1 1 1 1 14 24 24 38 65 79 94...     Training\n",
       "..       ...                                                ...          ...\n",
       "915        5  87 86 88 92 92 127 231 248 251 253 254 254 254...  PrivateTest\n",
       "916        5  21 24 26 28 27 28 30 8 0 0 0 0 0 0 1 4 37 42 4...  PrivateTest\n",
       "917        5  76 40 31 38 28 34 38 36 41 36 46 38 44 26 45 5...  PrivateTest\n",
       "918        5  114 87 16 29 17 25 30 34 37 35 45 93 63 80 73 ...  PrivateTest\n",
       "919        5  101 102 99 96 98 42 23 18 15 17 27 34 17 24 29...  PrivateTest\n",
       "\n",
       "[920 rows x 3 columns]"
      ]
     },
     "execution_count": 30,
     "metadata": {},
     "output_type": "execute_result"
    }
   ],
   "source": [
    "df_ck_plus = pd.read_csv('../datasets/ckextended.csv')\n",
    "df_ck_plus"
   ]
  },
  {
   "cell_type": "markdown",
   "metadata": {},
   "source": [
    "0 : Anger (45 samples)\n",
    "1 : Disgust (59 samples)\n",
    "2 : Fear (25 samples)\n",
    "3 : Happiness (69 samples)\n",
    "4 : Sadness (28 samples)\n",
    "5 : Surprise (83 samples)\n",
    "6 : Neutral (593 samples)\n",
    "7 : Contempt (18 samples)"
   ]
  },
  {
   "cell_type": "code",
   "execution_count": 31,
   "metadata": {},
   "outputs": [],
   "source": [
    "HEIGHT = 48\n",
    "WIDTH = 48\n",
    "OUTPUT_FOLDER = '../input_images'\n",
    "OUTPUT_PATH = os.path.join(OUTPUT_FOLDER, 'reconstructed_image')"
   ]
  },
  {
   "cell_type": "code",
   "execution_count": 34,
   "metadata": {},
   "outputs": [],
   "source": [
    "images = []\n",
    "images_label = []\n",
    "\n",
    "for index, row in df_ck_plus.iterrows():\n",
    "  one_dimensional_str = row['pixels'].split()\n",
    "  one_dimensional_vec = np.array(list(map(int, one_dimensional_str)))\n",
    "  \n",
    "  if one_dimensional_vec.size == HEIGHT * WIDTH:\n",
    "    image_2d = one_dimensional_vec.reshape((HEIGHT, WIDTH))\n",
    "\n",
    "    images.append(image_2d)\n",
    "    images_label.append(row['emotion'])\n",
    "  else:\n",
    "    print()\n",
    "    raise ValueError(f\"The size of the vector {one_dimensional_vec.size} does not correspond to the product of the dimensions ({HEIGHT}, {WIDTH})\")"
   ]
  },
  {
   "cell_type": "code",
   "execution_count": 44,
   "metadata": {},
   "outputs": [
    {
     "data": {
      "text/plain": [
       "<matplotlib.image.AxesImage at 0x7f8b5cf85660>"
      ]
     },
     "execution_count": 44,
     "metadata": {},
     "output_type": "execute_result"
    },
    {
     "data": {
      "image/png": "[encoded data removed]",
      "text/plain": [
       "<Figure size 640x480 with 1 Axes>"
      ]
     },
     "metadata": {},
     "output_type": "display_data"
    }
   ],
   "source": [
    "plt.imshow(images[875])"
   ]
  }
 ],
 "metadata": {
  "kernelspec": {
   "display_name": "Python 3",
   "language": "python",
   "name": "python3"
  },
  "language_info": {
   "codemirror_mode": {
    "name": "ipython",
    "version": 3
   },
   "file_extension": ".py",
   "mimetype": "text/x-python",
   "name": "python",
   "nbconvert_exporter": "python",
   "pygments_lexer": "ipython3",
   "version": "3.10.12"
  }
 },
 "nbformat": 4,
 "nbformat_minor": 2
}
