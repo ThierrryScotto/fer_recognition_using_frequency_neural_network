{
  "cells": [
    {
      "cell_type": "markdown",
      "metadata": {
        "colab_type": "text",
        "id": "view-in-github"
      },
      "source": [
        "<a href=\"https://colab.research.google.com/github/ThierrryScotto/fer_recognition_using_frequency_neural_network/blob/master/basic_FreNet.ipynb\" target=\"_parent\"><img src=\"https://colab.research.google.com/assets/colab-badge.svg\" alt=\"Open In Colab\"/></a>"
      ]
    },
    {
      "cell_type": "markdown",
      "metadata": {
        "id": "tINK-933xTqQ"
      },
      "source": [
        "# Importing libraries"
      ]
    },
    {
      "cell_type": "code",
      "execution_count": 1,
      "metadata": {
        "id": "Xu1lPfdnxTqS"
      },
      "outputs": [
        {
          "name": "stderr",
          "output_type": "stream",
          "text": [
            "2024-08-05 14:47:19.935893: I external/local_xla/xla/tsl/cuda/cudart_stub.cc:32] Could not find cuda drivers on your machine, GPU will not be used.\n",
            "2024-08-05 14:47:19.966591: I external/local_xla/xla/tsl/cuda/cudart_stub.cc:32] Could not find cuda drivers on your machine, GPU will not be used.\n",
            "2024-08-05 14:47:20.008773: E external/local_xla/xla/stream_executor/cuda/cuda_fft.cc:485] Unable to register cuFFT factory: Attempting to register factory for plugin cuFFT when one has already been registered\n",
            "2024-08-05 14:47:20.055395: E external/local_xla/xla/stream_executor/cuda/cuda_dnn.cc:8454] Unable to register cuDNN factory: Attempting to register factory for plugin cuDNN when one has already been registered\n",
            "2024-08-05 14:47:20.077756: E external/local_xla/xla/stream_executor/cuda/cuda_blas.cc:1452] Unable to register cuBLAS factory: Attempting to register factory for plugin cuBLAS when one has already been registered\n",
            "2024-08-05 14:47:20.170675: I tensorflow/core/platform/cpu_feature_guard.cc:210] This TensorFlow binary is optimized to use available CPU instructions in performance-critical operations.\n",
            "To enable the following instructions: AVX2 FMA, in other operations, rebuild TensorFlow with the appropriate compiler flags.\n",
            "2024-08-05 14:47:21.864011: W tensorflow/compiler/tf2tensorrt/utils/py_utils.cc:38] TF-TRT Warning: Could not find TensorRT\n",
            "INFO:models.py:Loaded model: ./content/model/shape_predictor_68_face_landmarks.dat\n"
          ]
        }
      ],
      "source": [
        "import numpy as np\n",
        "import tensorflow as tf\n",
        "import os\n",
        "import glob\n",
        "os.environ['LOG_LEVEL'] = 'INFO'\n",
        "from src.datasets import ckextended\n",
        "from src.image_processing import ImagePreProcessor\n",
        "from src import utils\n",
        "from src.variables import *\n",
        "from scipy.fftpack import dct\n",
        "from matplotlib import pyplot as plt"
      ]
    },
    {
      "cell_type": "markdown",
      "metadata": {
        "id": "ebU8jxH5xTqU"
      },
      "source": [
        "# Importing dataset"
      ]
    },
    {
      "cell_type": "markdown",
      "metadata": {
        "id": "WPECmpNFx5gO"
      },
      "source": [
        "## Converting 1D vectors to images"
      ]
    },
    {
      "cell_type": "code",
      "execution_count": 2,
      "metadata": {
        "id": "16iS4p2tyLnA"
      },
      "outputs": [],
      "source": [
        "images_labels = []\n",
        "\n",
        "for index, row in ckextended.iterrows():\n",
        "  image = utils.convert_str_to_array(row['pixels'])\n",
        "  image = utils.convert_1D_array_to_image(image, HEIGHT, WIDTH)\n",
        "  images_labels.append(row['emotion'])\n",
        "  utils.write_image(image, f'{OUTPUT_PATH}_{index}.png')\n"
      ]
    },
    {
      "cell_type": "code",
      "execution_count": 3,
      "metadata": {},
      "outputs": [
        {
          "data": {
            "text/html": [
              "<div>\n",
              "<style scoped>\n",
              "    .dataframe tbody tr th:only-of-type {\n",
              "        vertical-align: middle;\n",
              "    }\n",
              "\n",
              "    .dataframe tbody tr th {\n",
              "        vertical-align: top;\n",
              "    }\n",
              "\n",
              "    .dataframe thead th {\n",
              "        text-align: right;\n",
              "    }\n",
              "</style>\n",
              "<table border=\"1\" class=\"dataframe\">\n",
              "  <thead>\n",
              "    <tr style=\"text-align: right;\">\n",
              "      <th></th>\n",
              "      <th>emotion</th>\n",
              "      <th>pixels</th>\n",
              "      <th>Usage</th>\n",
              "    </tr>\n",
              "  </thead>\n",
              "  <tbody>\n",
              "    <tr>\n",
              "      <th>0</th>\n",
              "      <td>6</td>\n",
              "      <td>36 39 35 25 19 11 8 7 3 13 15 9 21 57 75 90 10...</td>\n",
              "      <td>Training</td>\n",
              "    </tr>\n",
              "    <tr>\n",
              "      <th>1</th>\n",
              "      <td>6</td>\n",
              "      <td>88 74 19 4 5 5 3 12 8 21 15 21 15 18 24 29 32 ...</td>\n",
              "      <td>Training</td>\n",
              "    </tr>\n",
              "    <tr>\n",
              "      <th>2</th>\n",
              "      <td>6</td>\n",
              "      <td>9 2 4 7 1 1 1 0 7 29 49 76 115 141 156 169 177...</td>\n",
              "      <td>Training</td>\n",
              "    </tr>\n",
              "    <tr>\n",
              "      <th>3</th>\n",
              "      <td>6</td>\n",
              "      <td>104 106 108 104 95 50 60 61 58 83 126 133 139 ...</td>\n",
              "      <td>Training</td>\n",
              "    </tr>\n",
              "    <tr>\n",
              "      <th>4</th>\n",
              "      <td>6</td>\n",
              "      <td>68 72 67 67 6 2 1 1 1 1 1 14 24 24 38 65 79 94...</td>\n",
              "      <td>Training</td>\n",
              "    </tr>\n",
              "    <tr>\n",
              "      <th>...</th>\n",
              "      <td>...</td>\n",
              "      <td>...</td>\n",
              "      <td>...</td>\n",
              "    </tr>\n",
              "    <tr>\n",
              "      <th>915</th>\n",
              "      <td>5</td>\n",
              "      <td>87 86 88 92 92 127 231 248 251 253 254 254 254...</td>\n",
              "      <td>PrivateTest</td>\n",
              "    </tr>\n",
              "    <tr>\n",
              "      <th>916</th>\n",
              "      <td>5</td>\n",
              "      <td>21 24 26 28 27 28 30 8 0 0 0 0 0 0 1 4 37 42 4...</td>\n",
              "      <td>PrivateTest</td>\n",
              "    </tr>\n",
              "    <tr>\n",
              "      <th>917</th>\n",
              "      <td>5</td>\n",
              "      <td>76 40 31 38 28 34 38 36 41 36 46 38 44 26 45 5...</td>\n",
              "      <td>PrivateTest</td>\n",
              "    </tr>\n",
              "    <tr>\n",
              "      <th>918</th>\n",
              "      <td>5</td>\n",
              "      <td>114 87 16 29 17 25 30 34 37 35 45 93 63 80 73 ...</td>\n",
              "      <td>PrivateTest</td>\n",
              "    </tr>\n",
              "    <tr>\n",
              "      <th>919</th>\n",
              "      <td>5</td>\n",
              "      <td>101 102 99 96 98 42 23 18 15 17 27 34 17 24 29...</td>\n",
              "      <td>PrivateTest</td>\n",
              "    </tr>\n",
              "  </tbody>\n",
              "</table>\n",
              "<p>920 rows × 3 columns</p>\n",
              "</div>"
            ],
            "text/plain": [
              "     emotion                                             pixels        Usage\n",
              "0          6  36 39 35 25 19 11 8 7 3 13 15 9 21 57 75 90 10...     Training\n",
              "1          6  88 74 19 4 5 5 3 12 8 21 15 21 15 18 24 29 32 ...     Training\n",
              "2          6  9 2 4 7 1 1 1 0 7 29 49 76 115 141 156 169 177...     Training\n",
              "3          6  104 106 108 104 95 50 60 61 58 83 126 133 139 ...     Training\n",
              "4          6  68 72 67 67 6 2 1 1 1 1 1 14 24 24 38 65 79 94...     Training\n",
              "..       ...                                                ...          ...\n",
              "915        5  87 86 88 92 92 127 231 248 251 253 254 254 254...  PrivateTest\n",
              "916        5  21 24 26 28 27 28 30 8 0 0 0 0 0 0 1 4 37 42 4...  PrivateTest\n",
              "917        5  76 40 31 38 28 34 38 36 41 36 46 38 44 26 45 5...  PrivateTest\n",
              "918        5  114 87 16 29 17 25 30 34 37 35 45 93 63 80 73 ...  PrivateTest\n",
              "919        5  101 102 99 96 98 42 23 18 15 17 27 34 17 24 29...  PrivateTest\n",
              "\n",
              "[920 rows x 3 columns]"
            ]
          },
          "execution_count": 3,
          "metadata": {},
          "output_type": "execute_result"
        }
      ],
      "source": [
        "ckextended"
      ]
    },
    {
      "cell_type": "code",
      "execution_count": 4,
      "metadata": {},
      "outputs": [],
      "source": [
        "def get_emotion_by_index(df, idx):\n",
        "    if idx in df.index:\n",
        "        return df.loc[idx, 'emotion']\n",
        "    else:\n",
        "        return \"Índice não encontrado\""
      ]
    },
    {
      "cell_type": "markdown",
      "metadata": {
        "id": "rVVDTzGJ0Y_0"
      },
      "source": [
        "#Image pre-processing"
      ]
    },
    {
      "cell_type": "code",
      "execution_count": null,
      "metadata": {
        "colab": {
          "base_uri": "https://localhost:8080/"
        },
        "id": "stf0GQpj-g0G",
        "outputId": "fff66ffb-b221-4cb3-a131-a0747f3ab52f"
      },
      "outputs": [],
      "source": [
        "import re\n",
        "\n",
        "# Caminho para a pasta de entrada\n",
        "input_folder = './content/images/input_images/'\n",
        "\n",
        "# Pasta para salvar os rostos recortados\n",
        "output_folder = './content/images/preprocessed_images'\n",
        "\n",
        "image_pre_processor = ImagePreProcessor()\n",
        "# Criar a pasta de saída, se não existir\n",
        "os.makedirs(output_folder, exist_ok=True)\n",
        "\n",
        "images_labels = []\n",
        "\n",
        "# Processar cada imagem na pasta de entrada\n",
        "for filename in os.listdir(input_folder):\n",
        "    if filename.lower().endswith(('.png', '.jpg', '.jpeg', '.bmp', '.gif')):\n",
        "        image_path = os.path.join(input_folder, filename)\n",
        "        # print(f\"nome da imagem {re.sub(r'\\d+', '', image_path)}\")\n",
        "        numeros = re.findall(r'\\d+', image_path)\n",
        "        numero = [int(numero) for numero in numeros]\n",
        "        images_labels.append(ckextended.loc[numero[0], 'emotion'])\n",
        "        image_pre_processor.adjust_and_crop_face(image_path, output_folder)\n"
      ]
    },
    {
      "cell_type": "code",
      "execution_count": 7,
      "metadata": {
        "colab": {
          "base_uri": "https://localhost:8080/"
        },
        "id": "oqxos7Kp41wp",
        "outputId": "2d6d4d85-6f03-4fbb-d195-b32e53c67ba5"
      },
      "outputs": [],
      "source": [
        "# Caminhos das imagens\n",
        "image_paths = glob.glob(\"./content/images/preprocessed_images/reconstructed_image_*\")\n",
        "\n",
        "# Lista para armazenar os arrays das imagens\n",
        "image_arrays = []\n",
        "\n",
        "# Carregar cada imagem e convertê-la em um array NumPy\n",
        "for image_path in image_paths:\n",
        "    if os.path.exists(image_path):\n",
        "        image_array = utils.load_image(image_path)\n",
        "        image_arrays.append(image_array)\n",
        "    else:\n",
        "        print(f\"Imagem não encontrada: {image_path}\")\n"
      ]
    },
    {
      "cell_type": "code",
      "execution_count": 8,
      "metadata": {},
      "outputs": [],
      "source": [
        "γ = 0.25\n",
        "\n"
      ]
    },
    {
      "cell_type": "code",
      "execution_count": 9,
      "metadata": {
        "colab": {
          "base_uri": "https://localhost:8080/"
        },
        "id": "oTXqvRahFnja",
        "outputId": "dc6be18c-7528-4fa0-9838-b33f6d98a341"
      },
      "outputs": [],
      "source": [
        "frequency_input = []\n",
        "\n",
        "for image in image_arrays:\n",
        "    transformed_image = dct(dct(image.T, norm='ortho').T, norm='ortho')\n",
        "    frequency_input.append(utils.resize_dct(transformed_image, γ))\n",
        "    # frequency_input.append(dct(dct(image_arrays[index].T, norm='ortho').T, norm='ortho'))\n"
      ]
    },
    {
      "cell_type": "code",
      "execution_count": 10,
      "metadata": {},
      "outputs": [
        {
          "name": "stdout",
          "output_type": "stream",
          "text": [
            "920\n",
            "(8, 8)\n"
          ]
        }
      ],
      "source": [
        "print(len(frequency_input))\n",
        "print(frequency_input[900].shape)"
      ]
    },
    {
      "cell_type": "markdown",
      "metadata": {
        "id": "k4j9rcN2ITiN"
      },
      "source": [
        "**Paremeters**"
      ]
    },
    {
      "cell_type": "markdown",
      "metadata": {
        "id": "L41FbK_3tWKE"
      },
      "source": [
        "![image.png](data:image/png;base64,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)"
      ]
    },
    {
      "cell_type": "code",
      "execution_count": 17,
      "metadata": {},
      "outputs": [
        {
          "data": {
            "text/html": [
              "<pre style=\"white-space:pre;overflow-x:auto;line-height:normal;font-family:Menlo,'DejaVu Sans Mono',consolas,'Courier New',monospace\"><span style=\"font-weight: bold\">Model: \"functional_5\"</span>\n",
              "</pre>\n"
            ],
            "text/plain": [
              "\u001b[1mModel: \"functional_5\"\u001b[0m\n"
            ]
          },
          "metadata": {},
          "output_type": "display_data"
        },
        {
          "data": {
            "text/html": [
              "<pre style=\"white-space:pre;overflow-x:auto;line-height:normal;font-family:Menlo,'DejaVu Sans Mono',consolas,'Courier New',monospace\">┏━━━━━━━━━━━━━━━━━━━━━━━━━━━━━━━━━┳━━━━━━━━━━━━━━━━━━━━━━━━┳━━━━━━━━━━━━━━━┓\n",
              "┃<span style=\"font-weight: bold\"> Layer (type)                    </span>┃<span style=\"font-weight: bold\"> Output Shape           </span>┃<span style=\"font-weight: bold\">       Param # </span>┃\n",
              "┡━━━━━━━━━━━━━━━━━━━━━━━━━━━━━━━━━╇━━━━━━━━━━━━━━━━━━━━━━━━╇━━━━━━━━━━━━━━━┩\n",
              "│ input_images (<span style=\"color: #0087ff; text-decoration-color: #0087ff\">InputLayer</span>)       │ (<span style=\"color: #00d7ff; text-decoration-color: #00d7ff\">None</span>, <span style=\"color: #00af00; text-decoration-color: #00af00\">8</span>, <span style=\"color: #00af00; text-decoration-color: #00af00\">8</span>, <span style=\"color: #00af00; text-decoration-color: #00af00\">1</span>)        │             <span style=\"color: #00af00; text-decoration-color: #00af00\">0</span> │\n",
              "├─────────────────────────────────┼────────────────────────┼───────────────┤\n",
              "│ flatten_5 (<span style=\"color: #0087ff; text-decoration-color: #0087ff\">Flatten</span>)             │ (<span style=\"color: #00d7ff; text-decoration-color: #00d7ff\">None</span>, <span style=\"color: #00af00; text-decoration-color: #00af00\">64</span>)             │             <span style=\"color: #00af00; text-decoration-color: #00af00\">0</span> │\n",
              "├─────────────────────────────────┼────────────────────────┼───────────────┤\n",
              "│ fc1 (<span style=\"color: #0087ff; text-decoration-color: #0087ff\">Dense</span>)                     │ (<span style=\"color: #00d7ff; text-decoration-color: #00d7ff\">None</span>, <span style=\"color: #00af00; text-decoration-color: #00af00\">2048</span>)           │       <span style=\"color: #00af00; text-decoration-color: #00af00\">133,120</span> │\n",
              "├─────────────────────────────────┼────────────────────────┼───────────────┤\n",
              "│ dropout_10 (<span style=\"color: #0087ff; text-decoration-color: #0087ff\">Dropout</span>)            │ (<span style=\"color: #00d7ff; text-decoration-color: #00d7ff\">None</span>, <span style=\"color: #00af00; text-decoration-color: #00af00\">2048</span>)           │             <span style=\"color: #00af00; text-decoration-color: #00af00\">0</span> │\n",
              "├─────────────────────────────────┼────────────────────────┼───────────────┤\n",
              "│ fc2 (<span style=\"color: #0087ff; text-decoration-color: #0087ff\">Dense</span>)                     │ (<span style=\"color: #00d7ff; text-decoration-color: #00d7ff\">None</span>, <span style=\"color: #00af00; text-decoration-color: #00af00\">512</span>)            │     <span style=\"color: #00af00; text-decoration-color: #00af00\">1,049,088</span> │\n",
              "├─────────────────────────────────┼────────────────────────┼───────────────┤\n",
              "│ dropout_11 (<span style=\"color: #0087ff; text-decoration-color: #0087ff\">Dropout</span>)            │ (<span style=\"color: #00d7ff; text-decoration-color: #00d7ff\">None</span>, <span style=\"color: #00af00; text-decoration-color: #00af00\">512</span>)            │             <span style=\"color: #00af00; text-decoration-color: #00af00\">0</span> │\n",
              "├─────────────────────────────────┼────────────────────────┼───────────────┤\n",
              "│ output (<span style=\"color: #0087ff; text-decoration-color: #0087ff\">Dense</span>)                  │ (<span style=\"color: #00d7ff; text-decoration-color: #00d7ff\">None</span>, <span style=\"color: #00af00; text-decoration-color: #00af00\">7</span>)              │         <span style=\"color: #00af00; text-decoration-color: #00af00\">3,591</span> │\n",
              "└─────────────────────────────────┴────────────────────────┴───────────────┘\n",
              "</pre>\n"
            ],
            "text/plain": [
              "┏━━━━━━━━━━━━━━━━━━━━━━━━━━━━━━━━━┳━━━━━━━━━━━━━━━━━━━━━━━━┳━━━━━━━━━━━━━━━┓\n",
              "┃\u001b[1m \u001b[0m\u001b[1mLayer (type)                   \u001b[0m\u001b[1m \u001b[0m┃\u001b[1m \u001b[0m\u001b[1mOutput Shape          \u001b[0m\u001b[1m \u001b[0m┃\u001b[1m \u001b[0m\u001b[1m      Param #\u001b[0m\u001b[1m \u001b[0m┃\n",
              "┡━━━━━━━━━━━━━━━━━━━━━━━━━━━━━━━━━╇━━━━━━━━━━━━━━━━━━━━━━━━╇━━━━━━━━━━━━━━━┩\n",
              "│ input_images (\u001b[38;5;33mInputLayer\u001b[0m)       │ (\u001b[38;5;45mNone\u001b[0m, \u001b[38;5;34m8\u001b[0m, \u001b[38;5;34m8\u001b[0m, \u001b[38;5;34m1\u001b[0m)        │             \u001b[38;5;34m0\u001b[0m │\n",
              "├─────────────────────────────────┼────────────────────────┼───────────────┤\n",
              "│ flatten_5 (\u001b[38;5;33mFlatten\u001b[0m)             │ (\u001b[38;5;45mNone\u001b[0m, \u001b[38;5;34m64\u001b[0m)             │             \u001b[38;5;34m0\u001b[0m │\n",
              "├─────────────────────────────────┼────────────────────────┼───────────────┤\n",
              "│ fc1 (\u001b[38;5;33mDense\u001b[0m)                     │ (\u001b[38;5;45mNone\u001b[0m, \u001b[38;5;34m2048\u001b[0m)           │       \u001b[38;5;34m133,120\u001b[0m │\n",
              "├─────────────────────────────────┼────────────────────────┼───────────────┤\n",
              "│ dropout_10 (\u001b[38;5;33mDropout\u001b[0m)            │ (\u001b[38;5;45mNone\u001b[0m, \u001b[38;5;34m2048\u001b[0m)           │             \u001b[38;5;34m0\u001b[0m │\n",
              "├─────────────────────────────────┼────────────────────────┼───────────────┤\n",
              "│ fc2 (\u001b[38;5;33mDense\u001b[0m)                     │ (\u001b[38;5;45mNone\u001b[0m, \u001b[38;5;34m512\u001b[0m)            │     \u001b[38;5;34m1,049,088\u001b[0m │\n",
              "├─────────────────────────────────┼────────────────────────┼───────────────┤\n",
              "│ dropout_11 (\u001b[38;5;33mDropout\u001b[0m)            │ (\u001b[38;5;45mNone\u001b[0m, \u001b[38;5;34m512\u001b[0m)            │             \u001b[38;5;34m0\u001b[0m │\n",
              "├─────────────────────────────────┼────────────────────────┼───────────────┤\n",
              "│ output (\u001b[38;5;33mDense\u001b[0m)                  │ (\u001b[38;5;45mNone\u001b[0m, \u001b[38;5;34m7\u001b[0m)              │         \u001b[38;5;34m3,591\u001b[0m │\n",
              "└─────────────────────────────────┴────────────────────────┴───────────────┘\n"
            ]
          },
          "metadata": {},
          "output_type": "display_data"
        },
        {
          "data": {
            "text/html": [
              "<pre style=\"white-space:pre;overflow-x:auto;line-height:normal;font-family:Menlo,'DejaVu Sans Mono',consolas,'Courier New',monospace\"><span style=\"font-weight: bold\"> Total params: </span><span style=\"color: #00af00; text-decoration-color: #00af00\">1,185,799</span> (4.52 MB)\n",
              "</pre>\n"
            ],
            "text/plain": [
              "\u001b[1m Total params: \u001b[0m\u001b[38;5;34m1,185,799\u001b[0m (4.52 MB)\n"
            ]
          },
          "metadata": {},
          "output_type": "display_data"
        },
        {
          "data": {
            "text/html": [
              "<pre style=\"white-space:pre;overflow-x:auto;line-height:normal;font-family:Menlo,'DejaVu Sans Mono',consolas,'Courier New',monospace\"><span style=\"font-weight: bold\"> Trainable params: </span><span style=\"color: #00af00; text-decoration-color: #00af00\">1,185,799</span> (4.52 MB)\n",
              "</pre>\n"
            ],
            "text/plain": [
              "\u001b[1m Trainable params: \u001b[0m\u001b[38;5;34m1,185,799\u001b[0m (4.52 MB)\n"
            ]
          },
          "metadata": {},
          "output_type": "display_data"
        },
        {
          "data": {
            "text/html": [
              "<pre style=\"white-space:pre;overflow-x:auto;line-height:normal;font-family:Menlo,'DejaVu Sans Mono',consolas,'Courier New',monospace\"><span style=\"font-weight: bold\"> Non-trainable params: </span><span style=\"color: #00af00; text-decoration-color: #00af00\">0</span> (0.00 B)\n",
              "</pre>\n"
            ],
            "text/plain": [
              "\u001b[1m Non-trainable params: \u001b[0m\u001b[38;5;34m0\u001b[0m (0.00 B)\n"
            ]
          },
          "metadata": {},
          "output_type": "display_data"
        },
        {
          "name": "stdout",
          "output_type": "stream",
          "text": [
            "Epoch 1/50\n",
            "\u001b[1m6/6\u001b[0m \u001b[32m━━━━━━━━━━━━━━━━━━━━\u001b[0m\u001b[37m\u001b[0m \u001b[1m2s\u001b[0m 82ms/step - accuracy: 0.1292 - loss: 513.8137 - val_accuracy: 0.1304 - val_loss: 100.2606\n",
            "Epoch 2/50\n",
            "\u001b[1m6/6\u001b[0m \u001b[32m━━━━━━━━━━━━━━━━━━━━\u001b[0m\u001b[37m\u001b[0m \u001b[1m0s\u001b[0m 42ms/step - accuracy: 0.1498 - loss: 191.2801 - val_accuracy: 0.1522 - val_loss: 30.8355\n",
            "Epoch 3/50\n",
            "\u001b[1m6/6\u001b[0m \u001b[32m━━━━━━━━━━━━━━━━━━━━\u001b[0m\u001b[37m\u001b[0m \u001b[1m0s\u001b[0m 37ms/step - accuracy: 0.1312 - loss: 78.3774 - val_accuracy: 0.1196 - val_loss: 6.5311\n",
            "Epoch 4/50\n",
            "\u001b[1m6/6\u001b[0m \u001b[32m━━━━━━━━━━━━━━━━━━━━\u001b[0m\u001b[37m\u001b[0m \u001b[1m0s\u001b[0m 35ms/step - accuracy: 0.1708 - loss: 23.4529 - val_accuracy: 0.1196 - val_loss: 1.9460\n",
            "Epoch 5/50\n",
            "\u001b[1m6/6\u001b[0m \u001b[32m━━━━━━━━━━━━━━━━━━━━\u001b[0m\u001b[37m\u001b[0m \u001b[1m0s\u001b[0m 37ms/step - accuracy: 0.1368 - loss: 5.8578 - val_accuracy: 0.1196 - val_loss: 1.9459\n",
            "Epoch 6/50\n",
            "\u001b[1m6/6\u001b[0m \u001b[32m━━━━━━━━━━━━━━━━━━━━\u001b[0m\u001b[37m\u001b[0m \u001b[1m0s\u001b[0m 35ms/step - accuracy: 0.1225 - loss: 2.9457 - val_accuracy: 0.1196 - val_loss: 1.9458\n",
            "Epoch 7/50\n",
            "\u001b[1m6/6\u001b[0m \u001b[32m━━━━━━━━━━━━━━━━━━━━\u001b[0m\u001b[37m\u001b[0m \u001b[1m0s\u001b[0m 45ms/step - accuracy: 0.1380 - loss: 2.5426 - val_accuracy: 0.1576 - val_loss: 1.9457\n",
            "Epoch 8/50\n",
            "\u001b[1m6/6\u001b[0m \u001b[32m━━━━━━━━━━━━━━━━━━━━\u001b[0m\u001b[37m\u001b[0m \u001b[1m0s\u001b[0m 36ms/step - accuracy: 0.1631 - loss: 2.1013 - val_accuracy: 0.1576 - val_loss: 1.9457\n",
            "Epoch 9/50\n",
            "\u001b[1m6/6\u001b[0m \u001b[32m━━━━━━━━━━━━━━━━━━━━\u001b[0m\u001b[37m\u001b[0m \u001b[1m0s\u001b[0m 38ms/step - accuracy: 0.1741 - loss: 2.1119 - val_accuracy: 0.1576 - val_loss: 1.9456\n",
            "Epoch 10/50\n",
            "\u001b[1m6/6\u001b[0m \u001b[32m━━━━━━━━━━━━━━━━━━━━\u001b[0m\u001b[37m\u001b[0m \u001b[1m0s\u001b[0m 36ms/step - accuracy: 0.1452 - loss: 2.0422 - val_accuracy: 0.1576 - val_loss: 1.9456\n",
            "Epoch 11/50\n",
            "\u001b[1m6/6\u001b[0m \u001b[32m━━━━━━━━━━━━━━━━━━━━\u001b[0m\u001b[37m\u001b[0m \u001b[1m0s\u001b[0m 36ms/step - accuracy: 0.1471 - loss: 1.9999 - val_accuracy: 0.1576 - val_loss: 1.9455\n",
            "Epoch 12/50\n",
            "\u001b[1m6/6\u001b[0m \u001b[32m━━━━━━━━━━━━━━━━━━━━\u001b[0m\u001b[37m\u001b[0m \u001b[1m0s\u001b[0m 38ms/step - accuracy: 0.1739 - loss: 2.0311 - val_accuracy: 0.1576 - val_loss: 1.9454\n",
            "Epoch 13/50\n",
            "\u001b[1m6/6\u001b[0m \u001b[32m━━━━━━━━━━━━━━━━━━━━\u001b[0m\u001b[37m\u001b[0m \u001b[1m0s\u001b[0m 48ms/step - accuracy: 0.1731 - loss: 2.0077 - val_accuracy: 0.1576 - val_loss: 1.9453\n",
            "Epoch 14/50\n",
            "\u001b[1m6/6\u001b[0m \u001b[32m━━━━━━━━━━━━━━━━━━━━\u001b[0m\u001b[37m\u001b[0m \u001b[1m0s\u001b[0m 39ms/step - accuracy: 0.1761 - loss: 2.0144 - val_accuracy: 0.1576 - val_loss: 1.9452\n",
            "Epoch 15/50\n",
            "\u001b[1m6/6\u001b[0m \u001b[32m━━━━━━━━━━━━━━━━━━━━\u001b[0m\u001b[37m\u001b[0m \u001b[1m0s\u001b[0m 39ms/step - accuracy: 0.1645 - loss: 1.9526 - val_accuracy: 0.1576 - val_loss: 1.9451\n",
            "Epoch 16/50\n",
            "\u001b[1m6/6\u001b[0m \u001b[32m━━━━━━━━━━━━━━━━━━━━\u001b[0m\u001b[37m\u001b[0m \u001b[1m0s\u001b[0m 41ms/step - accuracy: 0.1567 - loss: 1.9670 - val_accuracy: 0.1576 - val_loss: 1.9451\n",
            "Epoch 17/50\n",
            "\u001b[1m6/6\u001b[0m \u001b[32m━━━━━━━━━━━━━━━━━━━━\u001b[0m\u001b[37m\u001b[0m \u001b[1m0s\u001b[0m 42ms/step - accuracy: 0.1531 - loss: 1.9979 - val_accuracy: 0.1576 - val_loss: 1.9450\n",
            "Epoch 18/50\n",
            "\u001b[1m6/6\u001b[0m \u001b[32m━━━━━━━━━━━━━━━━━━━━\u001b[0m\u001b[37m\u001b[0m \u001b[1m0s\u001b[0m 53ms/step - accuracy: 0.1463 - loss: 2.0356 - val_accuracy: 0.1576 - val_loss: 1.9449\n",
            "Epoch 19/50\n",
            "\u001b[1m6/6\u001b[0m \u001b[32m━━━━━━━━━━━━━━━━━━━━\u001b[0m\u001b[37m\u001b[0m \u001b[1m1s\u001b[0m 39ms/step - accuracy: 0.1535 - loss: 1.9463 - val_accuracy: 0.1576 - val_loss: 1.9448\n",
            "Epoch 20/50\n",
            "\u001b[1m6/6\u001b[0m \u001b[32m━━━━━━━━━━━━━━━━━━━━\u001b[0m\u001b[37m\u001b[0m \u001b[1m0s\u001b[0m 39ms/step - accuracy: 0.1324 - loss: 1.9625 - val_accuracy: 0.1576 - val_loss: 1.9448\n",
            "Epoch 21/50\n",
            "\u001b[1m6/6\u001b[0m \u001b[32m━━━━━━━━━━━━━━━━━━━━\u001b[0m\u001b[37m\u001b[0m \u001b[1m0s\u001b[0m 39ms/step - accuracy: 0.1575 - loss: 1.9635 - val_accuracy: 0.1576 - val_loss: 1.9446\n",
            "Epoch 22/50\n",
            "\u001b[1m6/6\u001b[0m \u001b[32m━━━━━━━━━━━━━━━━━━━━\u001b[0m\u001b[37m\u001b[0m \u001b[1m0s\u001b[0m 45ms/step - accuracy: 0.1701 - loss: 1.9682 - val_accuracy: 0.1576 - val_loss: 1.9446\n",
            "Epoch 23/50\n",
            "\u001b[1m6/6\u001b[0m \u001b[32m━━━━━━━━━━━━━━━━━━━━\u001b[0m\u001b[37m\u001b[0m \u001b[1m0s\u001b[0m 42ms/step - accuracy: 0.1597 - loss: 1.9542 - val_accuracy: 0.1576 - val_loss: 1.9445\n",
            "Epoch 24/50\n",
            "\u001b[1m6/6\u001b[0m \u001b[32m━━━━━━━━━━━━━━━━━━━━\u001b[0m\u001b[37m\u001b[0m \u001b[1m0s\u001b[0m 54ms/step - accuracy: 0.1605 - loss: 1.9491 - val_accuracy: 0.1576 - val_loss: 1.9444\n",
            "Epoch 25/50\n",
            "\u001b[1m6/6\u001b[0m \u001b[32m━━━━━━━━━━━━━━━━━━━━\u001b[0m\u001b[37m\u001b[0m \u001b[1m0s\u001b[0m 46ms/step - accuracy: 0.1676 - loss: 1.9568 - val_accuracy: 0.1576 - val_loss: 1.9444\n",
            "Epoch 26/50\n",
            "\u001b[1m6/6\u001b[0m \u001b[32m━━━━━━━━━━━━━━━━━━━━\u001b[0m\u001b[37m\u001b[0m \u001b[1m0s\u001b[0m 40ms/step - accuracy: 0.1674 - loss: 1.9768 - val_accuracy: 0.1576 - val_loss: 1.9443\n",
            "Epoch 27/50\n",
            "\u001b[1m6/6\u001b[0m \u001b[32m━━━━━━━━━━━━━━━━━━━━\u001b[0m\u001b[37m\u001b[0m \u001b[1m0s\u001b[0m 37ms/step - accuracy: 0.1529 - loss: 1.9591 - val_accuracy: 0.1576 - val_loss: 1.9443\n",
            "Epoch 28/50\n",
            "\u001b[1m6/6\u001b[0m \u001b[32m━━━━━━━━━━━━━━━━━━━━\u001b[0m\u001b[37m\u001b[0m \u001b[1m0s\u001b[0m 46ms/step - accuracy: 0.1748 - loss: 1.9483 - val_accuracy: 0.1576 - val_loss: 1.9442\n",
            "Epoch 29/50\n",
            "\u001b[1m6/6\u001b[0m \u001b[32m━━━━━━━━━━━━━━━━━━━━\u001b[0m\u001b[37m\u001b[0m \u001b[1m0s\u001b[0m 40ms/step - accuracy: 0.1518 - loss: 2.0757 - val_accuracy: 0.1576 - val_loss: 1.9441\n",
            "Epoch 30/50\n",
            "\u001b[1m6/6\u001b[0m \u001b[32m━━━━━━━━━━━━━━━━━━━━\u001b[0m\u001b[37m\u001b[0m \u001b[1m0s\u001b[0m 38ms/step - accuracy: 0.1529 - loss: 1.9939 - val_accuracy: 0.1576 - val_loss: 1.9441\n",
            "Epoch 31/50\n",
            "\u001b[1m6/6\u001b[0m \u001b[32m━━━━━━━━━━━━━━━━━━━━\u001b[0m\u001b[37m\u001b[0m \u001b[1m0s\u001b[0m 47ms/step - accuracy: 0.1429 - loss: 1.9566 - val_accuracy: 0.1576 - val_loss: 1.9440\n",
            "Epoch 32/50\n",
            "\u001b[1m6/6\u001b[0m \u001b[32m━━━━━━━━━━━━━━━━━━━━\u001b[0m\u001b[37m\u001b[0m \u001b[1m0s\u001b[0m 39ms/step - accuracy: 0.1665 - loss: 1.9518 - val_accuracy: 0.1576 - val_loss: 1.9440\n",
            "Epoch 33/50\n",
            "\u001b[1m6/6\u001b[0m \u001b[32m━━━━━━━━━━━━━━━━━━━━\u001b[0m\u001b[37m\u001b[0m \u001b[1m0s\u001b[0m 39ms/step - accuracy: 0.1694 - loss: 1.9692 - val_accuracy: 0.1576 - val_loss: 1.9439\n",
            "Epoch 34/50\n",
            "\u001b[1m6/6\u001b[0m \u001b[32m━━━━━━━━━━━━━━━━━━━━\u001b[0m\u001b[37m\u001b[0m \u001b[1m0s\u001b[0m 38ms/step - accuracy: 0.1537 - loss: 1.9429 - val_accuracy: 0.1576 - val_loss: 1.9439\n",
            "Epoch 35/50\n",
            "\u001b[1m6/6\u001b[0m \u001b[32m━━━━━━━━━━━━━━━━━━━━\u001b[0m\u001b[37m\u001b[0m \u001b[1m0s\u001b[0m 47ms/step - accuracy: 0.1594 - loss: 1.9571 - val_accuracy: 0.1576 - val_loss: 1.9438\n",
            "Epoch 36/50\n",
            "\u001b[1m6/6\u001b[0m \u001b[32m━━━━━━━━━━━━━━━━━━━━\u001b[0m\u001b[37m\u001b[0m \u001b[1m0s\u001b[0m 43ms/step - accuracy: 0.1658 - loss: 1.9648 - val_accuracy: 0.1576 - val_loss: 1.9437\n",
            "Epoch 37/50\n",
            "\u001b[1m6/6\u001b[0m \u001b[32m━━━━━━━━━━━━━━━━━━━━\u001b[0m\u001b[37m\u001b[0m \u001b[1m0s\u001b[0m 39ms/step - accuracy: 0.1564 - loss: 1.9564 - val_accuracy: 0.1576 - val_loss: 1.9437\n",
            "Epoch 38/50\n",
            "\u001b[1m6/6\u001b[0m \u001b[32m━━━━━━━━━━━━━━━━━━━━\u001b[0m\u001b[37m\u001b[0m \u001b[1m0s\u001b[0m 41ms/step - accuracy: 0.1598 - loss: 1.9502 - val_accuracy: 0.1576 - val_loss: 1.9436\n",
            "Epoch 39/50\n",
            "\u001b[1m6/6\u001b[0m \u001b[32m━━━━━━━━━━━━━━━━━━━━\u001b[0m\u001b[37m\u001b[0m \u001b[1m0s\u001b[0m 42ms/step - accuracy: 0.1395 - loss: 1.9707 - val_accuracy: 0.1576 - val_loss: 1.9436\n",
            "Epoch 40/50\n",
            "\u001b[1m6/6\u001b[0m \u001b[32m━━━━━━━━━━━━━━━━━━━━\u001b[0m\u001b[37m\u001b[0m \u001b[1m0s\u001b[0m 38ms/step - accuracy: 0.1621 - loss: 1.9672 - val_accuracy: 0.1576 - val_loss: 1.9435\n",
            "Epoch 41/50\n",
            "\u001b[1m6/6\u001b[0m \u001b[32m━━━━━━━━━━━━━━━━━━━━\u001b[0m\u001b[37m\u001b[0m \u001b[1m0s\u001b[0m 39ms/step - accuracy: 0.1766 - loss: 1.9556 - val_accuracy: 0.1576 - val_loss: 1.9435\n",
            "Epoch 42/50\n",
            "\u001b[1m6/6\u001b[0m \u001b[32m━━━━━━━━━━━━━━━━━━━━\u001b[0m\u001b[37m\u001b[0m \u001b[1m0s\u001b[0m 38ms/step - accuracy: 0.1677 - loss: 1.9533 - val_accuracy: 0.1576 - val_loss: 1.9435\n",
            "Epoch 43/50\n",
            "\u001b[1m6/6\u001b[0m \u001b[32m━━━━━━━━━━━━━━━━━━━━\u001b[0m\u001b[37m\u001b[0m \u001b[1m0s\u001b[0m 39ms/step - accuracy: 0.1570 - loss: 1.9437 - val_accuracy: 0.1576 - val_loss: 1.9434\n",
            "Epoch 44/50\n",
            "\u001b[1m6/6\u001b[0m \u001b[32m━━━━━━━━━━━━━━━━━━━━\u001b[0m\u001b[37m\u001b[0m \u001b[1m0s\u001b[0m 41ms/step - accuracy: 0.1530 - loss: 1.9785 - val_accuracy: 0.1576 - val_loss: 1.9434\n",
            "Epoch 45/50\n",
            "\u001b[1m6/6\u001b[0m \u001b[32m━━━━━━━━━━━━━━━━━━━━\u001b[0m\u001b[37m\u001b[0m \u001b[1m0s\u001b[0m 48ms/step - accuracy: 0.1486 - loss: 1.9484 - val_accuracy: 0.1576 - val_loss: 1.9434\n",
            "Epoch 46/50\n",
            "\u001b[1m6/6\u001b[0m \u001b[32m━━━━━━━━━━━━━━━━━━━━\u001b[0m\u001b[37m\u001b[0m \u001b[1m0s\u001b[0m 40ms/step - accuracy: 0.1766 - loss: 1.9602 - val_accuracy: 0.1576 - val_loss: 1.9434\n",
            "Epoch 47/50\n",
            "\u001b[1m6/6\u001b[0m \u001b[32m━━━━━━━━━━━━━━━━━━━━\u001b[0m\u001b[37m\u001b[0m \u001b[1m0s\u001b[0m 40ms/step - accuracy: 0.1730 - loss: 1.9426 - val_accuracy: 0.1576 - val_loss: 1.9434\n",
            "Epoch 48/50\n",
            "\u001b[1m6/6\u001b[0m \u001b[32m━━━━━━━━━━━━━━━━━━━━\u001b[0m\u001b[37m\u001b[0m \u001b[1m0s\u001b[0m 57ms/step - accuracy: 0.1638 - loss: 1.9413 - val_accuracy: 0.1576 - val_loss: 1.9433\n",
            "Epoch 49/50\n",
            "\u001b[1m6/6\u001b[0m \u001b[32m━━━━━━━━━━━━━━━━━━━━\u001b[0m\u001b[37m\u001b[0m \u001b[1m0s\u001b[0m 39ms/step - accuracy: 0.1517 - loss: 1.9580 - val_accuracy: 0.1576 - val_loss: 1.9433\n",
            "Epoch 50/50\n",
            "\u001b[1m6/6\u001b[0m \u001b[32m━━━━━━━━━━━━━━━━━━━━\u001b[0m\u001b[37m\u001b[0m \u001b[1m0s\u001b[0m 43ms/step - accuracy: 0.1484 - loss: 1.9578 - val_accuracy: 0.1576 - val_loss: 1.9433\n"
          ]
        },
        {
          "name": "stderr",
          "output_type": "stream",
          "text": [
            "WARNING:absl:You are saving your model as an HDF5 file via `model.save()` or `keras.saving.save_model(model)`. This file format is considered legacy. We recommend using instead the native Keras format, e.g. `model.save('my_model.keras')` or `keras.saving.save_model(model, 'my_model.keras')`. \n"
          ]
        }
      ],
      "source": [
        "import numpy as np\n",
        "import tensorflow as tf\n",
        "from tensorflow.keras import layers, models\n",
        "\n",
        "# Converter a lista de imagens em um numpy array e adicionar uma dimensão para o canal\n",
        "frequency_input = np.array(frequency_input).reshape(-1, 8, 8, 1)\n",
        "\n",
        "# Gerar labels fictícias para o exemplo\n",
        "# Em um caso real, você deve ter suas labels reais\n",
        "frequency_labels = np.random.randint(0, 7, size=(920, 1))\n",
        "frequency_labels = tf.keras.utils.to_categorical(frequency_labels, 7)\n",
        "\n",
        "# Determinar o batch size e número de epochs\n",
        "batch_size = 128\n",
        "epochs = 50\n",
        "\n",
        "# Definir a arquitetura do modelo\n",
        "input_images = tf.keras.Input(shape=(8, 8, 1), name='input_images')\n",
        "flattened_images = layers.Flatten()(input_images)\n",
        "fc1 = layers.Dense(2048, activation='relu', name='fc1')(flattened_images)\n",
        "dropout1 = layers.Dropout(0.5)(fc1)\n",
        "fc2 = layers.Dense(512, activation='relu', name='fc2')(dropout1)\n",
        "dropout2 = layers.Dropout(0.5)(fc2)\n",
        "output = layers.Dense(7, activation='softmax', name='output')(dropout2)\n",
        "\n",
        "# Criar e compilar o modelo\n",
        "model = models.Model(inputs=input_images, outputs=output)\n",
        "model.compile(optimizer='adam', loss='categorical_crossentropy', metrics=['accuracy'])\n",
        "\n",
        "# Sumário do modelo\n",
        "model.summary()\n",
        "\n",
        "# Treinar o modelo\n",
        "model.fit(frequency_input, frequency_labels, epochs=epochs, batch_size=batch_size, validation_split=0.2)\n",
        "\n",
        "# Salvar o modelo treinado\n",
        "model.save('basic_frenet_model.h5')\n"
      ]
    },
    {
      "cell_type": "code",
      "execution_count": 15,
      "metadata": {},
      "outputs": [
        {
          "data": {
            "text/html": [
              "<pre style=\"white-space:pre;overflow-x:auto;line-height:normal;font-family:Menlo,'DejaVu Sans Mono',consolas,'Courier New',monospace\"><span style=\"font-weight: bold\">Model: \"functional_3\"</span>\n",
              "</pre>\n"
            ],
            "text/plain": [
              "\u001b[1mModel: \"functional_3\"\u001b[0m\n"
            ]
          },
          "metadata": {},
          "output_type": "display_data"
        },
        {
          "data": {
            "text/html": [
              "<pre style=\"white-space:pre;overflow-x:auto;line-height:normal;font-family:Menlo,'DejaVu Sans Mono',consolas,'Courier New',monospace\">┏━━━━━━━━━━━━━━━━━━━━━┳━━━━━━━━━━━━━━━━━━━┳━━━━━━━━━━━━┳━━━━━━━━━━━━━━━━━━━┓\n",
              "┃<span style=\"font-weight: bold\"> Layer (type)        </span>┃<span style=\"font-weight: bold\"> Output Shape      </span>┃<span style=\"font-weight: bold\">    Param # </span>┃<span style=\"font-weight: bold\"> Connected to      </span>┃\n",
              "┡━━━━━━━━━━━━━━━━━━━━━╇━━━━━━━━━━━━━━━━━━━╇━━━━━━━━━━━━╇━━━━━━━━━━━━━━━━━━━┩\n",
              "│ input_images        │ (<span style=\"color: #00d7ff; text-decoration-color: #00d7ff\">None</span>, <span style=\"color: #00af00; text-decoration-color: #00af00\">8</span>, <span style=\"color: #00af00; text-decoration-color: #00af00\">8</span>, <span style=\"color: #00af00; text-decoration-color: #00af00\">1</span>)   │          <span style=\"color: #00af00; text-decoration-color: #00af00\">0</span> │ -                 │\n",
              "│ (<span style=\"color: #0087ff; text-decoration-color: #0087ff\">InputLayer</span>)        │                   │            │                   │\n",
              "├─────────────────────┼───────────────────┼────────────┼───────────────────┤\n",
              "│ multiply_2          │ (<span style=\"color: #00d7ff; text-decoration-color: #00d7ff\">None</span>, <span style=\"color: #00af00; text-decoration-color: #00af00\">8</span>, <span style=\"color: #00af00; text-decoration-color: #00af00\">8</span>, <span style=\"color: #00af00; text-decoration-color: #00af00\">1</span>)   │          <span style=\"color: #00af00; text-decoration-color: #00af00\">0</span> │ input_images[<span style=\"color: #00af00; text-decoration-color: #00af00\">0</span>][<span style=\"color: #00af00; text-decoration-color: #00af00\">…</span> │\n",
              "│ (<span style=\"color: #0087ff; text-decoration-color: #0087ff\">Multiply</span>)          │                   │            │ input_images[<span style=\"color: #00af00; text-decoration-color: #00af00\">0</span>][<span style=\"color: #00af00; text-decoration-color: #00af00\">…</span> │\n",
              "├─────────────────────┼───────────────────┼────────────┼───────────────────┤\n",
              "│ conv2d_2 (<span style=\"color: #0087ff; text-decoration-color: #0087ff\">Conv2D</span>)   │ (<span style=\"color: #00d7ff; text-decoration-color: #00d7ff\">None</span>, <span style=\"color: #00af00; text-decoration-color: #00af00\">6</span>, <span style=\"color: #00af00; text-decoration-color: #00af00\">6</span>, <span style=\"color: #00af00; text-decoration-color: #00af00\">32</span>)  │        <span style=\"color: #00af00; text-decoration-color: #00af00\">320</span> │ multiply_2[<span style=\"color: #00af00; text-decoration-color: #00af00\">0</span>][<span style=\"color: #00af00; text-decoration-color: #00af00\">0</span>]  │\n",
              "├─────────────────────┼───────────────────┼────────────┼───────────────────┤\n",
              "│ max_pooling2d_2     │ (<span style=\"color: #00d7ff; text-decoration-color: #00d7ff\">None</span>, <span style=\"color: #00af00; text-decoration-color: #00af00\">3</span>, <span style=\"color: #00af00; text-decoration-color: #00af00\">3</span>, <span style=\"color: #00af00; text-decoration-color: #00af00\">32</span>)  │          <span style=\"color: #00af00; text-decoration-color: #00af00\">0</span> │ conv2d_2[<span style=\"color: #00af00; text-decoration-color: #00af00\">0</span>][<span style=\"color: #00af00; text-decoration-color: #00af00\">0</span>]    │\n",
              "│ (<span style=\"color: #0087ff; text-decoration-color: #0087ff\">MaxPooling2D</span>)      │                   │            │                   │\n",
              "├─────────────────────┼───────────────────┼────────────┼───────────────────┤\n",
              "│ flatten_3 (<span style=\"color: #0087ff; text-decoration-color: #0087ff\">Flatten</span>) │ (<span style=\"color: #00d7ff; text-decoration-color: #00d7ff\">None</span>, <span style=\"color: #00af00; text-decoration-color: #00af00\">288</span>)       │          <span style=\"color: #00af00; text-decoration-color: #00af00\">0</span> │ max_pooling2d_2[<span style=\"color: #00af00; text-decoration-color: #00af00\">…</span> │\n",
              "├─────────────────────┼───────────────────┼────────────┼───────────────────┤\n",
              "│ fc1 (<span style=\"color: #0087ff; text-decoration-color: #0087ff\">Dense</span>)         │ (<span style=\"color: #00d7ff; text-decoration-color: #00d7ff\">None</span>, <span style=\"color: #00af00; text-decoration-color: #00af00\">2048</span>)      │    <span style=\"color: #00af00; text-decoration-color: #00af00\">591,872</span> │ flatten_3[<span style=\"color: #00af00; text-decoration-color: #00af00\">0</span>][<span style=\"color: #00af00; text-decoration-color: #00af00\">0</span>]   │\n",
              "├─────────────────────┼───────────────────┼────────────┼───────────────────┤\n",
              "│ dropout_6 (<span style=\"color: #0087ff; text-decoration-color: #0087ff\">Dropout</span>) │ (<span style=\"color: #00d7ff; text-decoration-color: #00d7ff\">None</span>, <span style=\"color: #00af00; text-decoration-color: #00af00\">2048</span>)      │          <span style=\"color: #00af00; text-decoration-color: #00af00\">0</span> │ fc1[<span style=\"color: #00af00; text-decoration-color: #00af00\">0</span>][<span style=\"color: #00af00; text-decoration-color: #00af00\">0</span>]         │\n",
              "├─────────────────────┼───────────────────┼────────────┼───────────────────┤\n",
              "│ fc2 (<span style=\"color: #0087ff; text-decoration-color: #0087ff\">Dense</span>)         │ (<span style=\"color: #00d7ff; text-decoration-color: #00d7ff\">None</span>, <span style=\"color: #00af00; text-decoration-color: #00af00\">512</span>)       │  <span style=\"color: #00af00; text-decoration-color: #00af00\">1,049,088</span> │ dropout_6[<span style=\"color: #00af00; text-decoration-color: #00af00\">0</span>][<span style=\"color: #00af00; text-decoration-color: #00af00\">0</span>]   │\n",
              "├─────────────────────┼───────────────────┼────────────┼───────────────────┤\n",
              "│ dropout_7 (<span style=\"color: #0087ff; text-decoration-color: #0087ff\">Dropout</span>) │ (<span style=\"color: #00d7ff; text-decoration-color: #00d7ff\">None</span>, <span style=\"color: #00af00; text-decoration-color: #00af00\">512</span>)       │          <span style=\"color: #00af00; text-decoration-color: #00af00\">0</span> │ fc2[<span style=\"color: #00af00; text-decoration-color: #00af00\">0</span>][<span style=\"color: #00af00; text-decoration-color: #00af00\">0</span>]         │\n",
              "├─────────────────────┼───────────────────┼────────────┼───────────────────┤\n",
              "│ output (<span style=\"color: #0087ff; text-decoration-color: #0087ff\">Dense</span>)      │ (<span style=\"color: #00d7ff; text-decoration-color: #00d7ff\">None</span>, <span style=\"color: #00af00; text-decoration-color: #00af00\">7</span>)         │      <span style=\"color: #00af00; text-decoration-color: #00af00\">3,591</span> │ dropout_7[<span style=\"color: #00af00; text-decoration-color: #00af00\">0</span>][<span style=\"color: #00af00; text-decoration-color: #00af00\">0</span>]   │\n",
              "└─────────────────────┴───────────────────┴────────────┴───────────────────┘\n",
              "</pre>\n"
            ],
            "text/plain": [
              "┏━━━━━━━━━━━━━━━━━━━━━┳━━━━━━━━━━━━━━━━━━━┳━━━━━━━━━━━━┳━━━━━━━━━━━━━━━━━━━┓\n",
              "┃\u001b[1m \u001b[0m\u001b[1mLayer (type)       \u001b[0m\u001b[1m \u001b[0m┃\u001b[1m \u001b[0m\u001b[1mOutput Shape     \u001b[0m\u001b[1m \u001b[0m┃\u001b[1m \u001b[0m\u001b[1m   Param #\u001b[0m\u001b[1m \u001b[0m┃\u001b[1m \u001b[0m\u001b[1mConnected to     \u001b[0m\u001b[1m \u001b[0m┃\n",
              "┡━━━━━━━━━━━━━━━━━━━━━╇━━━━━━━━━━━━━━━━━━━╇━━━━━━━━━━━━╇━━━━━━━━━━━━━━━━━━━┩\n",
              "│ input_images        │ (\u001b[38;5;45mNone\u001b[0m, \u001b[38;5;34m8\u001b[0m, \u001b[38;5;34m8\u001b[0m, \u001b[38;5;34m1\u001b[0m)   │          \u001b[38;5;34m0\u001b[0m │ -                 │\n",
              "│ (\u001b[38;5;33mInputLayer\u001b[0m)        │                   │            │                   │\n",
              "├─────────────────────┼───────────────────┼────────────┼───────────────────┤\n",
              "│ multiply_2          │ (\u001b[38;5;45mNone\u001b[0m, \u001b[38;5;34m8\u001b[0m, \u001b[38;5;34m8\u001b[0m, \u001b[38;5;34m1\u001b[0m)   │          \u001b[38;5;34m0\u001b[0m │ input_images[\u001b[38;5;34m0\u001b[0m][\u001b[38;5;34m…\u001b[0m │\n",
              "│ (\u001b[38;5;33mMultiply\u001b[0m)          │                   │            │ input_images[\u001b[38;5;34m0\u001b[0m][\u001b[38;5;34m…\u001b[0m │\n",
              "├─────────────────────┼───────────────────┼────────────┼───────────────────┤\n",
              "│ conv2d_2 (\u001b[38;5;33mConv2D\u001b[0m)   │ (\u001b[38;5;45mNone\u001b[0m, \u001b[38;5;34m6\u001b[0m, \u001b[38;5;34m6\u001b[0m, \u001b[38;5;34m32\u001b[0m)  │        \u001b[38;5;34m320\u001b[0m │ multiply_2[\u001b[38;5;34m0\u001b[0m][\u001b[38;5;34m0\u001b[0m]  │\n",
              "├─────────────────────┼───────────────────┼────────────┼───────────────────┤\n",
              "│ max_pooling2d_2     │ (\u001b[38;5;45mNone\u001b[0m, \u001b[38;5;34m3\u001b[0m, \u001b[38;5;34m3\u001b[0m, \u001b[38;5;34m32\u001b[0m)  │          \u001b[38;5;34m0\u001b[0m │ conv2d_2[\u001b[38;5;34m0\u001b[0m][\u001b[38;5;34m0\u001b[0m]    │\n",
              "│ (\u001b[38;5;33mMaxPooling2D\u001b[0m)      │                   │            │                   │\n",
              "├─────────────────────┼───────────────────┼────────────┼───────────────────┤\n",
              "│ flatten_3 (\u001b[38;5;33mFlatten\u001b[0m) │ (\u001b[38;5;45mNone\u001b[0m, \u001b[38;5;34m288\u001b[0m)       │          \u001b[38;5;34m0\u001b[0m │ max_pooling2d_2[\u001b[38;5;34m…\u001b[0m │\n",
              "├─────────────────────┼───────────────────┼────────────┼───────────────────┤\n",
              "│ fc1 (\u001b[38;5;33mDense\u001b[0m)         │ (\u001b[38;5;45mNone\u001b[0m, \u001b[38;5;34m2048\u001b[0m)      │    \u001b[38;5;34m591,872\u001b[0m │ flatten_3[\u001b[38;5;34m0\u001b[0m][\u001b[38;5;34m0\u001b[0m]   │\n",
              "├─────────────────────┼───────────────────┼────────────┼───────────────────┤\n",
              "│ dropout_6 (\u001b[38;5;33mDropout\u001b[0m) │ (\u001b[38;5;45mNone\u001b[0m, \u001b[38;5;34m2048\u001b[0m)      │          \u001b[38;5;34m0\u001b[0m │ fc1[\u001b[38;5;34m0\u001b[0m][\u001b[38;5;34m0\u001b[0m]         │\n",
              "├─────────────────────┼───────────────────┼────────────┼───────────────────┤\n",
              "│ fc2 (\u001b[38;5;33mDense\u001b[0m)         │ (\u001b[38;5;45mNone\u001b[0m, \u001b[38;5;34m512\u001b[0m)       │  \u001b[38;5;34m1,049,088\u001b[0m │ dropout_6[\u001b[38;5;34m0\u001b[0m][\u001b[38;5;34m0\u001b[0m]   │\n",
              "├─────────────────────┼───────────────────┼────────────┼───────────────────┤\n",
              "│ dropout_7 (\u001b[38;5;33mDropout\u001b[0m) │ (\u001b[38;5;45mNone\u001b[0m, \u001b[38;5;34m512\u001b[0m)       │          \u001b[38;5;34m0\u001b[0m │ fc2[\u001b[38;5;34m0\u001b[0m][\u001b[38;5;34m0\u001b[0m]         │\n",
              "├─────────────────────┼───────────────────┼────────────┼───────────────────┤\n",
              "│ output (\u001b[38;5;33mDense\u001b[0m)      │ (\u001b[38;5;45mNone\u001b[0m, \u001b[38;5;34m7\u001b[0m)         │      \u001b[38;5;34m3,591\u001b[0m │ dropout_7[\u001b[38;5;34m0\u001b[0m][\u001b[38;5;34m0\u001b[0m]   │\n",
              "└─────────────────────┴───────────────────┴────────────┴───────────────────┘\n"
            ]
          },
          "metadata": {},
          "output_type": "display_data"
        },
        {
          "data": {
            "text/html": [
              "<pre style=\"white-space:pre;overflow-x:auto;line-height:normal;font-family:Menlo,'DejaVu Sans Mono',consolas,'Courier New',monospace\"><span style=\"font-weight: bold\"> Total params: </span><span style=\"color: #00af00; text-decoration-color: #00af00\">1,644,871</span> (6.27 MB)\n",
              "</pre>\n"
            ],
            "text/plain": [
              "\u001b[1m Total params: \u001b[0m\u001b[38;5;34m1,644,871\u001b[0m (6.27 MB)\n"
            ]
          },
          "metadata": {},
          "output_type": "display_data"
        },
        {
          "data": {
            "text/html": [
              "<pre style=\"white-space:pre;overflow-x:auto;line-height:normal;font-family:Menlo,'DejaVu Sans Mono',consolas,'Courier New',monospace\"><span style=\"font-weight: bold\"> Trainable params: </span><span style=\"color: #00af00; text-decoration-color: #00af00\">1,644,871</span> (6.27 MB)\n",
              "</pre>\n"
            ],
            "text/plain": [
              "\u001b[1m Trainable params: \u001b[0m\u001b[38;5;34m1,644,871\u001b[0m (6.27 MB)\n"
            ]
          },
          "metadata": {},
          "output_type": "display_data"
        },
        {
          "data": {
            "text/html": [
              "<pre style=\"white-space:pre;overflow-x:auto;line-height:normal;font-family:Menlo,'DejaVu Sans Mono',consolas,'Courier New',monospace\"><span style=\"font-weight: bold\"> Non-trainable params: </span><span style=\"color: #00af00; text-decoration-color: #00af00\">0</span> (0.00 B)\n",
              "</pre>\n"
            ],
            "text/plain": [
              "\u001b[1m Non-trainable params: \u001b[0m\u001b[38;5;34m0\u001b[0m (0.00 B)\n"
            ]
          },
          "metadata": {},
          "output_type": "display_data"
        },
        {
          "name": "stdout",
          "output_type": "stream",
          "text": [
            "Epoch 1/50\n",
            "\u001b[1m6/6\u001b[0m \u001b[32m━━━━━━━━━━━━━━━━━━━━\u001b[0m\u001b[37m\u001b[0m \u001b[1m2s\u001b[0m 89ms/step - accuracy: 0.1438 - loss: 746141.8750 - val_accuracy: 0.1957 - val_loss: 308453.6875\n",
            "Epoch 2/50\n",
            "\u001b[1m6/6\u001b[0m \u001b[32m━━━━━━━━━━━━━━━━━━━━\u001b[0m\u001b[37m\u001b[0m \u001b[1m0s\u001b[0m 58ms/step - accuracy: 0.1355 - loss: 323839.9375 - val_accuracy: 0.1467 - val_loss: 89359.9922\n",
            "Epoch 3/50\n",
            "\u001b[1m6/6\u001b[0m \u001b[32m━━━━━━━━━━━━━━━━━━━━\u001b[0m\u001b[37m\u001b[0m \u001b[1m0s\u001b[0m 53ms/step - accuracy: 0.1639 - loss: 115183.9766 - val_accuracy: 0.1413 - val_loss: 17763.0703\n",
            "Epoch 4/50\n",
            "\u001b[1m6/6\u001b[0m \u001b[32m━━━━━━━━━━━━━━━━━━━━\u001b[0m\u001b[37m\u001b[0m \u001b[1m0s\u001b[0m 49ms/step - accuracy: 0.1542 - loss: 46868.5938 - val_accuracy: 0.1304 - val_loss: 1157.8823\n",
            "Epoch 5/50\n",
            "\u001b[1m6/6\u001b[0m \u001b[32m━━━━━━━━━━━━━━━━━━━━\u001b[0m\u001b[37m\u001b[0m \u001b[1m0s\u001b[0m 46ms/step - accuracy: 0.1469 - loss: 13721.7178 - val_accuracy: 0.1413 - val_loss: 1.9458\n",
            "Epoch 6/50\n",
            "\u001b[1m6/6\u001b[0m \u001b[32m━━━━━━━━━━━━━━━━━━━━\u001b[0m\u001b[37m\u001b[0m \u001b[1m0s\u001b[0m 56ms/step - accuracy: 0.1479 - loss: 4588.9189 - val_accuracy: 0.1413 - val_loss: 1.9458\n",
            "Epoch 7/50\n",
            "\u001b[1m6/6\u001b[0m \u001b[32m━━━━━━━━━━━━━━━━━━━━\u001b[0m\u001b[37m\u001b[0m \u001b[1m0s\u001b[0m 47ms/step - accuracy: 0.1505 - loss: 1566.5071 - val_accuracy: 0.1413 - val_loss: 1.9459\n",
            "Epoch 8/50\n",
            "\u001b[1m6/6\u001b[0m \u001b[32m━━━━━━━━━━━━━━━━━━━━\u001b[0m\u001b[37m\u001b[0m \u001b[1m0s\u001b[0m 47ms/step - accuracy: 0.1414 - loss: 637.3165 - val_accuracy: 0.1413 - val_loss: 1.9459\n",
            "Epoch 9/50\n",
            "\u001b[1m6/6\u001b[0m \u001b[32m━━━━━━━━━━━━━━━━━━━━\u001b[0m\u001b[37m\u001b[0m \u001b[1m0s\u001b[0m 50ms/step - accuracy: 0.1609 - loss: 335.3041 - val_accuracy: 0.0978 - val_loss: 1.9460\n",
            "Epoch 10/50\n",
            "\u001b[1m6/6\u001b[0m \u001b[32m━━━━━━━━━━━━━━━━━━━━\u001b[0m\u001b[37m\u001b[0m \u001b[1m0s\u001b[0m 47ms/step - accuracy: 0.1371 - loss: 176.3503 - val_accuracy: 0.0978 - val_loss: 1.9460\n",
            "Epoch 11/50\n",
            "\u001b[1m6/6\u001b[0m \u001b[32m━━━━━━━━━━━━━━━━━━━━\u001b[0m\u001b[37m\u001b[0m \u001b[1m0s\u001b[0m 47ms/step - accuracy: 0.1669 - loss: 167.4843 - val_accuracy: 0.0978 - val_loss: 1.9461\n",
            "Epoch 12/50\n",
            "\u001b[1m6/6\u001b[0m \u001b[32m━━━━━━━━━━━━━━━━━━━━\u001b[0m\u001b[37m\u001b[0m \u001b[1m0s\u001b[0m 49ms/step - accuracy: 0.1482 - loss: 75.6321 - val_accuracy: 0.0978 - val_loss: 1.9461\n",
            "Epoch 13/50\n",
            "\u001b[1m6/6\u001b[0m \u001b[32m━━━━━━━━━━━━━━━━━━━━\u001b[0m\u001b[37m\u001b[0m \u001b[1m0s\u001b[0m 50ms/step - accuracy: 0.1517 - loss: 161.6495 - val_accuracy: 0.0978 - val_loss: 1.9462\n",
            "Epoch 14/50\n",
            "\u001b[1m6/6\u001b[0m \u001b[32m━━━━━━━━━━━━━━━━━━━━\u001b[0m\u001b[37m\u001b[0m \u001b[1m1s\u001b[0m 47ms/step - accuracy: 0.1382 - loss: 222.5973 - val_accuracy: 0.0978 - val_loss: 1.9462\n",
            "Epoch 15/50\n",
            "\u001b[1m6/6\u001b[0m \u001b[32m━━━━━━━━━━━━━━━━━━━━\u001b[0m\u001b[37m\u001b[0m \u001b[1m0s\u001b[0m 60ms/step - accuracy: 0.1562 - loss: 119.8334 - val_accuracy: 0.0978 - val_loss: 1.9462\n",
            "Epoch 16/50\n",
            "\u001b[1m6/6\u001b[0m \u001b[32m━━━━━━━━━━━━━━━━━━━━\u001b[0m\u001b[37m\u001b[0m \u001b[1m0s\u001b[0m 53ms/step - accuracy: 0.1630 - loss: 114.1257 - val_accuracy: 0.0978 - val_loss: 1.9463\n",
            "Epoch 17/50\n",
            "\u001b[1m6/6\u001b[0m \u001b[32m━━━━━━━━━━━━━━━━━━━━\u001b[0m\u001b[37m\u001b[0m \u001b[1m0s\u001b[0m 49ms/step - accuracy: 0.1593 - loss: 97.4456 - val_accuracy: 0.0978 - val_loss: 1.9464\n",
            "Epoch 18/50\n",
            "\u001b[1m6/6\u001b[0m \u001b[32m━━━━━━━━━━━━━━━━━━━━\u001b[0m\u001b[37m\u001b[0m \u001b[1m0s\u001b[0m 50ms/step - accuracy: 0.1458 - loss: 69.5170 - val_accuracy: 0.0978 - val_loss: 1.9464\n",
            "Epoch 19/50\n",
            "\u001b[1m6/6\u001b[0m \u001b[32m━━━━━━━━━━━━━━━━━━━━\u001b[0m\u001b[37m\u001b[0m \u001b[1m0s\u001b[0m 50ms/step - accuracy: 0.1436 - loss: 44.7282 - val_accuracy: 0.0978 - val_loss: 1.9465\n",
            "Epoch 20/50\n",
            "\u001b[1m6/6\u001b[0m \u001b[32m━━━━━━━━━━━━━━━━━━━━\u001b[0m\u001b[37m\u001b[0m \u001b[1m0s\u001b[0m 49ms/step - accuracy: 0.1483 - loss: 26.5281 - val_accuracy: 0.0978 - val_loss: 1.9465\n",
            "Epoch 21/50\n",
            "\u001b[1m6/6\u001b[0m \u001b[32m━━━━━━━━━━━━━━━━━━━━\u001b[0m\u001b[37m\u001b[0m \u001b[1m0s\u001b[0m 59ms/step - accuracy: 0.1459 - loss: 74.7679 - val_accuracy: 0.0978 - val_loss: 1.9465\n",
            "Epoch 22/50\n",
            "\u001b[1m6/6\u001b[0m \u001b[32m━━━━━━━━━━━━━━━━━━━━\u001b[0m\u001b[37m\u001b[0m \u001b[1m1s\u001b[0m 51ms/step - accuracy: 0.1409 - loss: 43.3097 - val_accuracy: 0.0978 - val_loss: 1.9466\n",
            "Epoch 23/50\n",
            "\u001b[1m6/6\u001b[0m \u001b[32m━━━━━━━━━━━━━━━━━━━━\u001b[0m\u001b[37m\u001b[0m \u001b[1m0s\u001b[0m 60ms/step - accuracy: 0.1368 - loss: 29.7140 - val_accuracy: 0.0978 - val_loss: 1.9466\n",
            "Epoch 24/50\n",
            "\u001b[1m6/6\u001b[0m \u001b[32m━━━━━━━━━━━━━━━━━━━━\u001b[0m\u001b[37m\u001b[0m \u001b[1m0s\u001b[0m 51ms/step - accuracy: 0.1500 - loss: 39.5767 - val_accuracy: 0.0978 - val_loss: 1.9467\n",
            "Epoch 25/50\n",
            "\u001b[1m6/6\u001b[0m \u001b[32m━━━━━━━━━━━━━━━━━━━━\u001b[0m\u001b[37m\u001b[0m \u001b[1m0s\u001b[0m 50ms/step - accuracy: 0.1370 - loss: 30.4920 - val_accuracy: 0.0978 - val_loss: 1.9467\n",
            "Epoch 26/50\n",
            "\u001b[1m6/6\u001b[0m \u001b[32m━━━━━━━━━━━━━━━━━━━━\u001b[0m\u001b[37m\u001b[0m \u001b[1m0s\u001b[0m 54ms/step - accuracy: 0.1417 - loss: 16.8241 - val_accuracy: 0.0978 - val_loss: 1.9468\n",
            "Epoch 27/50\n",
            "\u001b[1m6/6\u001b[0m \u001b[32m━━━━━━━━━━━━━━━━━━━━\u001b[0m\u001b[37m\u001b[0m \u001b[1m1s\u001b[0m 49ms/step - accuracy: 0.1425 - loss: 25.7347 - val_accuracy: 0.0978 - val_loss: 1.9469\n",
            "Epoch 28/50\n",
            "\u001b[1m6/6\u001b[0m \u001b[32m━━━━━━━━━━━━━━━━━━━━\u001b[0m\u001b[37m\u001b[0m \u001b[1m0s\u001b[0m 65ms/step - accuracy: 0.1410 - loss: 36.3885 - val_accuracy: 0.0978 - val_loss: 1.9469\n",
            "Epoch 29/50\n",
            "\u001b[1m6/6\u001b[0m \u001b[32m━━━━━━━━━━━━━━━━━━━━\u001b[0m\u001b[37m\u001b[0m \u001b[1m1s\u001b[0m 50ms/step - accuracy: 0.1348 - loss: 11.2579 - val_accuracy: 0.0978 - val_loss: 1.9470\n",
            "Epoch 30/50\n",
            "\u001b[1m6/6\u001b[0m \u001b[32m━━━━━━━━━━━━━━━━━━━━\u001b[0m\u001b[37m\u001b[0m \u001b[1m0s\u001b[0m 53ms/step - accuracy: 0.1480 - loss: 1.9455 - val_accuracy: 0.0978 - val_loss: 1.9471\n",
            "Epoch 31/50\n",
            "\u001b[1m6/6\u001b[0m \u001b[32m━━━━━━━━━━━━━━━━━━━━\u001b[0m\u001b[37m\u001b[0m \u001b[1m0s\u001b[0m 55ms/step - accuracy: 0.1530 - loss: 58.1632 - val_accuracy: 0.0978 - val_loss: 1.9471\n",
            "Epoch 32/50\n",
            "\u001b[1m6/6\u001b[0m \u001b[32m━━━━━━━━━━━━━━━━━━━━\u001b[0m\u001b[37m\u001b[0m \u001b[1m0s\u001b[0m 61ms/step - accuracy: 0.1444 - loss: 14.6324 - val_accuracy: 0.0978 - val_loss: 1.9472\n",
            "Epoch 33/50\n",
            "\u001b[1m6/6\u001b[0m \u001b[32m━━━━━━━━━━━━━━━━━━━━\u001b[0m\u001b[37m\u001b[0m \u001b[1m0s\u001b[0m 81ms/step - accuracy: 0.1440 - loss: 46.8539 - val_accuracy: 0.0978 - val_loss: 1.9472\n",
            "Epoch 34/50\n",
            "\u001b[1m6/6\u001b[0m \u001b[32m━━━━━━━━━━━━━━━━━━━━\u001b[0m\u001b[37m\u001b[0m \u001b[1m1s\u001b[0m 82ms/step - accuracy: 0.1517 - loss: 16.6812 - val_accuracy: 0.0978 - val_loss: 1.9473\n",
            "Epoch 35/50\n",
            "\u001b[1m6/6\u001b[0m \u001b[32m━━━━━━━━━━━━━━━━━━━━\u001b[0m\u001b[37m\u001b[0m \u001b[1m1s\u001b[0m 89ms/step - accuracy: 0.1513 - loss: 8.7242 - val_accuracy: 0.0978 - val_loss: 1.9474\n",
            "Epoch 36/50\n",
            "\u001b[1m6/6\u001b[0m \u001b[32m━━━━━━━━━━━━━━━━━━━━\u001b[0m\u001b[37m\u001b[0m \u001b[1m0s\u001b[0m 51ms/step - accuracy: 0.1515 - loss: 9.8047 - val_accuracy: 0.0978 - val_loss: 1.9474\n",
            "Epoch 37/50\n",
            "\u001b[1m6/6\u001b[0m \u001b[32m━━━━━━━━━━━━━━━━━━━━\u001b[0m\u001b[37m\u001b[0m \u001b[1m1s\u001b[0m 56ms/step - accuracy: 0.1579 - loss: 29.8051 - val_accuracy: 0.1467 - val_loss: 1.9474\n",
            "Epoch 38/50\n",
            "\u001b[1m6/6\u001b[0m \u001b[32m━━━━━━━━━━━━━━━━━━━━\u001b[0m\u001b[37m\u001b[0m \u001b[1m0s\u001b[0m 61ms/step - accuracy: 0.1337 - loss: 30.4575 - val_accuracy: 0.0978 - val_loss: 1.9475\n",
            "Epoch 39/50\n",
            "\u001b[1m6/6\u001b[0m \u001b[32m━━━━━━━━━━━━━━━━━━━━\u001b[0m\u001b[37m\u001b[0m \u001b[1m1s\u001b[0m 49ms/step - accuracy: 0.1375 - loss: 13.5328 - val_accuracy: 0.0978 - val_loss: 1.9475\n",
            "Epoch 40/50\n",
            "\u001b[1m6/6\u001b[0m \u001b[32m━━━━━━━━━━━━━━━━━━━━\u001b[0m\u001b[37m\u001b[0m \u001b[1m0s\u001b[0m 53ms/step - accuracy: 0.1540 - loss: 32.1580 - val_accuracy: 0.1467 - val_loss: 1.9476\n",
            "Epoch 41/50\n",
            "\u001b[1m6/6\u001b[0m \u001b[32m━━━━━━━━━━━━━━━━━━━━\u001b[0m\u001b[37m\u001b[0m \u001b[1m0s\u001b[0m 53ms/step - accuracy: 0.1409 - loss: 76.2253 - val_accuracy: 0.1467 - val_loss: 1.9476\n",
            "Epoch 42/50\n",
            "\u001b[1m6/6\u001b[0m \u001b[32m━━━━━━━━━━━━━━━━━━━━\u001b[0m\u001b[37m\u001b[0m \u001b[1m1s\u001b[0m 60ms/step - accuracy: 0.1610 - loss: 10.1627 - val_accuracy: 0.1467 - val_loss: 1.9477\n",
            "Epoch 43/50\n",
            "\u001b[1m6/6\u001b[0m \u001b[32m━━━━━━━━━━━━━━━━━━━━\u001b[0m\u001b[37m\u001b[0m \u001b[1m0s\u001b[0m 51ms/step - accuracy: 0.1465 - loss: 20.9845 - val_accuracy: 0.1467 - val_loss: 1.9477\n",
            "Epoch 44/50\n",
            "\u001b[1m6/6\u001b[0m \u001b[32m━━━━━━━━━━━━━━━━━━━━\u001b[0m\u001b[37m\u001b[0m \u001b[1m0s\u001b[0m 53ms/step - accuracy: 0.1539 - loss: 14.2152 - val_accuracy: 0.1467 - val_loss: 1.9477\n",
            "Epoch 45/50\n",
            "\u001b[1m6/6\u001b[0m \u001b[32m━━━━━━━━━━━━━━━━━━━━\u001b[0m\u001b[37m\u001b[0m \u001b[1m1s\u001b[0m 55ms/step - accuracy: 0.1513 - loss: 10.6387 - val_accuracy: 0.1467 - val_loss: 1.9478\n",
            "Epoch 46/50\n",
            "\u001b[1m6/6\u001b[0m \u001b[32m━━━━━━━━━━━━━━━━━━━━\u001b[0m\u001b[37m\u001b[0m \u001b[1m0s\u001b[0m 55ms/step - accuracy: 0.1484 - loss: 89.9869 - val_accuracy: 0.1467 - val_loss: 1.9478\n",
            "Epoch 47/50\n",
            "\u001b[1m6/6\u001b[0m \u001b[32m━━━━━━━━━━━━━━━━━━━━\u001b[0m\u001b[37m\u001b[0m \u001b[1m0s\u001b[0m 54ms/step - accuracy: 0.1591 - loss: 10.1305 - val_accuracy: 0.1467 - val_loss: 1.9479\n",
            "Epoch 48/50\n",
            "\u001b[1m6/6\u001b[0m \u001b[32m━━━━━━━━━━━━━━━━━━━━\u001b[0m\u001b[37m\u001b[0m \u001b[1m0s\u001b[0m 49ms/step - accuracy: 0.1515 - loss: 8.1916 - val_accuracy: 0.1467 - val_loss: 1.9479\n",
            "Epoch 49/50\n",
            "\u001b[1m6/6\u001b[0m \u001b[32m━━━━━━━━━━━━━━━━━━━━\u001b[0m\u001b[37m\u001b[0m \u001b[1m0s\u001b[0m 56ms/step - accuracy: 0.1525 - loss: 27.1863 - val_accuracy: 0.1467 - val_loss: 1.9479\n",
            "Epoch 50/50\n",
            "\u001b[1m6/6\u001b[0m \u001b[32m━━━━━━━━━━━━━━━━━━━━\u001b[0m\u001b[37m\u001b[0m \u001b[1m0s\u001b[0m 53ms/step - accuracy: 0.1383 - loss: 17.8189 - val_accuracy: 0.1467 - val_loss: 1.9480\n"
          ]
        },
        {
          "name": "stderr",
          "output_type": "stream",
          "text": [
            "WARNING:absl:You are saving your model as an HDF5 file via `model.save()` or `keras.saving.save_model(model)`. This file format is considered legacy. We recommend using instead the native Keras format, e.g. `model.save('my_model.keras')` or `keras.saving.save_model(model, 'my_model.keras')`. \n"
          ]
        }
      ],
      "source": [
        "import numpy as np\n",
        "import tensorflow as tf\n",
        "from tensorflow.keras import layers, models\n",
        "\n",
        "# Converter a lista de imagens em um numpy array e adicionar uma dimensão para o canal\n",
        "frequency_input = np.array(frequency_input).reshape(-1, 8, 8, 1)\n",
        "\n",
        "# Gerar labels fictícias para o exemplo\n",
        "# Em um caso real, você deve ter suas labels reais\n",
        "frequency_labels = np.random.randint(0, 7, size=(920, 1))\n",
        "frequency_labels = tf.keras.utils.to_categorical(frequency_labels, 7)\n",
        "\n",
        "# Determinar o batch size e número de epochs\n",
        "batch_size = 128\n",
        "epochs = 50\n",
        "\n",
        "# Definir a arquitetura do modelo\n",
        "input_images = tf.keras.Input(shape=(8, 8, 1), name='input_images')\n",
        "\n",
        "# Multiplication layers\n",
        "x = layers.Multiply()([input_images, input_images])  # Exemplo de camada de multiplicação\n",
        "\n",
        "# Summarization layer\n",
        "x = layers.Conv2D(32, (3, 3), activation='relu')(x)\n",
        "x = layers.MaxPooling2D((2, 2))(x)\n",
        "\n",
        "# Flatten e camadas totalmente conectadas para classificação\n",
        "flattened_images = layers.Flatten()(x)\n",
        "fc1 = layers.Dense(2048, activation='relu', name='fc1')(flattened_images)\n",
        "dropout1 = layers.Dropout(0.5)(fc1)\n",
        "fc2 = layers.Dense(512, activation='relu', name='fc2')(dropout1)\n",
        "dropout2 = layers.Dropout(0.5)(fc2)\n",
        "output = layers.Dense(7, activation='softmax', name='output')(dropout2)\n",
        "\n",
        "# Criar e compilar o modelo\n",
        "model = models.Model(inputs=input_images, outputs=output)\n",
        "model.compile(optimizer='adam', loss='categorical_crossentropy', metrics=['accuracy'])\n",
        "\n",
        "# Sumário do modelo\n",
        "model.summary()\n",
        "\n",
        "# Treinar o modelo\n",
        "model.fit(frequency_input, frequency_labels, epochs=epochs, batch_size=batch_size, validation_split=0.2)\n",
        "\n",
        "# Salvar o modelo treinado\n",
        "model.save('frenet_model.h5')\n"
      ]
    },
    {
      "cell_type": "code",
      "execution_count": null,
      "metadata": {},
      "outputs": [],
      "source": []
    }
  ],
  "metadata": {
    "accelerator": "GPU",
    "colab": {
      "collapsed_sections": [
        "ebU8jxH5xTqU",
        "8cfUewjQ2uOX",
        "rVVDTzGJ0Y_0"
      ],
      "gpuType": "L4",
      "include_colab_link": true,
      "machine_shape": "hm",
      "provenance": []
    },
    "kernelspec": {
      "display_name": "Python 3",
      "name": "python3"
    },
    "language_info": {
      "codemirror_mode": {
        "name": "ipython",
        "version": 3
      },
      "file_extension": ".py",
      "mimetype": "text/x-python",
      "name": "python",
      "nbconvert_exporter": "python",
      "pygments_lexer": "ipython3",
      "version": "3.10.12"
    }
  },
  "nbformat": 4,
  "nbformat_minor": 0
}
