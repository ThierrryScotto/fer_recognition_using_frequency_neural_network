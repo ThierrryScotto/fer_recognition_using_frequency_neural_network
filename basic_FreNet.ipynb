{
  "cells": [
    {
      "cell_type": "markdown",
      "metadata": {
        "colab_type": "text",
        "id": "view-in-github"
      },
      "source": [
        "<a href=\"https://colab.research.google.com/github/ThierrryScotto/fer_recognition_using_frequency_neural_network/blob/master/basic_FreNet.ipynb\" target=\"_parent\"><img src=\"https://colab.research.google.com/assets/colab-badge.svg\" alt=\"Open In Colab\"/></a>"
      ]
    },
    {
      "cell_type": "markdown",
      "metadata": {
        "id": "tINK-933xTqQ"
      },
      "source": [
        "# Importing libraries"
      ]
    },
    {
      "cell_type": "code",
      "execution_count": 1,
      "metadata": {
        "id": "Xu1lPfdnxTqS"
      },
      "outputs": [
        {
          "name": "stderr",
          "output_type": "stream",
          "text": [
            "2024-07-30 18:40:24.333312: I external/local_xla/xla/tsl/cuda/cudart_stub.cc:32] Could not find cuda drivers on your machine, GPU will not be used.\n",
            "2024-07-30 18:40:24.388595: I external/local_xla/xla/tsl/cuda/cudart_stub.cc:32] Could not find cuda drivers on your machine, GPU will not be used.\n",
            "2024-07-30 18:40:24.447921: E external/local_xla/xla/stream_executor/cuda/cuda_fft.cc:485] Unable to register cuFFT factory: Attempting to register factory for plugin cuFFT when one has already been registered\n",
            "2024-07-30 18:40:24.513830: E external/local_xla/xla/stream_executor/cuda/cuda_dnn.cc:8454] Unable to register cuDNN factory: Attempting to register factory for plugin cuDNN when one has already been registered\n",
            "2024-07-30 18:40:24.535257: E external/local_xla/xla/stream_executor/cuda/cuda_blas.cc:1452] Unable to register cuBLAS factory: Attempting to register factory for plugin cuBLAS when one has already been registered\n",
            "2024-07-30 18:40:24.644254: I tensorflow/core/platform/cpu_feature_guard.cc:210] This TensorFlow binary is optimized to use available CPU instructions in performance-critical operations.\n",
            "To enable the following instructions: AVX2 FMA, in other operations, rebuild TensorFlow with the appropriate compiler flags.\n",
            "2024-07-30 18:40:27.053403: W tensorflow/compiler/tf2tensorrt/utils/py_utils.cc:38] TF-TRT Warning: Could not find TensorRT\n"
          ]
        }
      ],
      "source": [
        "import numpy as np\n",
        "import pandas as pd\n",
        "import tensorflow as tf\n",
        "import matplotlib.pyplot as plt\n",
        "import os\n",
        "\n",
        "from PIL import Image\n",
        "from scipy.fftpack import dct"
      ]
    },
    {
      "cell_type": "markdown",
      "metadata": {
        "id": "ebU8jxH5xTqU"
      },
      "source": [
        "# Importing dataset"
      ]
    },
    {
      "cell_type": "code",
      "execution_count": 2,
      "metadata": {
        "colab": {
          "base_uri": "https://localhost:8080/",
          "height": 424
        },
        "id": "yzbLfMuqxTqU",
        "outputId": "75015979-c104-4e39-df1c-1e18e762beb5"
      },
      "outputs": [
        {
          "data": {
            "text/html": [
              "<div>\n",
              "<style scoped>\n",
              "    .dataframe tbody tr th:only-of-type {\n",
              "        vertical-align: middle;\n",
              "    }\n",
              "\n",
              "    .dataframe tbody tr th {\n",
              "        vertical-align: top;\n",
              "    }\n",
              "\n",
              "    .dataframe thead th {\n",
              "        text-align: right;\n",
              "    }\n",
              "</style>\n",
              "<table border=\"1\" class=\"dataframe\">\n",
              "  <thead>\n",
              "    <tr style=\"text-align: right;\">\n",
              "      <th></th>\n",
              "      <th>emotion</th>\n",
              "      <th>pixels</th>\n",
              "      <th>Usage</th>\n",
              "    </tr>\n",
              "  </thead>\n",
              "  <tbody>\n",
              "    <tr>\n",
              "      <th>0</th>\n",
              "      <td>6</td>\n",
              "      <td>36 39 35 25 19 11 8 7 3 13 15 9 21 57 75 90 10...</td>\n",
              "      <td>Training</td>\n",
              "    </tr>\n",
              "    <tr>\n",
              "      <th>1</th>\n",
              "      <td>6</td>\n",
              "      <td>88 74 19 4 5 5 3 12 8 21 15 21 15 18 24 29 32 ...</td>\n",
              "      <td>Training</td>\n",
              "    </tr>\n",
              "    <tr>\n",
              "      <th>2</th>\n",
              "      <td>6</td>\n",
              "      <td>9 2 4 7 1 1 1 0 7 29 49 76 115 141 156 169 177...</td>\n",
              "      <td>Training</td>\n",
              "    </tr>\n",
              "    <tr>\n",
              "      <th>3</th>\n",
              "      <td>6</td>\n",
              "      <td>104 106 108 104 95 50 60 61 58 83 126 133 139 ...</td>\n",
              "      <td>Training</td>\n",
              "    </tr>\n",
              "    <tr>\n",
              "      <th>4</th>\n",
              "      <td>6</td>\n",
              "      <td>68 72 67 67 6 2 1 1 1 1 1 14 24 24 38 65 79 94...</td>\n",
              "      <td>Training</td>\n",
              "    </tr>\n",
              "    <tr>\n",
              "      <th>...</th>\n",
              "      <td>...</td>\n",
              "      <td>...</td>\n",
              "      <td>...</td>\n",
              "    </tr>\n",
              "    <tr>\n",
              "      <th>915</th>\n",
              "      <td>5</td>\n",
              "      <td>87 86 88 92 92 127 231 248 251 253 254 254 254...</td>\n",
              "      <td>PrivateTest</td>\n",
              "    </tr>\n",
              "    <tr>\n",
              "      <th>916</th>\n",
              "      <td>5</td>\n",
              "      <td>21 24 26 28 27 28 30 8 0 0 0 0 0 0 1 4 37 42 4...</td>\n",
              "      <td>PrivateTest</td>\n",
              "    </tr>\n",
              "    <tr>\n",
              "      <th>917</th>\n",
              "      <td>5</td>\n",
              "      <td>76 40 31 38 28 34 38 36 41 36 46 38 44 26 45 5...</td>\n",
              "      <td>PrivateTest</td>\n",
              "    </tr>\n",
              "    <tr>\n",
              "      <th>918</th>\n",
              "      <td>5</td>\n",
              "      <td>114 87 16 29 17 25 30 34 37 35 45 93 63 80 73 ...</td>\n",
              "      <td>PrivateTest</td>\n",
              "    </tr>\n",
              "    <tr>\n",
              "      <th>919</th>\n",
              "      <td>5</td>\n",
              "      <td>101 102 99 96 98 42 23 18 15 17 27 34 17 24 29...</td>\n",
              "      <td>PrivateTest</td>\n",
              "    </tr>\n",
              "  </tbody>\n",
              "</table>\n",
              "<p>920 rows × 3 columns</p>\n",
              "</div>"
            ],
            "text/plain": [
              "     emotion                                             pixels        Usage\n",
              "0          6  36 39 35 25 19 11 8 7 3 13 15 9 21 57 75 90 10...     Training\n",
              "1          6  88 74 19 4 5 5 3 12 8 21 15 21 15 18 24 29 32 ...     Training\n",
              "2          6  9 2 4 7 1 1 1 0 7 29 49 76 115 141 156 169 177...     Training\n",
              "3          6  104 106 108 104 95 50 60 61 58 83 126 133 139 ...     Training\n",
              "4          6  68 72 67 67 6 2 1 1 1 1 1 14 24 24 38 65 79 94...     Training\n",
              "..       ...                                                ...          ...\n",
              "915        5  87 86 88 92 92 127 231 248 251 253 254 254 254...  PrivateTest\n",
              "916        5  21 24 26 28 27 28 30 8 0 0 0 0 0 0 1 4 37 42 4...  PrivateTest\n",
              "917        5  76 40 31 38 28 34 38 36 41 36 46 38 44 26 45 5...  PrivateTest\n",
              "918        5  114 87 16 29 17 25 30 34 37 35 45 93 63 80 73 ...  PrivateTest\n",
              "919        5  101 102 99 96 98 42 23 18 15 17 27 34 17 24 29...  PrivateTest\n",
              "\n",
              "[920 rows x 3 columns]"
            ]
          },
          "execution_count": 2,
          "metadata": {},
          "output_type": "execute_result"
        }
      ],
      "source": [
        "# df_ck_plus = pd.read_csv('./Datasets/ckextended.csv')\n",
        "URL = \"./datasets/ckextended.csv\"\n",
        "df_ck_plus = pd.read_csv(URL)\n",
        "df_ck_plus"
      ]
    },
    {
      "cell_type": "markdown",
      "metadata": {
        "id": "8cfUewjQ2uOX"
      },
      "source": [
        "## Download of shape_predictor"
      ]
    },
    {
      "cell_type": "code",
      "execution_count": 3,
      "metadata": {
        "colab": {
          "base_uri": "https://localhost:8080/"
        },
        "id": "O0q-s6qs2yDG",
        "outputId": "e45a170b-212e-4f55-cd9b-4b5e9647a425"
      },
      "outputs": [
        {
          "name": "stdout",
          "output_type": "stream",
          "text": [
            "Arquivo descompactado salvo em: ./content/model/shape_predictor_68_face_landmarks.bz2\n",
            "Arquivo descompactado com sucesso!\n"
          ]
        },
        {
          "data": {
            "text/plain": [
              "<src.models.ShapePredictor at 0x7fcd1337c280>"
            ]
          },
          "execution_count": 3,
          "metadata": {},
          "output_type": "execute_result"
        }
      ],
      "source": [
        "from src.models import ShapePredictor\n",
        "\n",
        "ShapePredictor()"
      ]
    },
    {
      "cell_type": "markdown",
      "metadata": {
        "id": "WPECmpNFx5gO"
      },
      "source": [
        "## Converting 1D vectors to images"
      ]
    },
    {
      "cell_type": "code",
      "execution_count": 11,
      "metadata": {
        "id": "YBG_6YZKyD7-"
      },
      "outputs": [],
      "source": [
        "HEIGHT = 48\n",
        "WIDTH = 48\n",
        "OUTPUT_FOLDER = './images/input_images'\n",
        "os.makedirs(OUTPUT_FOLDER, exist_ok=False)\n",
        "OUTPUT_PATH = os.path.join(OUTPUT_FOLDER, 'reconstructed_image')"
      ]
    },
    {
      "cell_type": "code",
      "execution_count": 12,
      "metadata": {
        "colab": {
          "base_uri": "https://localhost:8080/"
        },
        "id": "AyjI6YspyHMK",
        "outputId": "99fcf884-6b57-4458-9f38-0fb9d4852a0b"
      },
      "outputs": [
        {
          "data": {
            "text/plain": [
              "(920, 3)"
            ]
          },
          "execution_count": 12,
          "metadata": {},
          "output_type": "execute_result"
        }
      ],
      "source": [
        "df_ck_plus.shape"
      ]
    },
    {
      "cell_type": "code",
      "execution_count": 13,
      "metadata": {
        "id": "16iS4p2tyLnA"
      },
      "outputs": [],
      "source": [
        "images_label = []\n",
        "\n",
        "for index, row in df_ck_plus.iterrows():\n",
        "  one_dimensional_str = row['pixels'].split()\n",
        "  one_dimensional_vec = np.array(list(map(int, one_dimensional_str)))\n",
        "\n",
        "  if one_dimensional_vec.size == HEIGHT * WIDTH:\n",
        "    image_2d = one_dimensional_vec.reshape((HEIGHT, WIDTH))\n",
        "    plt.imsave(f\"{OUTPUT_PATH}_{index}_emotion_{row['emotion']}_.png\", image_2d, cmap='gray')\n",
        "    images_label.append(row['emotion'])\n",
        "  else:\n",
        "    print()\n",
        "    raise ValueError(f\"The size of the vector {one_dimensional_vec.size} does not correspond to the product of the dimensions ({HEIGHT}, {WIDTH})\")"
      ]
    },
    {
      "cell_type": "markdown",
      "metadata": {
        "id": "rVVDTzGJ0Y_0"
      },
      "source": [
        "#Image pre-processing"
      ]
    },
    {
      "cell_type": "code",
      "execution_count": 19,
      "metadata": {
        "colab": {
          "base_uri": "https://localhost:8080/"
        },
        "id": "qay-GYh30kHL",
        "outputId": "fcd8a1fb-7669-4550-d7b8-4e14010239f6"
      },
      "outputs": [
        {
          "name": "stdout",
          "output_type": "stream",
          "text": [
            "Matriz de arrays das imagens:\n",
            "[[[[  6   6   6 255]\n",
            "   [  2   2   2 255]\n",
            "   [  0   0   0 255]\n",
            "   ...\n",
            "   [ 86  86  86 255]\n",
            "   [ 84  84  84 255]\n",
            "   [ 84  84  84 255]]\n",
            "\n",
            "  [[  0   0   0 255]\n",
            "   [  0   0   0 255]\n",
            "   [  0   0   0 255]\n",
            "   ...\n",
            "   [ 78  78  78 255]\n",
            "   [ 84  84  84 255]\n",
            "   [ 86  86  86 255]]\n",
            "\n",
            "  [[  0   0   0 255]\n",
            "   [  0   0   0 255]\n",
            "   [  0   0   0 255]\n",
            "   ...\n",
            "   [ 77  77  77 255]\n",
            "   [ 86  86  86 255]\n",
            "   [ 86  86  86 255]]\n",
            "\n",
            "  ...\n",
            "\n",
            "  [[ 64  64  64 255]\n",
            "   [ 64  64  64 255]\n",
            "   [ 65  65  65 255]\n",
            "   ...\n",
            "   [ 72  72  72 255]\n",
            "   [ 68  68  68 255]\n",
            "   [ 73  73  73 255]]\n",
            "\n",
            "  [[ 64  64  64 255]\n",
            "   [ 70  70  70 255]\n",
            "   [ 69  69  69 255]\n",
            "   ...\n",
            "   [ 73  73  73 255]\n",
            "   [ 70  70  70 255]\n",
            "   [ 70  70  70 255]]\n",
            "\n",
            "  [[ 60  60  60 255]\n",
            "   [ 65  65  65 255]\n",
            "   [ 65  65  65 255]\n",
            "   ...\n",
            "   [ 72  72  72 255]\n",
            "   [ 70  70  70 255]\n",
            "   [ 69  69  69 255]]]\n",
            "\n",
            "\n",
            " [[[172 172 172 255]\n",
            "   [ 81  81  81 255]\n",
            "   [ 34  34  34 255]\n",
            "   ...\n",
            "   [178 178 178 255]\n",
            "   [177 177 177 255]\n",
            "   [178 178 178 255]]\n",
            "\n",
            "  [[158 158 158 255]\n",
            "   [ 42  42  42 255]\n",
            "   [ 39  39  39 255]\n",
            "   ...\n",
            "   [175 175 175 255]\n",
            "   [173 173 173 255]\n",
            "   [177 177 177 255]]\n",
            "\n",
            "  [[117 117 117 255]\n",
            "   [ 31  31  31 255]\n",
            "   [ 29  29  29 255]\n",
            "   ...\n",
            "   [173 173 173 255]\n",
            "   [175 175 175 255]\n",
            "   [175 175 175 255]]\n",
            "\n",
            "  ...\n",
            "\n",
            "  [[155 155 155 255]\n",
            "   [154 154 154 255]\n",
            "   [146 146 146 255]\n",
            "   ...\n",
            "   [133 133 133 255]\n",
            "   [145 145 145 255]\n",
            "   [147 147 147 255]]\n",
            "\n",
            "  [[161 161 161 255]\n",
            "   [163 163 163 255]\n",
            "   [134 134 134 255]\n",
            "   ...\n",
            "   [140 140 140 255]\n",
            "   [147 147 147 255]\n",
            "   [145 145 145 255]]\n",
            "\n",
            "  [[156 156 156 255]\n",
            "   [108 108 108 255]\n",
            "   [ 51  51  51 255]\n",
            "   ...\n",
            "   [130 130 130 255]\n",
            "   [137 137 137 255]\n",
            "   [139 139 139 255]]]\n",
            "\n",
            "\n",
            " [[[ 59  59  59 255]\n",
            "   [ 46  46  46 255]\n",
            "   [ 43  43  43 255]\n",
            "   ...\n",
            "   [ 89  89  89 255]\n",
            "   [ 96  96  96 255]\n",
            "   [ 96  96  96 255]]\n",
            "\n",
            "  [[ 46  46  46 255]\n",
            "   [ 48  48  48 255]\n",
            "   [ 47  47  47 255]\n",
            "   ...\n",
            "   [ 92  92  92 255]\n",
            "   [ 94  94  94 255]\n",
            "   [ 92  92  92 255]]\n",
            "\n",
            "  [[ 39  39  39 255]\n",
            "   [ 56  56  56 255]\n",
            "   [ 40  40  40 255]\n",
            "   ...\n",
            "   [ 99  99  99 255]\n",
            "   [100 100 100 255]\n",
            "   [ 97  97  97 255]]\n",
            "\n",
            "  ...\n",
            "\n",
            "  [[ 63  63  63 255]\n",
            "   [ 65  65  65 255]\n",
            "   [ 65  65  65 255]\n",
            "   ...\n",
            "   [ 83  83  83 255]\n",
            "   [ 83  83  83 255]\n",
            "   [ 85  85  85 255]]\n",
            "\n",
            "  [[ 58  58  58 255]\n",
            "   [ 58  58  58 255]\n",
            "   [ 62  62  62 255]\n",
            "   ...\n",
            "   [ 81  81  81 255]\n",
            "   [ 80  80  80 255]\n",
            "   [ 79  79  79 255]]\n",
            "\n",
            "  [[ 60  60  60 255]\n",
            "   [ 56  56  56 255]\n",
            "   [ 56  56  56 255]\n",
            "   ...\n",
            "   [ 79  79  79 255]\n",
            "   [ 76  76  76 255]\n",
            "   [ 78  78  78 255]]]\n",
            "\n",
            "\n",
            " ...\n",
            "\n",
            "\n",
            " [[[ 67  67  67 255]\n",
            "   [ 60  60  60 255]\n",
            "   [ 71  71  71 255]\n",
            "   ...\n",
            "   [ 89  89  89 255]\n",
            "   [105 105 105 255]\n",
            "   [ 89  89  89 255]]\n",
            "\n",
            "  [[ 70  70  70 255]\n",
            "   [ 68  68  68 255]\n",
            "   [ 52  52  52 255]\n",
            "   ...\n",
            "   [102 102 102 255]\n",
            "   [115 115 115 255]\n",
            "   [ 87  87  87 255]]\n",
            "\n",
            "  [[ 64  64  64 255]\n",
            "   [ 64  64  64 255]\n",
            "   [ 48  48  48 255]\n",
            "   ...\n",
            "   [112 112 112 255]\n",
            "   [ 96  96  96 255]\n",
            "   [ 89  89  89 255]]\n",
            "\n",
            "  ...\n",
            "\n",
            "  [[ 59  59  59 255]\n",
            "   [ 56  56  56 255]\n",
            "   [ 52  52  52 255]\n",
            "   ...\n",
            "   [ 86  86  86 255]\n",
            "   [ 76  76  76 255]\n",
            "   [ 78  78  78 255]]\n",
            "\n",
            "  [[ 52  52  52 255]\n",
            "   [ 59  59  59 255]\n",
            "   [ 58  58  58 255]\n",
            "   ...\n",
            "   [ 81  81  81 255]\n",
            "   [ 78  78  78 255]\n",
            "   [ 71  71  71 255]]\n",
            "\n",
            "  [[ 55  55  55 255]\n",
            "   [ 56  56  56 255]\n",
            "   [ 56  56  56 255]\n",
            "   ...\n",
            "   [ 86  86  86 255]\n",
            "   [ 73  73  73 255]\n",
            "   [ 78  78  78 255]]]\n",
            "\n",
            "\n",
            " [[[100 100 100 255]\n",
            "   [100 100 100 255]\n",
            "   [ 95  95  95 255]\n",
            "   ...\n",
            "   [ 40  40  40 255]\n",
            "   [108 108 108 255]\n",
            "   [115 115 115 255]]\n",
            "\n",
            "  [[102 102 102 255]\n",
            "   [ 97  97  97 255]\n",
            "   [ 94  94  94 255]\n",
            "   ...\n",
            "   [ 36  36  36 255]\n",
            "   [102 102 102 255]\n",
            "   [108 108 108 255]]\n",
            "\n",
            "  [[102 102 102 255]\n",
            "   [ 97  97  97 255]\n",
            "   [ 86  86  86 255]\n",
            "   ...\n",
            "   [ 47  47  47 255]\n",
            "   [ 75  75  75 255]\n",
            "   [116 116 116 255]]\n",
            "\n",
            "  ...\n",
            "\n",
            "  [[ 65  65  65 255]\n",
            "   [ 65  65  65 255]\n",
            "   [ 67  67  67 255]\n",
            "   ...\n",
            "   [113 113 113 255]\n",
            "   [152 152 152 255]\n",
            "   [ 64  64  64 255]]\n",
            "\n",
            "  [[ 65  65  65 255]\n",
            "   [ 65  65  65 255]\n",
            "   [ 64  64  64 255]\n",
            "   ...\n",
            "   [ 48  48  48 255]\n",
            "   [211 211 211 255]\n",
            "   [239 239 239 255]]\n",
            "\n",
            "  [[ 64  64  64 255]\n",
            "   [ 60  60  60 255]\n",
            "   [ 63  63  63 255]\n",
            "   ...\n",
            "   [118 118 118 255]\n",
            "   [133 133 133 255]\n",
            "   [246 246 246 255]]]\n",
            "\n",
            "\n",
            " [[[ 79  79  79 255]\n",
            "   [ 73  73  73 255]\n",
            "   [ 67  67  67 255]\n",
            "   ...\n",
            "   [ 67  67  67 255]\n",
            "   [ 52  52  52 255]\n",
            "   [ 75  75  75 255]]\n",
            "\n",
            "  [[ 78  78  78 255]\n",
            "   [ 71  71  71 255]\n",
            "   [ 40  40  40 255]\n",
            "   ...\n",
            "   [ 91  91  91 255]\n",
            "   [ 64  64  64 255]\n",
            "   [ 40  40  40 255]]\n",
            "\n",
            "  [[ 73  73  73 255]\n",
            "   [ 44  44  44 255]\n",
            "   [ 23  23  23 255]\n",
            "   ...\n",
            "   [103 103 103 255]\n",
            "   [ 78  78  78 255]\n",
            "   [ 38  38  38 255]]\n",
            "\n",
            "  ...\n",
            "\n",
            "  [[ 78  78  78 255]\n",
            "   [ 78  78  78 255]\n",
            "   [ 76  76  76 255]\n",
            "   ...\n",
            "   [ 88  88  88 255]\n",
            "   [ 86  86  86 255]\n",
            "   [ 81  81  81 255]]\n",
            "\n",
            "  [[ 77  77  77 255]\n",
            "   [ 76  76  76 255]\n",
            "   [ 78  78  78 255]\n",
            "   ...\n",
            "   [ 86  86  86 255]\n",
            "   [ 89  89  89 255]\n",
            "   [ 83  83  83 255]]\n",
            "\n",
            "  [[ 76  76  76 255]\n",
            "   [ 73  73  73 255]\n",
            "   [ 76  76  76 255]\n",
            "   ...\n",
            "   [ 83  83  83 255]\n",
            "   [ 88  88  88 255]\n",
            "   [ 88  88  88 255]]]]\n"
          ]
        }
      ],
      "source": [
        "import dlib\n",
        "from PIL import Image\n",
        "import numpy as np\n",
        "import os\n",
        "\n",
        "def adjust_and_crop_face(image_path, output_folder):\n",
        "    # Carregar a imagem\n",
        "    image = dlib.load_rgb_image(image_path)\n",
        "\n",
        "    # Inicializar o detector de rostos e o preditor de pontos-chave\n",
        "    detector = dlib.get_frontal_face_detector()\n",
        "\n",
        "    # Caminho completo para o arquivo shape_predictor_68_face_landmarks.dat\n",
        "    dat_file_path = '../models/shape_predictor_68_face_landmarks.dat'\n",
        "    # Carregar o preditor de forma\n",
        "    predictor = dlib.shape_predictor(dat_file_path)\n",
        "\n",
        "    # Detectar os rostos na imagem\n",
        "    faces = detector(image, 1)\n",
        "\n",
        "    # Criar a pasta de saída, se não existir\n",
        "    os.makedirs(output_folder, exist_ok=True)\n",
        "\n",
        "    # Processar cada rosto detectado\n",
        "    for i, face in enumerate(faces):\n",
        "        # Obter os pontos chave do rosto\n",
        "        landmarks = predictor(image, face)\n",
        "\n",
        "        # Converter os pontos chave para um formato utilizável\n",
        "        face_landmarks = {\n",
        "            \"left_eye\": [(landmarks.part(j).x, landmarks.part(j).y) for j in range(36, 42)],\n",
        "            \"right_eye\": [(landmarks.part(j).x, landmarks.part(j).y) for j in range(42, 48)],\n",
        "            \"left_eyebrow\": [(landmarks.part(j).x, landmarks.part(j).y) for j in range(17, 22)],\n",
        "            \"right_eyebrow\": [(landmarks.part(j).x, landmarks.part(j).y) for j in range(22, 27)],\n",
        "            \"chin\": [(landmarks.part(j).x, landmarks.part(j).y) for j in range(0, 17)],\n",
        "        }\n",
        "\n",
        "        # Obter os pontos dos olhos, sobrancelhas e queixo\n",
        "        left_eye = np.array(face_landmarks['left_eye'])\n",
        "        right_eye = np.array(face_landmarks['right_eye'])\n",
        "        left_eyebrow = np.array(face_landmarks['left_eyebrow'])\n",
        "        right_eyebrow = np.array(face_landmarks['right_eyebrow'])\n",
        "        chin = np.array(face_landmarks['chin'])\n",
        "\n",
        "        # Calcular o ponto médio entre os olhos\n",
        "        left_eye_center = left_eye.mean(axis=0)\n",
        "        right_eye_center = right_eye.mean(axis=0)\n",
        "        eye_center = ((left_eye_center + right_eye_center) / 2).astype(int)\n",
        "\n",
        "        # Calcular o ângulo para horizontalizar os olhos\n",
        "        dy = right_eye_center[1] - left_eye_center[1]\n",
        "        dx = right_eye_center[0] - left_eye_center[0]\n",
        "        angle = np.degrees(np.arctan2(dy, dx))\n",
        "\n",
        "        # Rotacionar a imagem para horizontalizar os olhos\n",
        "        pil_image = Image.fromarray(image)\n",
        "        pil_image = pil_image.rotate(angle, center=tuple(eye_center), expand=True)\n",
        "\n",
        "        # Recalcular os pontos chave após rotação\n",
        "        rotated_image = np.array(pil_image)\n",
        "        rotated_faces = detector(rotated_image, 1)\n",
        "        rotated_landmarks = predictor(rotated_image, rotated_faces[0])\n",
        "\n",
        "        # Obter os novos pontos chave para sobrancelhas e queixo\n",
        "        left_eyebrow = np.array([(rotated_landmarks.part(j).x, rotated_landmarks.part(j).y) for j in range(17, 22)])\n",
        "        right_eyebrow = np.array([(rotated_landmarks.part(j).x, rotated_landmarks.part(j).y) for j in range(22, 27)])\n",
        "        chin = np.array([(rotated_landmarks.part(j).x, rotated_landmarks.part(j).y) for j in range(0, 17)])\n",
        "\n",
        "        # Calcular o topo das sobrancelhas e o fundo do queixo\n",
        "        top_of_eyebrows = min(left_eyebrow[:,1].min(), right_eyebrow[:,1].min())\n",
        "        bottom_of_chin = chin[:,1].max()\n",
        "\n",
        "        # Calcular as coordenadas do recorte\n",
        "        top = top_of_eyebrows\n",
        "        bottom = bottom_of_chin\n",
        "        left = min(chin[:,0].min(), left_eyebrow[:,0].min(), right_eyebrow[:,0].min())\n",
        "        right = max(chin[:,0].max(), left_eyebrow[:,0].max(), right_eyebrow[:,0].max())\n",
        "\n",
        "        # Recortar a imagem\n",
        "        cropped_face = pil_image.crop((left, top, right, bottom))\n",
        "\n",
        "        # Salvar a imagem recortada com o nome original acrescido de \"face\"\n",
        "        base_filename, ext = os.path.splitext(os.path.basename(image_path))\n",
        "        face_image_path = os.path.join(output_folder, f'{base_filename}_face{ext}')\n",
        "        cropped_face.save(face_image_path)\n",
        "        print(f'Rosto {i+1} salvo em {face_image_path}')\n",
        "\n",
        "# Caminho para a pasta de entrada\n",
        "input_folder = './images/input_images/'\n",
        "\n",
        "# Pasta para salvar os rostos recortados\n",
        "output_folder = './images/preprocessed_images'\n",
        "\n",
        "# # Processar cada imagem na pasta de entrada\n",
        "# for filename in os.listdir(input_folder):\n",
        "#     if filename.lower().endswith(('.png', '.jpg', '.jpeg', '.bmp', '.gif')):\n",
        "#         image_path = os.path.join(input_folder, filename)\n",
        "#         adjust_and_crop_face(image_path, output_folder)\n",
        "\n",
        "\n",
        "# Carregar as imagens do output_folder em uma matriz de arrays\n",
        "image_arrays = []\n",
        "for filename in os.listdir(input_folder):\n",
        "    if filename.lower().endswith(('.png', '.jpg', '.jpeg', '.bmp', '.gif')):\n",
        "        image_path = os.path.join(input_folder, filename)\n",
        "        image = Image.open(image_path)\n",
        "        image_array = np.array(image)\n",
        "        image_arrays.append(image_array)\n",
        "\n",
        "# Converter a lista de arrays em uma matriz de arrays\n",
        "image_matrix = np.array(image_arrays)\n",
        "\n",
        "print(\"Matriz de arrays das imagens:\")\n",
        "print(image_matrix)"
      ]
    },
    {
      "cell_type": "markdown",
      "metadata": {
        "id": "39dum6sPxTqV"
      },
      "source": [
        "# DCT and CIE Layer"
      ]
    },
    {
      "cell_type": "markdown",
      "metadata": {
        "id": "_3aDNDyH42Jt"
      },
      "source": [
        "Getting one image of example"
      ]
    },
    {
      "cell_type": "code",
      "execution_count": 31,
      "metadata": {},
      "outputs": [
        {
          "data": {
            "text/plain": [
              "<matplotlib.image.AxesImage at 0x7fcd1044c5e0>"
            ]
          },
          "execution_count": 31,
          "metadata": {},
          "output_type": "execute_result"
        },
        {
          "data": {
            "image/png": "[encoded data removed]",
            "text/plain": [
              "<Figure size 640x480 with 1 Axes>"
            ]
          },
          "metadata": {},
          "output_type": "display_data"
        }
      ],
      "source": [
        "# image_matrix[0]\n",
        "\n",
        "plt.imshow(image_matrix[800], cmap='gray')"
      ]
    },
    {
      "cell_type": "code",
      "execution_count": 24,
      "metadata": {},
      "outputs": [
        {
          "data": {
            "text/plain": [
              "6"
            ]
          },
          "execution_count": 24,
          "metadata": {},
          "output_type": "execute_result"
        }
      ],
      "source": [
        "images_label[0]"
      ]
    },
    {
      "cell_type": "markdown",
      "metadata": {
        "id": "rgd7HeELQB7V"
      },
      "source": [
        "**using the gamma parameter to reduce the image size**"
      ]
    },
    {
      "cell_type": "code",
      "execution_count": 32,
      "metadata": {
        "id": "d3SDNMUAP6Ca"
      },
      "outputs": [],
      "source": [
        "γ = 0.25\n",
        "\n",
        "def resize_dct(dct_image, gamma):\n",
        "    h, w = dct_image.shape\n",
        "    new_h, new_w = int(h * gamma), int(w * gamma)\n",
        "    return dct_image[:new_h, :new_w]"
      ]
    },
    {
      "cell_type": "markdown",
      "metadata": {
        "id": "FyWShht6Treu"
      },
      "source": [
        "verificando a escala das imagens"
      ]
    },
    {
      "cell_type": "code",
      "execution_count": 34,
      "metadata": {},
      "outputs": [
        {
          "data": {
            "text/plain": [
              "920"
            ]
          },
          "execution_count": 34,
          "metadata": {},
          "output_type": "execute_result"
        }
      ],
      "source": [
        "len(image_matrix)"
      ]
    },
    {
      "cell_type": "code",
      "execution_count": 33,
      "metadata": {
        "colab": {
          "base_uri": "https://localhost:8080/"
        },
        "id": "oTXqvRahFnja",
        "outputId": "dc6be18c-7528-4fa0-9838-b33f6d98a341"
      },
      "outputs": [
        {
          "ename": "ValueError",
          "evalue": "too many values to unpack (expected 2)",
          "output_type": "error",
          "traceback": [
            "\u001b[0;31m---------------------------------------------------------------------------\u001b[0m",
            "\u001b[0;31mValueError\u001b[0m                                Traceback (most recent call last)",
            "Cell \u001b[0;32mIn[33], line 5\u001b[0m\n\u001b[1;32m      3\u001b[0m \u001b[38;5;28;01mfor\u001b[39;00m index \u001b[38;5;129;01min\u001b[39;00m \u001b[38;5;28mrange\u001b[39m(\u001b[38;5;28mlen\u001b[39m(image_matrix)):\n\u001b[1;32m      4\u001b[0m     transformed_image \u001b[38;5;241m=\u001b[39m dct(dct(image_matrix[index]\u001b[38;5;241m.\u001b[39mT, norm\u001b[38;5;241m=\u001b[39m\u001b[38;5;124m'\u001b[39m\u001b[38;5;124mortho\u001b[39m\u001b[38;5;124m'\u001b[39m)\u001b[38;5;241m.\u001b[39mT, norm\u001b[38;5;241m=\u001b[39m\u001b[38;5;124m'\u001b[39m\u001b[38;5;124mortho\u001b[39m\u001b[38;5;124m'\u001b[39m)\n\u001b[0;32m----> 5\u001b[0m     frequency_input\u001b[38;5;241m.\u001b[39mappend(\u001b[43mresize_dct\u001b[49m\u001b[43m(\u001b[49m\u001b[43mtransformed_image\u001b[49m\u001b[43m,\u001b[49m\u001b[43m \u001b[49m\u001b[43mγ\u001b[49m\u001b[43m)\u001b[49m)\n\u001b[1;32m      7\u001b[0m \u001b[38;5;28mprint\u001b[39m(frequency_input[\u001b[38;5;241m0\u001b[39m])\n",
            "Cell \u001b[0;32mIn[32], line 4\u001b[0m, in \u001b[0;36mresize_dct\u001b[0;34m(dct_image, gamma)\u001b[0m\n\u001b[1;32m      3\u001b[0m \u001b[38;5;28;01mdef\u001b[39;00m \u001b[38;5;21mresize_dct\u001b[39m(dct_image, gamma):\n\u001b[0;32m----> 4\u001b[0m     h, w \u001b[38;5;241m=\u001b[39m dct_image\u001b[38;5;241m.\u001b[39mshape\n\u001b[1;32m      5\u001b[0m     new_h, new_w \u001b[38;5;241m=\u001b[39m \u001b[38;5;28mint\u001b[39m(h \u001b[38;5;241m*\u001b[39m gamma), \u001b[38;5;28mint\u001b[39m(w \u001b[38;5;241m*\u001b[39m gamma)\n\u001b[1;32m      6\u001b[0m     \u001b[38;5;28;01mreturn\u001b[39;00m dct_image[:new_h, :new_w]\n",
            "\u001b[0;31mValueError\u001b[0m: too many values to unpack (expected 2)"
          ]
        }
      ],
      "source": [
        "frequency_input = []\n",
        "\n",
        "for index in range(len(image_arrays)):\n",
        "    transformed_image = dct(dct(image_arrays[index].T, norm='ortho').T, norm='ortho')\n",
        "    frequency_input.append(resize_dct(transformed_image, γ))\n",
        "    # frequency_input.append(dct(dct(image_arrays[index].T, norm='ortho').T, norm='ortho'))\n",
        "\n",
        "print(frequency_input[0])"
      ]
    },
    {
      "cell_type": "code",
      "execution_count": 35,
      "metadata": {
        "colab": {
          "base_uri": "https://localhost:8080/",
          "height": 430
        },
        "id": "RWxtE2uT2ppa",
        "outputId": "de6f22d6-52ae-4ef6-a0cc-8cd6840e3485"
      },
      "outputs": [
        {
          "ename": "IndexError",
          "evalue": "list index out of range",
          "output_type": "error",
          "traceback": [
            "\u001b[0;31m---------------------------------------------------------------------------\u001b[0m",
            "\u001b[0;31mIndexError\u001b[0m                                Traceback (most recent call last)",
            "Cell \u001b[0;32mIn[35], line 1\u001b[0m\n\u001b[0;32m----> 1\u001b[0m plt\u001b[38;5;241m.\u001b[39mimshow(\u001b[43mfrequency_input\u001b[49m\u001b[43m[\u001b[49m\u001b[38;5;241;43m0\u001b[39;49m\u001b[43m]\u001b[49m)\n\u001b[1;32m      2\u001b[0m plt\u001b[38;5;241m.\u001b[39mshow()\n",
            "\u001b[0;31mIndexError\u001b[0m: list index out of range"
          ]
        }
      ],
      "source": [
        "plt.imshow(frequency_input[0])\n",
        "plt.show()"
      ]
    },
    {
      "cell_type": "markdown",
      "metadata": {
        "id": "EN6gzhxGIF-Y"
      },
      "source": [
        "# Basic-FreNet"
      ]
    },
    {
      "cell_type": "markdown",
      "metadata": {
        "id": "k4j9rcN2ITiN"
      },
      "source": [
        "**Paremeters**"
      ]
    },
    {
      "cell_type": "markdown",
      "metadata": {
        "id": "L41FbK_3tWKE"
      },
      "source": [
        "![image.png](data:image/png;base64,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)"
      ]
    },
    {
      "cell_type": "code",
      "execution_count": 14,
      "metadata": {
        "id": "eZIG8jc6IJIQ"
      },
      "outputs": [],
      "source": [
        "n = 5\n",
        "k = [40, 1, 1, 1, 1]\n",
        "conv = 5\n",
        "c = 6"
      ]
    },
    {
      "cell_type": "code",
      "execution_count": null,
      "metadata": {
        "id": "ax1Hw2Dvdqgw"
      },
      "outputs": [],
      "source": [
        "\n",
        "# Função para criar uma camada convolucional com inicialização de distribuição normal truncada\n",
        "def conv_layer(input_tensor, num_filters, kernel_size, name):\n",
        "    with tf.variable_scope(name):\n",
        "        in_channels = input_tensor.get_shape()[-1]\n",
        "        weights = tf.get_variable('weights',\n",
        "                                  shape=[kernel_size, kernel_size, in_channels, num_filters],\n",
        "                                  initializer=tf.truncated_normal_initializer(stddev=0.1))\n",
        "        biases = tf.get_variable('biases',\n",
        "                                 shape=[num_filters],\n",
        "                                 initializer=tf.constant_initializer(0.0))\n",
        "        conv = tf.nn.conv2d(input_tensor, weights, strides=[1, 1, 1, 1], padding='SAME')\n",
        "        output = tf.nn.relu(conv + biases)\n",
        "    return output\n",
        "\n",
        "# Placeholder para a entrada\n",
        "# input_shape = (None, 40, 40, 1)  # Exemplo de entrada (ajustar conforme necessário)\n",
        "# inputs = tf.placeholder(tf.float32, shape=input_shape)\n",
        "\n",
        "# Camadas convolucionais conforme especificadas\n",
        "conv1 = conv_layer(frequency_input, k[0], 5, 'conv1')\n",
        "conv2 = conv_layer(conv1, k[1], 5, 'conv2')\n",
        "conv3 = conv_layer(conv2, k[2], 5, 'conv3')\n",
        "conv4 = conv_layer(conv3, k[3], 5, 'conv4')\n",
        "conv5 = conv_layer(conv4, k[4], 5, 'conv5')\n",
        "\n",
        "# Definir a sessão do TensorFlow\n",
        "sess = tf.Session()\n",
        "\n",
        "# Inicializar variáveis\n",
        "sess.run(tf.global_variables_initializer())\n",
        "\n",
        "# Exemplo de dados de entrada\n",
        "input_data = np.random.random((1, 40, 40, 1))\n",
        "\n",
        "# Fazer uma previsão\n",
        "output_data = sess.run(conv5, feed_dict={inputs: input_data})\n",
        "print(\"Output shape:\", output_data.shape)\n"
      ]
    },
    {
      "cell_type": "code",
      "execution_count": 16,
      "metadata": {
        "colab": {
          "base_uri": "https://localhost:8080/",
          "height": 1000
        },
        "id": "jS2MemQSXIPN",
        "outputId": "c15b29e9-20e4-4594-bf56-ff681a5c57fc"
      },
      "outputs": [
        {
          "ename": "ValueError",
          "evalue": "Layer \"conv2d\" expects 1 input(s), but it received 7 input tensors. Inputs received: [<tf.Tensor: shape=(8, 10), dtype=float64, numpy=\narray([[ 3.72383526e+03, -3.44326340e+02, -2.30385754e+01,\n         7.59917893e+00, -8.34164493e+01,  1.52066168e+01,\n        -1.86708417e+02,  1.11492957e+02,  2.91823760e+00,\n         8.82425553e+01],\n       [-2.88763986e+02, -2.82724038e+02, -9.44295291e+01,\n        -2.82699360e+02,  1.58901081e+02, -2.21847285e+02,\n        -2.89764579e+02, -1.85962737e+02, -1.27069177e+02,\n        -1.05911573e+02],\n       [-1.72231264e+02,  2.24352394e+02, -7.22937204e+01,\n         1.72610862e+02,  3.09199663e+02,  2.14247838e+02,\n         8.74025587e+00,  1.34367857e+02, -3.36740512e+01,\n         6.89095936e+01],\n       [-2.58464279e+02, -5.63159564e+01, -4.42567003e+01,\n        -1.19371493e+02, -2.07416436e+02, -5.45476975e+01,\n        -5.88160763e+01,  9.61698285e+00, -6.85065647e+01,\n         4.84519084e+01],\n       [ 4.31677248e+00,  4.24496551e+01, -9.70223345e+01,\n         3.30290654e+01,  5.93772803e+01,  3.01244436e+01,\n         2.75365189e+01, -3.62521198e+01, -3.07172160e+00,\n        -5.75987171e+01],\n       [ 3.88184883e+01,  7.61617415e+00, -1.27861380e+02,\n         2.82805798e+01, -1.88841796e+02,  6.86708969e+01,\n        -2.95374381e+01,  4.91549538e+01,  4.41905735e+01,\n         7.66645209e+01],\n       [ 7.88461366e+01, -1.94804947e+01,  3.27108240e+01,\n         4.46637244e+01, -9.21697874e+01,  3.25271302e+01,\n        -1.02315943e+01,  2.54954487e+00, -1.73422293e+01,\n        -2.96146631e+01],\n       [ 2.22205442e+02, -4.82768485e+01, -1.37179190e+02,\n         9.90649609e+00, -6.08778554e+01,  7.79985735e+00,\n         1.49534503e+01,  2.86045437e+01, -3.15052186e+01,\n        -4.43002586e+00]])>, <tf.Tensor: shape=(8, 9), dtype=float64, numpy=\narray([[ 6.16911897e+03, -7.14344485e+02, -6.88499986e+02,\n        -1.19742176e+02, -3.59473788e+02, -2.13060026e+02,\n        -3.41527997e+02,  2.06914030e+01, -1.35605787e+01],\n       [ 3.02849216e+02, -8.59263848e-02,  3.75150237e+02,\n        -2.17697315e+02,  4.98324111e+02, -2.18844358e+02,\n        -1.61480622e+02, -1.85077583e+01,  7.44024647e+00],\n       [-1.03745467e+03, -1.22981841e+01, -2.05790971e+02,\n         6.13949181e+01,  4.19658547e+02, -8.34597277e+01,\n        -2.49516674e+02, -1.06812803e+02,  5.85633153e+00],\n       [-3.65262605e+02, -1.65012932e+02,  1.10409240e+02,\n         1.66164964e+01, -1.48230410e+02, -1.72188189e+01,\n         7.77984292e+00,  5.88634983e+01, -3.99724330e+01],\n       [ 2.50711583e+02, -4.34523720e+01, -1.60971905e+01,\n         1.31195721e+02, -1.29828303e+02, -5.66534686e+01,\n         1.14364522e+02,  5.63509524e+01,  4.45094864e+00],\n       [ 3.05042898e+02, -1.18129223e+02, -2.85244734e+02,\n        -5.31817445e+00, -2.97442104e+02, -7.83479015e+00,\n        -1.14748468e+01, -1.66068165e+01, -4.05988948e+01],\n       [ 5.51229400e+02, -1.23261387e+02,  3.25833508e+01,\n        -2.89775455e+00, -1.73668685e+02,  1.55456709e+00,\n        -1.37082877e+02,  3.23674593e+01, -7.27251252e+01],\n       [ 5.40319566e+02, -2.24009144e+01, -2.59054199e+02,\n        -1.02646584e+01, -2.57029696e+02,  2.06148742e+01,\n         5.03056972e+01, -6.50716212e+01, -1.52822167e+02]])>, <tf.Tensor: shape=(9, 10), dtype=float64, numpy=\narray([[ 5.77190638e+03, -2.00007450e+02, -1.42806173e+03,\n         1.25367199e+01, -7.30376224e+02, -9.39368438e+01,\n        -5.13576855e+02, -3.01005826e+01, -4.38099531e+01,\n         1.56403676e+01],\n       [-3.50702874e+02,  3.27430724e+02,  3.12519661e+02,\n         8.82973921e+01,  6.54053271e+02, -1.46514616e+02,\n         6.24225586e+01, -2.26024838e+02,  6.70333878e+01,\n        -1.62450318e+02],\n       [-9.84352665e+02,  2.40909682e+02, -7.32149064e+02,\n         1.37691824e+02,  2.74999557e+02,  4.17924555e+01,\n        -1.51253502e+02, -4.58886662e+01, -4.01878564e+00,\n        -4.07458626e+01],\n       [-2.05326419e+02,  9.51487388e+01, -1.99801764e+02,\n        -2.01058742e+01, -9.14743685e+01, -6.54110752e+01,\n        -8.41821474e+01, -7.97892608e+01, -9.71870046e+01,\n        -3.80329686e+01],\n       [ 1.07840743e+02, -1.35786348e+01, -2.21913186e+02,\n        -1.31105594e+00,  9.18413846e+01, -3.92878417e+01,\n         1.69480968e+02, -5.02624040e+01,  1.40518999e+02,\n        -4.65216607e+01],\n       [ 1.66276745e+02, -2.82184794e+01,  4.76892982e+01,\n        -3.38272027e+00, -2.63541996e+02, -1.60746639e+01,\n        -8.20023263e-01,  1.08671983e+01,  1.07950877e+02,\n         3.20947558e+01],\n       [ 1.68540578e+02, -9.79724340e+01,  2.86447190e+01,\n        -4.89280450e+01, -1.97424876e+02, -2.22232140e+01,\n        -2.82871626e+01,  2.42254765e+00,  7.85556876e-01,\n         2.20264249e+01],\n       [ 3.01726030e+02, -7.10853911e+01, -1.28795271e+02,\n        -7.58335493e+01, -4.25848399e+01, -3.31669238e+01,\n         9.96877773e+01, -2.51444990e+01, -3.54102448e+01,\n        -3.46172078e+01],\n       [ 4.50505929e+01, -2.33253732e+01,  1.49569903e+02,\n        -1.20911209e+01, -4.49409706e+01, -2.95040010e+01,\n         8.55116504e+01, -2.73220137e+01, -2.59047388e+01,\n        -9.17907842e+00]])>, <tf.Tensor: shape=(8, 9), dtype=float64, numpy=\narray([[ 6.28481622e+03, -4.66501815e+02, -4.64308755e+02,\n        -5.56621391e+01, -4.66265739e+02, -3.52174778e+01,\n        -3.42773996e+02,  1.32578697e+02, -1.57596134e+02],\n       [ 7.60576873e+02,  1.18350310e+01,  3.15628289e+02,\n        -1.06380183e+02,  2.48413573e+02, -1.63154107e+02,\n        -1.94447411e+02, -8.13455497e+01,  5.38430111e+01],\n       [-7.50968691e+02, -2.75958065e+01, -3.38377154e+02,\n         5.37240423e+01,  2.86731528e+02,  9.68253686e+01,\n        -3.00694530e+02,  1.00060023e+01, -4.55031639e+01],\n       [-1.69670617e+02, -7.36175282e+01,  1.59436657e+02,\n        -1.70134133e-01, -1.00140675e+02,  6.18199187e+01,\n        -2.77307199e+01, -1.43294274e+01, -4.66867811e+01],\n       [-2.91466651e+01, -2.66730197e+01, -1.66533855e+02,\n         6.66429010e+01, -2.82531096e+02,  5.91071033e+01,\n         1.47563656e+02,  6.81913530e+00, -3.79993043e+01],\n       [ 4.70167526e+02, -6.03762747e+01, -1.03463652e+02,\n         1.23968976e+01, -3.66017789e+02,  3.25713679e+01,\n        -2.43796204e+01,  3.53442649e+01,  3.49414576e+01],\n       [ 2.36439277e+02, -1.52482995e+01, -2.96026225e+00,\n         2.47253864e+00, -9.01771684e+01, -3.08039518e+01,\n        -1.70481384e+02, -3.28291295e+01, -8.03513902e+01],\n       [ 5.56096498e+02, -6.05072546e+00, -3.74749356e+02,\n         4.15810815e+01, -6.92147869e+01,  1.10560240e+01,\n         1.46709266e+02,  8.82340655e-01, -1.06247325e+02]])>, <tf.Tensor: shape=(8, 9), dtype=float64, numpy=\narray([[ 5.26829679e+03, -5.67612640e+02, -2.41436098e+02,\n        -9.31548388e+01, -2.00252362e+02, -6.09637206e+01,\n        -2.09415491e+02,  4.08897397e+01, -8.01602850e+01],\n       [ 4.73916087e+01, -5.13981485e+01,  2.04486915e+02,\n        -1.50013185e+02,  4.22625325e+02, -1.62846245e+02,\n        -1.51310433e+02, -4.89799928e+01,  1.62143510e+02],\n       [-6.72402403e+02,  4.88801640e+01, -9.72564937e+01,\n         8.45799619e+00,  5.82710887e+02, -4.01516678e+01,\n        -2.61174060e+02, -1.03210194e+01, -7.23189676e+01],\n       [-2.02457169e+02, -1.98682736e+01, -1.43804626e+01,\n        -3.68983674e+01,  1.76455552e+01,  3.79864193e+00,\n        -5.49220247e+01, -2.70200638e+01,  3.81409178e+01],\n       [ 2.66568154e+01,  4.81767700e+01,  1.40235919e+02,\n        -7.85228950e+00, -1.69620709e+02,  4.69320101e+01,\n         7.98216752e+01, -2.49996178e+01,  4.14625392e+01],\n       [ 3.90834376e+02,  3.00457265e+01, -6.47095284e+01,\n         2.43785009e+01, -2.61614829e+02,  2.07858444e+01,\n         5.56642012e+01, -1.24611652e+01, -2.09098708e+01],\n       [ 3.77069675e+02,  8.34102678e-01,  7.03009390e+01,\n        -3.16041597e+01, -1.84073086e+02,  4.47099107e-01,\n        -6.70687146e+01,  3.14600409e+01, -5.99421263e+01],\n       [ 4.64601053e+02, -4.30341172e+01, -3.37196923e+02,\n         6.69601705e+01,  3.42710217e+01, -1.46503024e+01,\n         3.27955210e+00,  7.51964187e+00, -7.50112966e+01]])>, <tf.Tensor: shape=(8, 9), dtype=float64, numpy=\narray([[ 5.51140897e+03,  6.32505050e+01, -4.60856533e+02,\n         8.32377418e+01, -2.35014610e+02,  1.82046969e+01,\n        -2.41821007e+02,  1.99057800e+01, -1.39579007e+02],\n       [ 2.76883100e+02, -1.53929035e+02,  1.47504283e+02,\n        -1.69145617e+02,  2.30745379e+02,  1.05871263e+02,\n        -1.87005925e+02,  1.66556458e+01, -9.55538649e+00],\n       [-5.77707031e+02,  9.45631174e+01,  3.39613640e+01,\n        -1.21849389e+02,  6.98634218e+02,  1.35317865e+02,\n        -2.92185133e+00, -7.35271879e+01, -2.35575482e+01],\n       [-6.35856404e+02, -9.94046216e+01, -1.70134910e+02,\n        -5.03991997e+01, -1.06670503e+02,  3.68701234e+01,\n        -1.28970305e+02,  9.75608528e+00, -5.60130547e+01],\n       [ 1.54506333e+02,  6.73448713e+01,  1.62301647e+01,\n         8.36105586e+01,  1.55020945e+01, -6.16918871e+01,\n         1.56179239e+02, -4.73283481e+01,  2.77367219e+01],\n       [ 1.13176670e+02, -2.21845422e+01, -3.90395144e+00,\n         1.22258752e+02, -3.70863397e+02,  1.79912570e+01,\n        -6.76888323e+01, -6.98437070e+01, -1.08176975e+01],\n       [ 2.74593931e+02, -7.88529340e+01,  1.23377975e+01,\n         3.33401673e+01, -1.90125034e+02, -4.05796531e+01,\n        -1.40304653e+02, -4.78016671e+01, -8.41799319e+01],\n       [ 4.68043310e+02,  7.26520030e+01, -2.42837116e+02,\n         7.30668317e+01,  2.86124194e+01,  5.56557499e+01,\n         3.47509832e+00,  4.39226577e+00, -2.55425285e+01]])>, <tf.Tensor: shape=(9, 9), dtype=float64, numpy=\narray([[ 6.18431316e+03, -5.43098419e+02, -1.04000604e+03,\n        -1.46323060e+02, -5.18941860e+02, -1.73319433e+02,\n        -4.16142768e+02,  5.30992884e+01, -1.49268040e+02],\n       [ 6.79176694e+02, -1.14928288e+02,  4.29447817e+02,\n        -7.33476616e+01,  4.96051870e+02,  4.12081132e+01,\n        -3.27123113e+02, -1.33731647e+00, -2.20913371e+01],\n       [-1.14207626e+03,  8.18532802e+00, -5.95804974e+02,\n        -3.37322735e+01,  5.42140050e+02,  5.10238167e+01,\n        -7.79818282e+01, -3.01380658e+01,  5.01037233e+01],\n       [-4.79240468e+02, -8.57874132e+01,  4.42269164e+01,\n         5.56410731e+00, -3.67192502e+02,  1.04442552e+02,\n        -2.14390138e+02,  5.92742880e+01, -8.91341146e+01],\n       [ 6.81058076e+01,  2.70398662e+01, -2.43336277e+02,\n        -6.24455014e+01, -8.71677645e+01, -5.52439702e+01,\n         6.38183161e+01, -1.77473889e+01,  2.96598560e+01],\n       [ 3.20432379e+02,  6.37855279e+01, -1.82844800e+02,\n         5.53322502e+01, -3.66312112e+02,  7.28478177e+01,\n        -1.55944272e+02,  1.23493905e+01,  2.47250043e+01],\n       [ 3.45251363e+02,  4.95044109e+01, -7.40146056e+01,\n        -4.41847201e+01, -1.36617897e+02, -2.15343714e+01,\n         1.16114386e+01,  3.86438265e+01, -1.32452267e+02],\n       [ 3.86336969e+02, -6.00733319e+01, -1.92719399e+02,\n         5.32543179e+01, -1.75930155e+02, -1.02226191e+01,\n         2.51435478e+02,  1.53062732e+01, -6.62428913e+01],\n       [-1.98239897e+01,  4.06116290e+00,  1.23717875e+02,\n        -2.98909351e+01, -7.58174417e+01,  1.20381039e+01,\n         4.82335231e+01,  4.43686902e+01, -5.60907478e+01]])>]",
          "output_type": "error",
          "traceback": [
            "\u001b[0;31m---------------------------------------------------------------------------\u001b[0m",
            "\u001b[0;31mValueError\u001b[0m                                Traceback (most recent call last)",
            "\u001b[0;32m<ipython-input-16-3c6863adcd8b>\u001b[0m in \u001b[0;36m<cell line: 18>\u001b[0;34m()\u001b[0m\n\u001b[1;32m     17\u001b[0m \u001b[0mx\u001b[0m \u001b[0;34m=\u001b[0m \u001b[0mfrequency_input\u001b[0m\u001b[0;34m\u001b[0m\u001b[0;34m\u001b[0m\u001b[0m\n\u001b[1;32m     18\u001b[0m \u001b[0;32mfor\u001b[0m \u001b[0mfilters\u001b[0m \u001b[0;32min\u001b[0m \u001b[0mk\u001b[0m\u001b[0;34m:\u001b[0m\u001b[0;34m\u001b[0m\u001b[0;34m\u001b[0m\u001b[0m\n\u001b[0;32m---> 19\u001b[0;31m     x = tf.keras.layers.Conv2D(\n\u001b[0m\u001b[1;32m     20\u001b[0m         \u001b[0mfilters\u001b[0m\u001b[0;34m=\u001b[0m\u001b[0mfilters\u001b[0m\u001b[0;34m,\u001b[0m\u001b[0;34m\u001b[0m\u001b[0;34m\u001b[0m\u001b[0m\n\u001b[1;32m     21\u001b[0m         \u001b[0mkernel_size\u001b[0m\u001b[0;34m=\u001b[0m\u001b[0;34m(\u001b[0m\u001b[0mconv_kernel_size\u001b[0m\u001b[0;34m,\u001b[0m \u001b[0mconv_kernel_size\u001b[0m\u001b[0;34m)\u001b[0m\u001b[0;34m,\u001b[0m\u001b[0;34m\u001b[0m\u001b[0;34m\u001b[0m\u001b[0m\n",
            "\u001b[0;32m/usr/local/lib/python3.10/dist-packages/keras/src/utils/traceback_utils.py\u001b[0m in \u001b[0;36merror_handler\u001b[0;34m(*args, **kwargs)\u001b[0m\n\u001b[1;32m     68\u001b[0m             \u001b[0;31m# To get the full stack trace, call:\u001b[0m\u001b[0;34m\u001b[0m\u001b[0;34m\u001b[0m\u001b[0m\n\u001b[1;32m     69\u001b[0m             \u001b[0;31m# `tf.debugging.disable_traceback_filtering()`\u001b[0m\u001b[0;34m\u001b[0m\u001b[0;34m\u001b[0m\u001b[0m\n\u001b[0;32m---> 70\u001b[0;31m             \u001b[0;32mraise\u001b[0m \u001b[0me\u001b[0m\u001b[0;34m.\u001b[0m\u001b[0mwith_traceback\u001b[0m\u001b[0;34m(\u001b[0m\u001b[0mfiltered_tb\u001b[0m\u001b[0;34m)\u001b[0m \u001b[0;32mfrom\u001b[0m \u001b[0;32mNone\u001b[0m\u001b[0;34m\u001b[0m\u001b[0;34m\u001b[0m\u001b[0m\n\u001b[0m\u001b[1;32m     71\u001b[0m         \u001b[0;32mfinally\u001b[0m\u001b[0;34m:\u001b[0m\u001b[0;34m\u001b[0m\u001b[0;34m\u001b[0m\u001b[0m\n\u001b[1;32m     72\u001b[0m             \u001b[0;32mdel\u001b[0m \u001b[0mfiltered_tb\u001b[0m\u001b[0;34m\u001b[0m\u001b[0;34m\u001b[0m\u001b[0m\n",
            "\u001b[0;32m/usr/local/lib/python3.10/dist-packages/keras/src/engine/input_spec.py\u001b[0m in \u001b[0;36massert_input_compatibility\u001b[0;34m(input_spec, inputs, layer_name)\u001b[0m\n\u001b[1;32m    217\u001b[0m \u001b[0;34m\u001b[0m\u001b[0m\n\u001b[1;32m    218\u001b[0m     \u001b[0;32mif\u001b[0m \u001b[0mlen\u001b[0m\u001b[0;34m(\u001b[0m\u001b[0minputs\u001b[0m\u001b[0;34m)\u001b[0m \u001b[0;34m!=\u001b[0m \u001b[0mlen\u001b[0m\u001b[0;34m(\u001b[0m\u001b[0minput_spec\u001b[0m\u001b[0;34m)\u001b[0m\u001b[0;34m:\u001b[0m\u001b[0;34m\u001b[0m\u001b[0;34m\u001b[0m\u001b[0m\n\u001b[0;32m--> 219\u001b[0;31m         raise ValueError(\n\u001b[0m\u001b[1;32m    220\u001b[0m             \u001b[0;34mf'Layer \"{layer_name}\" expects {len(input_spec)} input(s),'\u001b[0m\u001b[0;34m\u001b[0m\u001b[0;34m\u001b[0m\u001b[0m\n\u001b[1;32m    221\u001b[0m             \u001b[0;34mf\" but it received {len(inputs)} input tensors. \"\u001b[0m\u001b[0;34m\u001b[0m\u001b[0;34m\u001b[0m\u001b[0m\n",
            "\u001b[0;31mValueError\u001b[0m: Layer \"conv2d\" expects 1 input(s), but it received 7 input tensors. Inputs received: [<tf.Tensor: shape=(8, 10), dtype=float64, numpy=\narray([[ 3.72383526e+03, -3.44326340e+02, -2.30385754e+01,\n         7.59917893e+00, -8.34164493e+01,  1.52066168e+01,\n        -1.86708417e+02,  1.11492957e+02,  2.91823760e+00,\n         8.82425553e+01],\n       [-2.88763986e+02, -2.82724038e+02, -9.44295291e+01,\n        -2.82699360e+02,  1.58901081e+02, -2.21847285e+02,\n        -2.89764579e+02, -1.85962737e+02, -1.27069177e+02,\n        -1.05911573e+02],\n       [-1.72231264e+02,  2.24352394e+02, -7.22937204e+01,\n         1.72610862e+02,  3.09199663e+02,  2.14247838e+02,\n         8.74025587e+00,  1.34367857e+02, -3.36740512e+01,\n         6.89095936e+01],\n       [-2.58464279e+02, -5.63159564e+01, -4.42567003e+01,\n        -1.19371493e+02, -2.07416436e+02, -5.45476975e+01,\n        -5.88160763e+01,  9.61698285e+00, -6.85065647e+01,\n         4.84519084e+01],\n       [ 4.31677248e+00,  4.24496551e+01, -9.70223345e+01,\n         3.30290654e+01,  5.93772803e+01,  3.01244436e+01,\n         2.75365189e+01, -3.62521198e+01, -3.07172160e+00,\n        -5.75987171e+01],\n       [ 3.88184883e+01,  7.61617415e+00, -1.27861380e+02,\n         2.82805798e+01, -1.88841796e+02,  6.86708969e+01,\n        -2.95374381e+01,  4.91549538e+01,  4.41905735e+01,\n         7.66645209e+01],\n       [ 7.88461366e+01, -1.94804947e+01,  3.27108240e+01,\n         4.46637244e+01, -9.21697874e+01,  3.25271302e+01,\n        -1.02315943e+01,  2.54954487e+00, -1.73422293e+01,\n        -2.96146631e+01],\n       [ 2.22205442e+02, -4.82768485e+01, -1.37179190e+02,\n         9.90649609e+00, -6.08778554e+01,  7.79985735e+00,\n         1.49534503e+01,  2.86045437e+01, -3.15052186e+01,\n        -4.43002586e+00]])>, <tf.Tensor: shape=(8, 9), dtype=float64, numpy=\narray([[ 6.16911897e+03, -7.14344485e+02, -6.88499986e+02,\n        -1.19742176e+02, -3.59473788e+02, -2.13060026e+02,\n        -3.41527997e+02,  2.06914030e+01, -1.35605787e+01],\n       [ 3.02849216e+02, -8.59263848e-02,  3.75150237e+02,\n        -2.17697315e+02,  4.98324111e+02, -2.18844358e+02,\n        -1.61480622e+02, -1.85077583e+01,  7.44024647e+00],\n       [-1.03745467e+03, -1.22981841e+01, -2.05790971e+02,\n         6.13949181e+01,  4.19658547e+02, -8.34597277e+01,\n        -2.49516674e+02, -1.06812803e+02,  5.85633153e+00],\n       [-3.65262605e+02, -1.65012932e+02,  1.10409240e+02,\n         1.66164964e+01, -1.48230410e+02, -1.72188189e+01,\n         7.77984292e+00,  5.88634983e+01, -3.99724330e+01],\n       [ 2.50711583e+02, -4.34523720e+01, -1.60971905e+01,\n         1.31195721e+02, -1.29828303e+02, -5.66534686e+01,\n         1.14364522e+02,  5.63509524e+01,  4.45094864e+00],\n       [ 3.05042898e+02, -1.18129223e+02, -2.85244734e+02,\n        -5.31817445e+00, -2.97442104e+02, -7.83479015e+00,\n        -1.14748468e+01, -1.66068165e+01, -4.05988948e+01],\n       [ 5.51229400e+02, -1.23261387e+02,  3.25833508e+01,\n        -2.89775455e+00, -1.73668685e+02,  1.55456709e+00,\n        -1.37082877e+02,  3.23674593e+01, -7.27251252e+01],\n       [ 5.40319566e+02, -2.24009144e+01, -2.59054199e+02,\n        -1.02646584e+01, -2.57029696e+02,  2.06148742e+01,\n         5.03056972e+01, -6.50716212e+01, -1.52822167e+02]])>, <tf.Tensor: shape=(9, 10), dtype=float64, numpy=\narray([[ 5.77190638e+03, -2.00007450e+02, -1.42806173e+03,\n         1.25367199e+01, -7.30376224e+02, -9.39368438e+01,\n        -5.13576855e+02, -3.01005826e+01, -4.38099531e+01,\n         1.56403676e+01],\n       [-3.50702874e+02,  3.27430724e+02,  3.12519661e+02,\n         8.82973921e+01,  6.54053271e+02, -1.46514616e+02,\n         6.24225586e+01, -2.26024838e+02,  6.70333878e+01,\n        -1.62450318e+02],\n       [-9.84352665e+02,  2.40909682e+02, -7.32149064e+02,\n         1.37691824e+02,  2.74999557e+02,  4.17924555e+01,\n        -1.51253502e+02, -4.58886662e+01, -4.01878564e+00,\n        -4.07458626e+01],\n       [-2.05326419e+02,  9.51487388e+01, -1.99801764e+02,\n        -2.01058742e+01, -9.14743685e+01, -6.54110752e+01,\n        -8.41821474e+01, -7.97892608e+01, -9.71870046e+01,\n        -3.80329686e+01],\n       [ 1.07840743e+02, -1.35786348e+01, -2.21913186e+02,\n        -1.31105594e+00,  9.18413846e+01, -3.92878417e+01,\n         1.69480968e+02, -5.02624040e+01,  1.40518999e+02,\n        -4.65216607e+01],\n       [ 1.66276745e+02, -2.82184794e+01,  4.76892982e+01,\n        -3.38272027e+00, -2.63541996e+02, -1.60746639e+01,\n        -8.20023263e-01,  1.08671983e+01,  1.07950877e+02,\n         3.20947558e+01],\n       [ 1.68540578e+02, -9.79724340e+01,  2.86447190e+01,\n        -4.89280450e+01, -1.97424876e+02, -2.22232140e+01,\n        -2.82871626e+01,  2.42254765e+00,  7.85556876e-01,\n         2.20264249e+01],\n       [ 3.01726030e+02, -7.10853911e+01, -1.28795271e+02,\n        -7.58335493e+01, -4.25848399e+01, -3.31669238e+01,\n         9.96877773e+01, -2.51444990e+01, -3.54102448e+01,\n        -3.46172078e+01],\n       [ 4.50505929e+01, -2.33253732e+01,  1.49569903e+02,\n        -1.20911209e+01, -4.49409706e+01, -2.95040010e+01,\n         8.55116504e+01, -2.73220137e+01, -2.59047388e+01,\n        -9.17907842e+00]])>, <tf.Tensor: shape=(8, 9), dtype=float64, numpy=\narray([[ 6.28481622e+03, -4.66501815e+02, -4.64308755e+02,\n        -5.56621391e+01, -4.66265739e+02, -3.52174778e+01,\n        -3.42773996e+02,  1.32578697e+02, -1.57596134e+02],\n       [ 7.60576873e+02,  1.18350310e+01,  3.15628289e+02,\n        -1.06380183e+02,  2.48413573e+02, -1.63154107e+02,\n        -1.94447411e+02, -8.13455497e+01,  5.38430111e+01],\n       [-7.50968691e+02, -2.75958065e+01, -3.38377154e+02,\n         5.37240423e+01,  2.86731528e+02,  9.68253686e+01,\n        -3.00694530e+02,  1.00060023e+01, -4.55031639e+01],\n       [-1.69670617e+02, -7.36175282e+01,  1.59436657e+02,\n        -1.70134133e-01, -1.00140675e+02,  6.18199187e+01,\n        -2.77307199e+01, -1.43294274e+01, -4.66867811e+01],\n       [-2.91466651e+01, -2.66730197e+01, -1.66533855e+02,\n         6.66429010e+01, -2.82531096e+02,  5.91071033e+01,\n         1.47563656e+02,  6.81913530e+00, -3.79993043e+01],\n       [ 4.70167526e+02, -6.03762747e+01, -1.03463652e+02,\n         1.23968976e+01, -3.66017789e+02,  3.25713679e+01,\n        -2.43796204e+01,  3.53442649e+01,  3.49414576e+01],\n       [ 2.36439277e+02, -1.52482995e+01, -2.96026225e+00,\n         2.47253864e+00, -9.01771684e+01, -3.08039518e+01,\n        -1.70481384e+02, -3.28291295e+01, -8.03513902e+01],\n       [ 5.56096498e+02, -6.05072546e+00, -3.74749356e+02,\n         4.15810815e+01, -6.92147869e+01,  1.10560240e+01,\n         1.46709266e+02,  8.82340655e-01, -1.06247325e+02]])>, <tf.Tensor: shape=(8, 9), dtype=float64, numpy=\narray([[ 5.26829679e+03, -5.67612640e+02, -2.41436098e+02,\n        -9.31548388e+01, -2.00252362e+02, -6.09637206e+01,\n        -2.09415491e+02,  4.08897397e+01, -8.01602850e+01],\n       [ 4.73916087e+01, -5.13981485e+01,  2.04486915e+02,\n        -1.50013185e+02,  4.22625325e+02, -1.62846245e+02,\n        -1.51310433e+02, -4.89799928e+01,  1.62143510e+02],\n       [-6.72402403e+02,  4.88801640e+01, -9.72564937e+01,\n         8.45799619e+00,  5.82710887e+02, -4.01516678e+01,\n        -2.61174060e+02, -1.03210194e+01, -7.23189676e+01],\n       [-2.02457169e+02, -1.98682736e+01, -1.43804626e+01,\n        -3.68983674e+01,  1.76455552e+01,  3.79864193e+00,\n        -5.49220247e+01, -2.70200638e+01,  3.81409178e+01],\n       [ 2.66568154e+01,  4.81767700e+01,  1.40235919e+02,\n        -7.85228950e+00, -1.69620709e+02,  4.69320101e+01,\n         7.98216752e+01, -2.49996178e+01,  4.14625392e+01],\n       [ 3.90834376e+02,  3.00457265e+01, -6.47095284e+01,\n         2.43785009e+01, -2.61614829e+02,  2.07858444e+01,\n         5.56642012e+01, -1.24611652e+01, -2.09098708e+01],\n       [ 3.77069675e+02,  8.34102678e-01,  7.03009390e+01,\n        -3.16041597e+01, -1.84073086e+02,  4.47099107e-01,\n        -6.70687146e+01,  3.14600409e+01, -5.99421263e+01],\n       [ 4.64601053e+02, -4.30341172e+01, -3.37196923e+02,\n         6.69601705e+01,  3.42710217e+01, -1.46503024e+01,\n         3.27955210e+00,  7.51964187e+00, -7.50112966e+01]])>, <tf.Tensor: shape=(8, 9), dtype=float64, numpy=\narray([[ 5.51140897e+03,  6.32505050e+01, -4.60856533e+02,\n         8.32377418e+01, -2.35014610e+02,  1.82046969e+01,\n        -2.41821007e+02,  1.99057800e+01, -1.39579007e+02],\n       [ 2.76883100e+02, -1.53929035e+02,  1.47504283e+02,\n        -1.69145617e+02,  2.30745379e+02,  1.05871263e+02,\n        -1.87005925e+02,  1.66556458e+01, -9.55538649e+00],\n       [-5.77707031e+02,  9.45631174e+01,  3.39613640e+01,\n        -1.21849389e+02,  6.98634218e+02,  1.35317865e+02,\n        -2.92185133e+00, -7.35271879e+01, -2.35575482e+01],\n       [-6.35856404e+02, -9.94046216e+01, -1.70134910e+02,\n        -5.03991997e+01, -1.06670503e+02,  3.68701234e+01,\n        -1.28970305e+02,  9.75608528e+00, -5.60130547e+01],\n       [ 1.54506333e+02,  6.73448713e+01,  1.62301647e+01,\n         8.36105586e+01,  1.55020945e+01, -6.16918871e+01,\n         1.56179239e+02, -4.73283481e+01,  2.77367219e+01],\n       [ 1.13176670e+02, -2.21845422e+01, -3.90395144e+00,\n         1.22258752e+02, -3.70863397e+02,  1.79912570e+01,\n        -6.76888323e+01, -6.98437070e+01, -1.08176975e+01],\n       [ 2.74593931e+02, -7.88529340e+01,  1.23377975e+01,\n         3.33401673e+01, -1.90125034e+02, -4.05796531e+01,\n        -1.40304653e+02, -4.78016671e+01, -8.41799319e+01],\n       [ 4.68043310e+02,  7.26520030e+01, -2.42837116e+02,\n         7.30668317e+01,  2.86124194e+01,  5.56557499e+01,\n         3.47509832e+00,  4.39226577e+00, -2.55425285e+01]])>, <tf.Tensor: shape=(9, 9), dtype=float64, numpy=\narray([[ 6.18431316e+03, -5.43098419e+02, -1.04000604e+03,\n        -1.46323060e+02, -5.18941860e+02, -1.73319433e+02,\n        -4.16142768e+02,  5.30992884e+01, -1.49268040e+02],\n       [ 6.79176694e+02, -1.14928288e+02,  4.29447817e+02,\n        -7.33476616e+01,  4.96051870e+02,  4.12081132e+01,\n        -3.27123113e+02, -1.33731647e+00, -2.20913371e+01],\n       [-1.14207626e+03,  8.18532802e+00, -5.95804974e+02,\n        -3.37322735e+01,  5.42140050e+02,  5.10238167e+01,\n        -7.79818282e+01, -3.01380658e+01,  5.01037233e+01],\n       [-4.79240468e+02, -8.57874132e+01,  4.42269164e+01,\n         5.56410731e+00, -3.67192502e+02,  1.04442552e+02,\n        -2.14390138e+02,  5.92742880e+01, -8.91341146e+01],\n       [ 6.81058076e+01,  2.70398662e+01, -2.43336277e+02,\n        -6.24455014e+01, -8.71677645e+01, -5.52439702e+01,\n         6.38183161e+01, -1.77473889e+01,  2.96598560e+01],\n       [ 3.20432379e+02,  6.37855279e+01, -1.82844800e+02,\n         5.53322502e+01, -3.66312112e+02,  7.28478177e+01,\n        -1.55944272e+02,  1.23493905e+01,  2.47250043e+01],\n       [ 3.45251363e+02,  4.95044109e+01, -7.40146056e+01,\n        -4.41847201e+01, -1.36617897e+02, -2.15343714e+01,\n         1.16114386e+01,  3.86438265e+01, -1.32452267e+02],\n       [ 3.86336969e+02, -6.00733319e+01, -1.92719399e+02,\n         5.32543179e+01, -1.75930155e+02, -1.02226191e+01,\n         2.51435478e+02,  1.53062732e+01, -6.62428913e+01],\n       [-1.98239897e+01,  4.06116290e+00,  1.23717875e+02,\n        -2.98909351e+01, -7.58174417e+01,  1.20381039e+01,\n         4.82335231e+01,  4.43686902e+01, -5.60907478e+01]])>]"
          ]
        }
      ],
      "source": [
        "import tensorflow as tf\n",
        "\n",
        "# Definindo a função de inicialização com distribuição normal truncada\n",
        "def truncated_normal_init(shape, dtype=None):\n",
        "    return tf.random.truncated_normal(shape, stddev=0.1, dtype=dtype)\n",
        "\n",
        "# Parâmetros do modelo\n",
        "n = 5\n",
        "k = [40, 1, 1, 1, 1]\n",
        "conv_kernel_size = 5\n",
        "c = 6  # ou 7\n",
        "\n",
        "# Placeholder para a entrada\n",
        "# input_image = tf.keras.layers.Input(shape=(128, 128, 1))\n",
        "\n",
        "# Construindo as camadas LMK com filtros de multiplicação\n",
        "x = frequency_input\n",
        "for filters in k:\n",
        "    x = tf.keras.layers.Conv2D(\n",
        "        filters=filters,\n",
        "        kernel_size=(conv_kernel_size, conv_kernel_size),\n",
        "        padding='same',\n",
        "        kernel_initializer=truncated_normal_init)(x)\n",
        "\n",
        "# Adicionando camada de convolução e pooling\n",
        "x = tf.keras.layers.Conv2D(\n",
        "    filters=c,\n",
        "    kernel_size=(conv_kernel_size, conv_kernel_size),\n",
        "    padding='same',\n",
        "    kernel_initializer=truncated_normal_init)(x)\n",
        "\n",
        "x = tf.keras.layers.MaxPooling2D(pool_size=(2, 2))(x)\n",
        "\n",
        "# Adicionando camadas totalmente conectadas para classificação\n",
        "x = tf.keras.layers.Flatten()(x)\n",
        "x = tf.keras.layers.Dense(2048, activation='relu')(x)\n",
        "x = tf.keras.layers.Dropout(0.5)(x)\n",
        "x = tf.keras.layers.Dense(512, activation='relu')(x)\n",
        "x = tf.keras.layers.Dropout(0.5)(x)\n",
        "output = tf.keras.layers.Dense(c, activation='softmax')(x)\n",
        "\n",
        "# Definindo o modelo\n",
        "model = tf.keras.Model(inputs=frequency_input, outputs=output)\n",
        "\n",
        "# Compilando o modelo\n",
        "model.compile(optimizer='adam', loss='categorical_crossentropy', metrics=['accuracy'])\n",
        "\n",
        "# Resumo do modelo\n",
        "model.summary()\n"
      ]
    }
  ],
  "metadata": {
    "accelerator": "GPU",
    "colab": {
      "collapsed_sections": [
        "ebU8jxH5xTqU",
        "8cfUewjQ2uOX",
        "rVVDTzGJ0Y_0"
      ],
      "gpuType": "L4",
      "include_colab_link": true,
      "machine_shape": "hm",
      "provenance": []
    },
    "kernelspec": {
      "display_name": "Python 3",
      "name": "python3"
    },
    "language_info": {
      "codemirror_mode": {
        "name": "ipython",
        "version": 3
      },
      "file_extension": ".py",
      "mimetype": "text/x-python",
      "name": "python",
      "nbconvert_exporter": "python",
      "pygments_lexer": "ipython3",
      "version": "3.10.12"
    }
  },
  "nbformat": 4,
  "nbformat_minor": 0
}
