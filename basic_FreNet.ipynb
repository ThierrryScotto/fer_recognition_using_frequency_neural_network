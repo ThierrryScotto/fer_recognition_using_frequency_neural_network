{
  "cells": [
    {
      "cell_type": "markdown",
      "metadata": {
        "colab_type": "text",
        "id": "view-in-github"
      },
      "source": [
        "<a href=\"https://colab.research.google.com/github/ThierrryScotto/fer_recognition_using_frequency_neural_network/blob/master/basic_FreNet.ipynb\" target=\"_parent\"><img src=\"https://colab.research.google.com/assets/colab-badge.svg\" alt=\"Open In Colab\"/></a>"
      ]
    },
    {
      "cell_type": "markdown",
      "metadata": {
        "id": "tINK-933xTqQ"
      },
      "source": [
        "# Importing libraries"
      ]
    },
    {
      "cell_type": "code",
      "execution_count": 1,
      "metadata": {
        "id": "Xu1lPfdnxTqS"
      },
      "outputs": [
        {
          "name": "stderr",
          "output_type": "stream",
          "text": [
            "2024-08-03 17:24:14.151722: I external/local_xla/xla/tsl/cuda/cudart_stub.cc:32] Could not find cuda drivers on your machine, GPU will not be used.\n",
            "2024-08-03 17:24:14.192943: I external/local_xla/xla/tsl/cuda/cudart_stub.cc:32] Could not find cuda drivers on your machine, GPU will not be used.\n",
            "2024-08-03 17:24:14.262821: E external/local_xla/xla/stream_executor/cuda/cuda_fft.cc:485] Unable to register cuFFT factory: Attempting to register factory for plugin cuFFT when one has already been registered\n",
            "2024-08-03 17:24:14.327131: E external/local_xla/xla/stream_executor/cuda/cuda_dnn.cc:8454] Unable to register cuDNN factory: Attempting to register factory for plugin cuDNN when one has already been registered\n",
            "2024-08-03 17:24:14.342242: E external/local_xla/xla/stream_executor/cuda/cuda_blas.cc:1452] Unable to register cuBLAS factory: Attempting to register factory for plugin cuBLAS when one has already been registered\n",
            "2024-08-03 17:24:14.451099: I tensorflow/core/platform/cpu_feature_guard.cc:210] This TensorFlow binary is optimized to use available CPU instructions in performance-critical operations.\n",
            "To enable the following instructions: AVX2 FMA, in other operations, rebuild TensorFlow with the appropriate compiler flags.\n",
            "2024-08-03 17:24:16.519496: W tensorflow/compiler/tf2tensorrt/utils/py_utils.cc:38] TF-TRT Warning: Could not find TensorRT\n"
          ]
        }
      ],
      "source": [
        "import numpy as np\n",
        "import pandas as pd\n",
        "import tensorflow as tf\n",
        "import matplotlib.pyplot as plt\n",
        "import os\n",
        "\n",
        "from PIL import Image\n",
        "from scipy.fftpack import dct"
      ]
    },
    {
      "cell_type": "markdown",
      "metadata": {
        "id": "ebU8jxH5xTqU"
      },
      "source": [
        "# Importing dataset"
      ]
    },
    {
      "cell_type": "code",
      "execution_count": 2,
      "metadata": {
        "colab": {
          "base_uri": "https://localhost:8080/",
          "height": 424
        },
        "id": "yzbLfMuqxTqU",
        "outputId": "75015979-c104-4e39-df1c-1e18e762beb5"
      },
      "outputs": [
        {
          "data": {
            "text/html": [
              "<div>\n",
              "<style scoped>\n",
              "    .dataframe tbody tr th:only-of-type {\n",
              "        vertical-align: middle;\n",
              "    }\n",
              "\n",
              "    .dataframe tbody tr th {\n",
              "        vertical-align: top;\n",
              "    }\n",
              "\n",
              "    .dataframe thead th {\n",
              "        text-align: right;\n",
              "    }\n",
              "</style>\n",
              "<table border=\"1\" class=\"dataframe\">\n",
              "  <thead>\n",
              "    <tr style=\"text-align: right;\">\n",
              "      <th></th>\n",
              "      <th>emotion</th>\n",
              "      <th>pixels</th>\n",
              "      <th>Usage</th>\n",
              "    </tr>\n",
              "  </thead>\n",
              "  <tbody>\n",
              "    <tr>\n",
              "      <th>0</th>\n",
              "      <td>6</td>\n",
              "      <td>36 39 35 25 19 11 8 7 3 13 15 9 21 57 75 90 10...</td>\n",
              "      <td>Training</td>\n",
              "    </tr>\n",
              "    <tr>\n",
              "      <th>1</th>\n",
              "      <td>6</td>\n",
              "      <td>88 74 19 4 5 5 3 12 8 21 15 21 15 18 24 29 32 ...</td>\n",
              "      <td>Training</td>\n",
              "    </tr>\n",
              "    <tr>\n",
              "      <th>2</th>\n",
              "      <td>6</td>\n",
              "      <td>9 2 4 7 1 1 1 0 7 29 49 76 115 141 156 169 177...</td>\n",
              "      <td>Training</td>\n",
              "    </tr>\n",
              "    <tr>\n",
              "      <th>3</th>\n",
              "      <td>6</td>\n",
              "      <td>104 106 108 104 95 50 60 61 58 83 126 133 139 ...</td>\n",
              "      <td>Training</td>\n",
              "    </tr>\n",
              "    <tr>\n",
              "      <th>4</th>\n",
              "      <td>6</td>\n",
              "      <td>68 72 67 67 6 2 1 1 1 1 1 14 24 24 38 65 79 94...</td>\n",
              "      <td>Training</td>\n",
              "    </tr>\n",
              "    <tr>\n",
              "      <th>...</th>\n",
              "      <td>...</td>\n",
              "      <td>...</td>\n",
              "      <td>...</td>\n",
              "    </tr>\n",
              "    <tr>\n",
              "      <th>915</th>\n",
              "      <td>5</td>\n",
              "      <td>87 86 88 92 92 127 231 248 251 253 254 254 254...</td>\n",
              "      <td>PrivateTest</td>\n",
              "    </tr>\n",
              "    <tr>\n",
              "      <th>916</th>\n",
              "      <td>5</td>\n",
              "      <td>21 24 26 28 27 28 30 8 0 0 0 0 0 0 1 4 37 42 4...</td>\n",
              "      <td>PrivateTest</td>\n",
              "    </tr>\n",
              "    <tr>\n",
              "      <th>917</th>\n",
              "      <td>5</td>\n",
              "      <td>76 40 31 38 28 34 38 36 41 36 46 38 44 26 45 5...</td>\n",
              "      <td>PrivateTest</td>\n",
              "    </tr>\n",
              "    <tr>\n",
              "      <th>918</th>\n",
              "      <td>5</td>\n",
              "      <td>114 87 16 29 17 25 30 34 37 35 45 93 63 80 73 ...</td>\n",
              "      <td>PrivateTest</td>\n",
              "    </tr>\n",
              "    <tr>\n",
              "      <th>919</th>\n",
              "      <td>5</td>\n",
              "      <td>101 102 99 96 98 42 23 18 15 17 27 34 17 24 29...</td>\n",
              "      <td>PrivateTest</td>\n",
              "    </tr>\n",
              "  </tbody>\n",
              "</table>\n",
              "<p>920 rows × 3 columns</p>\n",
              "</div>"
            ],
            "text/plain": [
              "     emotion                                             pixels        Usage\n",
              "0          6  36 39 35 25 19 11 8 7 3 13 15 9 21 57 75 90 10...     Training\n",
              "1          6  88 74 19 4 5 5 3 12 8 21 15 21 15 18 24 29 32 ...     Training\n",
              "2          6  9 2 4 7 1 1 1 0 7 29 49 76 115 141 156 169 177...     Training\n",
              "3          6  104 106 108 104 95 50 60 61 58 83 126 133 139 ...     Training\n",
              "4          6  68 72 67 67 6 2 1 1 1 1 1 14 24 24 38 65 79 94...     Training\n",
              "..       ...                                                ...          ...\n",
              "915        5  87 86 88 92 92 127 231 248 251 253 254 254 254...  PrivateTest\n",
              "916        5  21 24 26 28 27 28 30 8 0 0 0 0 0 0 1 4 37 42 4...  PrivateTest\n",
              "917        5  76 40 31 38 28 34 38 36 41 36 46 38 44 26 45 5...  PrivateTest\n",
              "918        5  114 87 16 29 17 25 30 34 37 35 45 93 63 80 73 ...  PrivateTest\n",
              "919        5  101 102 99 96 98 42 23 18 15 17 27 34 17 24 29...  PrivateTest\n",
              "\n",
              "[920 rows x 3 columns]"
            ]
          },
          "execution_count": 2,
          "metadata": {},
          "output_type": "execute_result"
        }
      ],
      "source": [
        "# df_ck_plus = pd.read_csv('./Datasets/ckextended.csv')\n",
        "URL = \"./datasets/ckextended.csv\"\n",
        "df_ck_plus = pd.read_csv(URL)\n",
        "df_ck_plus"
      ]
    },
    {
      "cell_type": "markdown",
      "metadata": {
        "id": "8cfUewjQ2uOX"
      },
      "source": [
        "## Download of shape_predictor"
      ]
    },
    {
      "cell_type": "code",
      "execution_count": 43,
      "metadata": {
        "colab": {
          "base_uri": "https://localhost:8080/"
        },
        "id": "O0q-s6qs2yDG",
        "outputId": "e45a170b-212e-4f55-cd9b-4b5e9647a425"
      },
      "outputs": [
        {
          "name": "stdout",
          "output_type": "stream",
          "text": [
            "Arquivo descompactado salvo em: ./content/model/shape_predictor_68_face_landmarks.bz2\n",
            "Arquivo descompactado com sucesso!\n"
          ]
        },
        {
          "data": {
            "text/plain": [
              "<src.models.ShapePredictor at 0x7efd44849000>"
            ]
          },
          "execution_count": 43,
          "metadata": {},
          "output_type": "execute_result"
        }
      ],
      "source": [
        "from src.models import ShapePredictor\n",
        "\n",
        "ShapePredictor()"
      ]
    },
    {
      "cell_type": "markdown",
      "metadata": {
        "id": "WPECmpNFx5gO"
      },
      "source": [
        "## Converting 1D vectors to images"
      ]
    },
    {
      "cell_type": "code",
      "execution_count": 39,
      "metadata": {
        "id": "YBG_6YZKyD7-"
      },
      "outputs": [],
      "source": [
        "HEIGHT = 48\n",
        "WIDTH = 48\n",
        "OUTPUT_FOLDER = './images/input_images'\n",
        "os.makedirs(OUTPUT_FOLDER, exist_ok=False)\n",
        "OUTPUT_PATH = os.path.join(OUTPUT_FOLDER, 'reconstructed_image')"
      ]
    },
    {
      "cell_type": "code",
      "execution_count": 40,
      "metadata": {
        "colab": {
          "base_uri": "https://localhost:8080/"
        },
        "id": "AyjI6YspyHMK",
        "outputId": "99fcf884-6b57-4458-9f38-0fb9d4852a0b"
      },
      "outputs": [
        {
          "data": {
            "text/plain": [
              "(920, 3)"
            ]
          },
          "execution_count": 40,
          "metadata": {},
          "output_type": "execute_result"
        }
      ],
      "source": [
        "df_ck_plus.shape"
      ]
    },
    {
      "cell_type": "code",
      "execution_count": 41,
      "metadata": {
        "id": "16iS4p2tyLnA"
      },
      "outputs": [],
      "source": [
        "images_label = []\n",
        "\n",
        "for index, row in df_ck_plus.iterrows():\n",
        "  one_dimensional_str = row['pixels'].split()\n",
        "  one_dimensional_vec = np.array(list(map(int, one_dimensional_str)))\n",
        "\n",
        "  if one_dimensional_vec.size == HEIGHT * WIDTH:\n",
        "    image_2d = one_dimensional_vec.reshape((HEIGHT, WIDTH))\n",
        "    plt.imsave(f\"{OUTPUT_PATH}_{index}_emotion.png\", image_2d, cmap='gray')\n",
        "    images_label.append(row['emotion'])\n",
        "  else:\n",
        "    print()\n",
        "    raise ValueError(f\"The size of the vector {one_dimensional_vec.size} does not correspond to the product of the dimensions ({HEIGHT}, {WIDTH})\")"
      ]
    },
    {
      "cell_type": "markdown",
      "metadata": {
        "id": "rVVDTzGJ0Y_0"
      },
      "source": [
        "#Image pre-processing"
      ]
    },
    {
      "cell_type": "code",
      "execution_count": null,
      "metadata": {
        "colab": {
          "base_uri": "https://localhost:8080/"
        },
        "id": "qay-GYh30kHL",
        "outputId": "fcd8a1fb-7669-4550-d7b8-4e14010239f6"
      },
      "outputs": [],
      "source": [
        "import dlib\n",
        "from PIL import Image\n",
        "import numpy as np\n",
        "import os\n",
        "\n",
        "def adjust_and_crop_face(image_path, output_folder):\n",
        "    # Carregar a imagem\n",
        "    image = dlib.load_rgb_image(image_path)\n",
        "\n",
        "    # Inicializar o detector de rostos e o preditor de pontos-chave\n",
        "    detector = dlib.get_frontal_face_detector()\n",
        "\n",
        "    # Caminho completo para o arquivo shape_predictor_68_face_landmarks.dat\n",
        "    dat_file_path = './models/shape_predictor_68_face_landmarks.dat'\n",
        "    # Carregar o preditor de forma\n",
        "    predictor = dlib.shape_predictor(dat_file_path)\n",
        "\n",
        "    # Detectar os rostos na imagem\n",
        "    faces = detector(image, 1)\n",
        "\n",
        "    # Criar a pasta de saída, se não existir\n",
        "    os.makedirs(output_folder, exist_ok=True)\n",
        "\n",
        "    # Processar cada rosto detectado\n",
        "    for i, face in enumerate(faces):\n",
        "        # Obter os pontos chave do rosto\n",
        "        landmarks = predictor(image, face)\n",
        "\n",
        "        # Converter os pontos chave para um formato utilizável\n",
        "        face_landmarks = {\n",
        "            \"left_eye\": [(landmarks.part(j).x, landmarks.part(j).y) for j in range(36, 42)],\n",
        "            \"right_eye\": [(landmarks.part(j).x, landmarks.part(j).y) for j in range(42, 48)],\n",
        "            \"left_eyebrow\": [(landmarks.part(j).x, landmarks.part(j).y) for j in range(17, 22)],\n",
        "            \"right_eyebrow\": [(landmarks.part(j).x, landmarks.part(j).y) for j in range(22, 27)],\n",
        "            \"chin\": [(landmarks.part(j).x, landmarks.part(j).y) for j in range(0, 17)],\n",
        "        }\n",
        "\n",
        "        # Obter os pontos dos olhos, sobrancelhas e queixo\n",
        "        left_eye = np.array(face_landmarks['left_eye'])\n",
        "        right_eye = np.array(face_landmarks['right_eye'])\n",
        "        left_eyebrow = np.array(face_landmarks['left_eyebrow'])\n",
        "        right_eyebrow = np.array(face_landmarks['right_eyebrow'])\n",
        "        chin = np.array(face_landmarks['chin'])\n",
        "\n",
        "        # Calcular o ponto médio entre os olhos\n",
        "        left_eye_center = left_eye.mean(axis=0)\n",
        "        right_eye_center = right_eye.mean(axis=0)\n",
        "        eye_center = ((left_eye_center + right_eye_center) / 2).astype(int)\n",
        "\n",
        "        # Calcular o ângulo para horizontalizar os olhos\n",
        "        dy = right_eye_center[1] - left_eye_center[1]\n",
        "        dx = right_eye_center[0] - left_eye_center[0]\n",
        "        angle = np.degrees(np.arctan2(dy, dx))\n",
        "\n",
        "        # Rotacionar a imagem para horizontalizar os olhos\n",
        "        pil_image = Image.fromarray(image)\n",
        "        pil_image = pil_image.rotate(angle, center=tuple(eye_center), expand=True)\n",
        "\n",
        "        # Recalcular os pontos chave após rotação\n",
        "        rotated_image = np.array(pil_image)\n",
        "        rotated_faces = detector(rotated_image, 1)\n",
        "        rotated_landmarks = predictor(rotated_image, rotated_faces[0])\n",
        "\n",
        "        # Obter os novos pontos chave para sobrancelhas e queixo\n",
        "        left_eyebrow = np.array([(rotated_landmarks.part(j).x, rotated_landmarks.part(j).y) for j in range(17, 22)])\n",
        "        right_eyebrow = np.array([(rotated_landmarks.part(j).x, rotated_landmarks.part(j).y) for j in range(22, 27)])\n",
        "        chin = np.array([(rotated_landmarks.part(j).x, rotated_landmarks.part(j).y) for j in range(0, 17)])\n",
        "\n",
        "        # Calcular o topo das sobrancelhas e o fundo do queixo\n",
        "        top_of_eyebrows = min(left_eyebrow[:,1].min(), right_eyebrow[:,1].min())\n",
        "        bottom_of_chin = chin[:,1].max()\n",
        "\n",
        "        # Calcular as coordenadas do recorte\n",
        "        top = top_of_eyebrows\n",
        "        bottom = bottom_of_chin\n",
        "        left = min(chin[:,0].min(), left_eyebrow[:,0].min(), right_eyebrow[:,0].min())\n",
        "        right = max(chin[:,0].max(), left_eyebrow[:,0].max(), right_eyebrow[:,0].max())\n",
        "\n",
        "        # Recortar a imagem\n",
        "        cropped_face = pil_image.crop((left, top, right, bottom))\n",
        "\n",
        "        # Salvar a imagem recortada com o nome original acrescido de \"face\"\n",
        "        base_filename, ext = os.path.splitext(os.path.basename(image_path))\n",
        "        face_image_path = os.path.join(output_folder, f'{base_filename}_face{ext}')\n",
        "        cropped_face.save(face_image_path)\n",
        "        print(f'Rosto {i+1} salvo em {face_image_path}')\n",
        "\n",
        "# Caminho para a pasta de entrada\n",
        "input_folder = './images/input_images/'\n",
        "\n",
        "# Pasta para salvar os rostos recortados\n",
        "output_folder = './images/preprocessed_images'\n",
        "\n",
        "# Processar cada imagem na pasta de entrada\n",
        "for filename in os.listdir(input_folder):\n",
        "    if filename.lower().endswith(('.png', '.jpg', '.jpeg', '.bmp', '.gif')):\n",
        "        image_path = os.path.join(input_folder, filename)\n",
        "        adjust_and_crop_face(image_path, output_folder)\n"
      ]
    },
    {
      "cell_type": "markdown",
      "metadata": {
        "id": "39dum6sPxTqV"
      },
      "source": [
        "# DCT and CIE Layer"
      ]
    },
    {
      "cell_type": "markdown",
      "metadata": {
        "id": "_3aDNDyH42Jt"
      },
      "source": [
        "Getting one image of example"
      ]
    },
    {
      "cell_type": "code",
      "execution_count": 48,
      "metadata": {
        "id": "qqqMxGV-ElrF"
      },
      "outputs": [],
      "source": [
        "def load_image_as_array(image_path):\n",
        "    image = Image.open(image_path).convert('L')  # Load grayscale image\n",
        "    return np.array(image)"
      ]
    },
    {
      "cell_type": "code",
      "execution_count": 9,
      "metadata": {
        "colab": {
          "base_uri": "https://localhost:8080/"
        },
        "id": "oqxos7Kp41wp",
        "outputId": "2d6d4d85-6f03-4fbb-d195-b32e53c67ba5"
      },
      "outputs": [
        {
          "name": "stdout",
          "output_type": "stream",
          "text": [
            "7\n"
          ]
        }
      ],
      "source": [
        "# Caminhos das imagens\n",
        "image_paths = [\n",
        "    '/content/drive/MyDrive/trabalho_processamento_imagem/preprocessed_images/reconstructed_image_0_face.png',\n",
        "    '/content/drive/MyDrive/trabalho_processamento_imagem/preprocessed_images/reconstructed_image_1_face.png',\n",
        "    '/content/drive/MyDrive/trabalho_processamento_imagem/preprocessed_images/reconstructed_image_2_face.png',\n",
        "    '/content/drive/MyDrive/trabalho_processamento_imagem/preprocessed_images/reconstructed_image_3_face.png',\n",
        "    '/content/drive/MyDrive/trabalho_processamento_imagem/preprocessed_images/reconstructed_image_4_face.png',\n",
        "    '/content/drive/MyDrive/trabalho_processamento_imagem/preprocessed_images/reconstructed_image_5_face.png',\n",
        "    '/content/drive/MyDrive/trabalho_processamento_imagem/preprocessed_images/reconstructed_image_6_face.png',\n",
        "]\n",
        "\n",
        "# Lista para armazenar os arrays das imagens\n",
        "image_arrays = []\n",
        "\n",
        "# Carregar cada imagem e convertê-la em um array NumPy\n",
        "for image_path in image_paths:\n",
        "    if os.path.exists(image_path):\n",
        "        image_array = load_image_as_array(image_path)\n",
        "        image_arrays.append(image_array)\n",
        "    else:\n",
        "        print(f\"Imagem não encontrada: {image_path}\")\n",
        "\n",
        "print(len(image_arrays))"
      ]
    },
    {
      "cell_type": "code",
      "execution_count": 26,
      "metadata": {},
      "outputs": [
        {
          "name": "stdout",
          "output_type": "stream",
          "text": [
            "920\n"
          ]
        }
      ],
      "source": [
        "def load_images_from_folder(folder, size=(10, 10)):\n",
        "    images = []\n",
        "    labels = []  # Se você tiver etiquetas para suas imagens, você pode adicioná-las a esta lista\n",
        "    count = 0\n",
        "\n",
        "    for filename in os.listdir(folder):\n",
        "      if filename.endswith(('.png', '.jpg', '.jpeg')):\n",
        "        filename = f\"reconstructed_image_{count}_emotion_face.png\"\n",
        "\n",
        "        img_path = os.path.join(folder, filename)\n",
        "        # image_array = load_image_as_array(img_path)\n",
        "        image_array = Image.open(f\"{folder}/{filename}\").convert('L')\n",
        "        image_array = image_array.resize(size)\n",
        "        images.append(np.array(image_array))\n",
        "        count += 1\n",
        "\n",
        "    return images\n",
        "\n",
        "# Caminho da pasta contendo as imagens\n",
        "folder_path = './images/preprocessed_images'\n",
        "\n",
        "# Carregar as imagens\n",
        "images = load_images_from_folder(folder_path)\n",
        "\n",
        "# Verificar a forma das imagens carregadas\n",
        "print(len(images))\n"
      ]
    },
    {
      "cell_type": "code",
      "execution_count": 27,
      "metadata": {},
      "outputs": [
        {
          "data": {
            "text/plain": [
              "array([[ 28,  69,  63,  70, 109, 105,  69,  71, 109,  77],\n",
              "       [ 54,  73,  43,  48, 105, 104,  54,  42,  90, 120],\n",
              "       [ 70,  98,  81,  77, 102, 112,  96,  95, 137, 143],\n",
              "       [ 65, 103, 104,  89, 110, 116, 114, 129, 133, 125],\n",
              "       [ 58,  97, 109,  86,  96, 100, 104, 124, 121, 122],\n",
              "       [ 48,  97, 113,  99,  88,  93, 115, 120, 120, 124],\n",
              "       [ 65,  99, 116,  89,  70,  86, 106, 124, 127, 114],\n",
              "       [ 78,  84, 119,  91,  61,  64,  99, 122, 125,  74],\n",
              "       [144,  74, 113, 110, 114, 121, 124, 123, 116,  65],\n",
              "       [199,  77,  83,  99, 110, 115, 112, 107, 102,  70]], dtype=uint8)"
            ]
          },
          "execution_count": 27,
          "metadata": {},
          "output_type": "execute_result"
        }
      ],
      "source": [
        "images[0]"
      ]
    },
    {
      "cell_type": "markdown",
      "metadata": {
        "id": "rgd7HeELQB7V"
      },
      "source": [
        "**using the gamma parameter to reduce the image size**"
      ]
    },
    {
      "cell_type": "code",
      "execution_count": 62,
      "metadata": {
        "id": "d3SDNMUAP6Ca"
      },
      "outputs": [],
      "source": [
        "γ = 5\n",
        "\n",
        "def resize_dct(dct_image, gamma):\n",
        "    h, w = dct_image.shape\n",
        "    new_h, new_w = int(h * gamma), int(w * gamma)\n",
        "    return dct_image[:new_h, :new_w]"
      ]
    },
    {
      "cell_type": "markdown",
      "metadata": {
        "id": "FyWShht6Treu"
      },
      "source": [
        "verificando a escala das imagens"
      ]
    },
    {
      "cell_type": "code",
      "execution_count": null,
      "metadata": {
        "id": "qq7ZoRCMRZn7"
      },
      "outputs": [],
      "source": [
        "# for i, image_array in enumerate(image_arrays):\n",
        "#     print(f\"Forma da imagem {i}: {image_array.shape}\")\n",
        "\n",
        "# # Exibir a quantidade de imagens carregadas\n",
        "# print(f\"Total de imagens carregadas: {len(image_arrays)}\")"
      ]
    },
    {
      "cell_type": "code",
      "execution_count": 63,
      "metadata": {},
      "outputs": [
        {
          "name": "stdout",
          "output_type": "stream",
          "text": [
            "[[ 9.72700000e+02 -9.14601375e+01 -1.93588142e+00 -1.75648293e+00\n",
            "  -1.59952257e+01  1.10000000e+00 -3.83712440e+01  2.08550466e+01\n",
            "   3.66234282e+00  1.34486080e+01]\n",
            " [-7.39047519e+01 -6.76451969e+01 -1.59557196e+01 -6.88734670e+01\n",
            "   4.72670998e+01 -5.00968250e+01 -6.21467111e+01 -3.57309785e+01\n",
            "  -1.99705522e+01 -9.33155715e+00]\n",
            " [-4.60869142e+01  5.65975212e+01 -1.85335328e+01  4.06279774e+01\n",
            "   7.90036811e+01  4.87790954e+01  1.80754615e+00  2.76842549e+01\n",
            "  -6.04641233e-01  8.37535803e+00]\n",
            " [-6.87645130e+01 -1.63667946e+01 -6.51647295e+00 -3.44897469e+01\n",
            "  -4.80371320e+01 -1.73883518e+01 -1.34790880e+01 -2.85453262e+00\n",
            "  -9.73438372e+00 -1.41843163e+00]\n",
            " [-3.23533987e-01  1.37514789e+01 -2.32960625e+01  8.67186814e+00\n",
            "   1.58466518e+01  8.59761357e+00  5.39279278e+00 -4.57051193e+00\n",
            "   4.45739087e+00 -1.60464925e+00]\n",
            " [ 6.50000000e+00  5.85047287e-01 -2.86352152e+01  3.37715129e+00\n",
            "  -4.30899478e+01  1.25000000e+01 -8.40383542e+00  6.03551051e+00\n",
            "   6.40752691e+00  4.75659350e+00]\n",
            " [ 1.74276029e+01 -4.20572352e+00  7.80754615e+00  8.65860648e+00\n",
            "  -2.11812868e+01  4.68239851e+00 -3.21646718e+00  6.72683743e-01\n",
            "  -2.95692060e+00 -3.42218889e+00]\n",
            " [ 4.37386939e+01 -8.16765522e+00 -2.32662690e+01  1.73173888e+00\n",
            "  -1.20337947e+01  2.13250525e+00  2.18924257e+00  5.61435867e+00\n",
            "  -4.63147706e+00  1.53126874e+00]\n",
            " [-6.47536298e+00 -4.44804980e+00  1.42418498e+01 -4.78807607e+00\n",
            "  -2.12573909e+01  3.57715542e+00  1.64877896e+00  2.19687410e+00\n",
            "  -7.29665178e+00  1.24658603e+00]\n",
            " [ 1.49015450e+01 -2.29123658e+00  3.11230045e+00  3.16708481e+00\n",
            "   3.44419428e+00  7.59679179e-02 -2.48044522e+00  4.87575659e+00\n",
            "   2.94088092e+00 -1.47941486e+00]]\n"
          ]
        }
      ],
      "source": [
        "frequency_input = []\n",
        "\n",
        "for index in range(len(images)):\n",
        "    transformed_image = dct(dct(images[index].T, norm='ortho').T, norm='ortho')\n",
        "    frequency_input.append(resize_dct(transformed_image, γ))\n",
        "    # frequency_input.append(dct(dct(image_arrays[index].T, norm='ortho').T, norm='ortho'))\n",
        "\n",
        "print(frequency_input[0])"
      ]
    },
    {
      "cell_type": "code",
      "execution_count": 64,
      "metadata": {},
      "outputs": [
        {
          "name": "stdout",
          "output_type": "stream",
          "text": [
            "920\n",
            "(10, 10)\n"
          ]
        }
      ],
      "source": [
        "print(len(frequency_input))\n",
        "print(frequency_input[100].shape)"
      ]
    },
    {
      "cell_type": "code",
      "execution_count": null,
      "metadata": {
        "colab": {
          "base_uri": "https://localhost:8080/"
        },
        "id": "oTXqvRahFnja",
        "outputId": "dc6be18c-7528-4fa0-9838-b33f6d98a341"
      },
      "outputs": [],
      "source": [
        "# frequency_input = []\n",
        "\n",
        "# for index in range(len(image_arrays)):\n",
        "#     transformed_image = dct(dct(image_arrays[index].T, norm='ortho').T, norm='ortho')\n",
        "#     frequency_input.append(resize_dct(transformed_image, γ))\n",
        "#     # frequency_input.append(dct(dct(image_arrays[index].T, norm='ortho').T, norm='ortho'))\n",
        "\n",
        "# print(frequency_input[0])"
      ]
    },
    {
      "cell_type": "code",
      "execution_count": 65,
      "metadata": {
        "colab": {
          "base_uri": "https://localhost:8080/",
          "height": 430
        },
        "id": "RWxtE2uT2ppa",
        "outputId": "de6f22d6-52ae-4ef6-a0cc-8cd6840e3485"
      },
      "outputs": [
        {
          "data": {
            "image/png": "[encoded data removed]",
            "text/plain": [
              "<Figure size 640x480 with 1 Axes>"
            ]
          },
          "metadata": {},
          "output_type": "display_data"
        }
      ],
      "source": [
        "plt.imshow(frequency_input[900])\n",
        "plt.show()"
      ]
    },
    {
      "cell_type": "markdown",
      "metadata": {
        "id": "EN6gzhxGIF-Y"
      },
      "source": [
        "# Basic-FreNet"
      ]
    },
    {
      "cell_type": "markdown",
      "metadata": {
        "id": "k4j9rcN2ITiN"
      },
      "source": [
        "**Paremeters**"
      ]
    },
    {
      "cell_type": "markdown",
      "metadata": {
        "id": "L41FbK_3tWKE"
      },
      "source": [
        "![image.png](data:image/png;base64,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)"
      ]
    },
    {
      "cell_type": "code",
      "execution_count": 66,
      "metadata": {
        "id": "eZIG8jc6IJIQ"
      },
      "outputs": [],
      "source": [
        "n = 5\n",
        "k = [40, 1, 1, 1, 1]\n",
        "conv = 5\n",
        "c = 6"
      ]
    },
    {
      "cell_type": "code",
      "execution_count": 67,
      "metadata": {},
      "outputs": [
        {
          "data": {
            "text/plain": [
              "10"
            ]
          },
          "execution_count": 67,
          "metadata": {},
          "output_type": "execute_result"
        }
      ],
      "source": [
        "hight, width = frequency_input[0].shape\n",
        "hight"
      ]
    },
    {
      "cell_type": "code",
      "execution_count": 82,
      "metadata": {
        "colab": {
          "base_uri": "https://localhost:8080/",
          "height": 1000
        },
        "id": "jS2MemQSXIPN",
        "outputId": "c15b29e9-20e4-4594-bf56-ff681a5c57fc"
      },
      "outputs": [
        {
          "data": {
            "text/html": [
              "<pre style=\"white-space:pre;overflow-x:auto;line-height:normal;font-family:Menlo,'DejaVu Sans Mono',consolas,'Courier New',monospace\"><span style=\"font-weight: bold\">Model: \"functional_7\"</span>\n",
              "</pre>\n"
            ],
            "text/plain": [
              "\u001b[1mModel: \"functional_7\"\u001b[0m\n"
            ]
          },
          "metadata": {},
          "output_type": "display_data"
        },
        {
          "data": {
            "text/html": [
              "<pre style=\"white-space:pre;overflow-x:auto;line-height:normal;font-family:Menlo,'DejaVu Sans Mono',consolas,'Courier New',monospace\">┏━━━━━━━━━━━━━━━━━━━━━━━━━━━━━━━━━┳━━━━━━━━━━━━━━━━━━━━━━━━┳━━━━━━━━━━━━━━━┓\n",
              "┃<span style=\"font-weight: bold\"> Layer (type)                    </span>┃<span style=\"font-weight: bold\"> Output Shape           </span>┃<span style=\"font-weight: bold\">       Param # </span>┃\n",
              "┡━━━━━━━━━━━━━━━━━━━━━━━━━━━━━━━━━╇━━━━━━━━━━━━━━━━━━━━━━━━╇━━━━━━━━━━━━━━━┩\n",
              "│ input_layer_8 (<span style=\"color: #0087ff; text-decoration-color: #0087ff\">InputLayer</span>)      │ (<span style=\"color: #00d7ff; text-decoration-color: #00d7ff\">None</span>, <span style=\"color: #00af00; text-decoration-color: #00af00\">10</span>, <span style=\"color: #00af00; text-decoration-color: #00af00\">10</span>, <span style=\"color: #00af00; text-decoration-color: #00af00\">1</span>)      │             <span style=\"color: #00af00; text-decoration-color: #00af00\">0</span> │\n",
              "├─────────────────────────────────┼────────────────────────┼───────────────┤\n",
              "│ conv2d_43 (<span style=\"color: #0087ff; text-decoration-color: #0087ff\">Conv2D</span>)              │ (<span style=\"color: #00d7ff; text-decoration-color: #00d7ff\">None</span>, <span style=\"color: #00af00; text-decoration-color: #00af00\">10</span>, <span style=\"color: #00af00; text-decoration-color: #00af00\">10</span>, <span style=\"color: #00af00; text-decoration-color: #00af00\">40</span>)     │         <span style=\"color: #00af00; text-decoration-color: #00af00\">1,040</span> │\n",
              "├─────────────────────────────────┼────────────────────────┼───────────────┤\n",
              "│ conv2d_44 (<span style=\"color: #0087ff; text-decoration-color: #0087ff\">Conv2D</span>)              │ (<span style=\"color: #00d7ff; text-decoration-color: #00d7ff\">None</span>, <span style=\"color: #00af00; text-decoration-color: #00af00\">10</span>, <span style=\"color: #00af00; text-decoration-color: #00af00\">10</span>, <span style=\"color: #00af00; text-decoration-color: #00af00\">1</span>)      │         <span style=\"color: #00af00; text-decoration-color: #00af00\">1,001</span> │\n",
              "├─────────────────────────────────┼────────────────────────┼───────────────┤\n",
              "│ conv2d_45 (<span style=\"color: #0087ff; text-decoration-color: #0087ff\">Conv2D</span>)              │ (<span style=\"color: #00d7ff; text-decoration-color: #00d7ff\">None</span>, <span style=\"color: #00af00; text-decoration-color: #00af00\">10</span>, <span style=\"color: #00af00; text-decoration-color: #00af00\">10</span>, <span style=\"color: #00af00; text-decoration-color: #00af00\">1</span>)      │            <span style=\"color: #00af00; text-decoration-color: #00af00\">26</span> │\n",
              "├─────────────────────────────────┼────────────────────────┼───────────────┤\n",
              "│ conv2d_46 (<span style=\"color: #0087ff; text-decoration-color: #0087ff\">Conv2D</span>)              │ (<span style=\"color: #00d7ff; text-decoration-color: #00d7ff\">None</span>, <span style=\"color: #00af00; text-decoration-color: #00af00\">10</span>, <span style=\"color: #00af00; text-decoration-color: #00af00\">10</span>, <span style=\"color: #00af00; text-decoration-color: #00af00\">1</span>)      │            <span style=\"color: #00af00; text-decoration-color: #00af00\">26</span> │\n",
              "├─────────────────────────────────┼────────────────────────┼───────────────┤\n",
              "│ conv2d_47 (<span style=\"color: #0087ff; text-decoration-color: #0087ff\">Conv2D</span>)              │ (<span style=\"color: #00d7ff; text-decoration-color: #00d7ff\">None</span>, <span style=\"color: #00af00; text-decoration-color: #00af00\">10</span>, <span style=\"color: #00af00; text-decoration-color: #00af00\">10</span>, <span style=\"color: #00af00; text-decoration-color: #00af00\">1</span>)      │            <span style=\"color: #00af00; text-decoration-color: #00af00\">26</span> │\n",
              "├─────────────────────────────────┼────────────────────────┼───────────────┤\n",
              "│ conv2d_48 (<span style=\"color: #0087ff; text-decoration-color: #0087ff\">Conv2D</span>)              │ (<span style=\"color: #00d7ff; text-decoration-color: #00d7ff\">None</span>, <span style=\"color: #00af00; text-decoration-color: #00af00\">10</span>, <span style=\"color: #00af00; text-decoration-color: #00af00\">10</span>, <span style=\"color: #00af00; text-decoration-color: #00af00\">6</span>)      │           <span style=\"color: #00af00; text-decoration-color: #00af00\">156</span> │\n",
              "├─────────────────────────────────┼────────────────────────┼───────────────┤\n",
              "│ max_pooling2d_7 (<span style=\"color: #0087ff; text-decoration-color: #0087ff\">MaxPooling2D</span>)  │ (<span style=\"color: #00d7ff; text-decoration-color: #00d7ff\">None</span>, <span style=\"color: #00af00; text-decoration-color: #00af00\">5</span>, <span style=\"color: #00af00; text-decoration-color: #00af00\">5</span>, <span style=\"color: #00af00; text-decoration-color: #00af00\">6</span>)        │             <span style=\"color: #00af00; text-decoration-color: #00af00\">0</span> │\n",
              "├─────────────────────────────────┼────────────────────────┼───────────────┤\n",
              "│ flatten_7 (<span style=\"color: #0087ff; text-decoration-color: #0087ff\">Flatten</span>)             │ (<span style=\"color: #00d7ff; text-decoration-color: #00d7ff\">None</span>, <span style=\"color: #00af00; text-decoration-color: #00af00\">150</span>)            │             <span style=\"color: #00af00; text-decoration-color: #00af00\">0</span> │\n",
              "├─────────────────────────────────┼────────────────────────┼───────────────┤\n",
              "│ dense_21 (<span style=\"color: #0087ff; text-decoration-color: #0087ff\">Dense</span>)                │ (<span style=\"color: #00d7ff; text-decoration-color: #00d7ff\">None</span>, <span style=\"color: #00af00; text-decoration-color: #00af00\">2048</span>)           │       <span style=\"color: #00af00; text-decoration-color: #00af00\">309,248</span> │\n",
              "├─────────────────────────────────┼────────────────────────┼───────────────┤\n",
              "│ dropout_14 (<span style=\"color: #0087ff; text-decoration-color: #0087ff\">Dropout</span>)            │ (<span style=\"color: #00d7ff; text-decoration-color: #00d7ff\">None</span>, <span style=\"color: #00af00; text-decoration-color: #00af00\">2048</span>)           │             <span style=\"color: #00af00; text-decoration-color: #00af00\">0</span> │\n",
              "├─────────────────────────────────┼────────────────────────┼───────────────┤\n",
              "│ dense_22 (<span style=\"color: #0087ff; text-decoration-color: #0087ff\">Dense</span>)                │ (<span style=\"color: #00d7ff; text-decoration-color: #00d7ff\">None</span>, <span style=\"color: #00af00; text-decoration-color: #00af00\">512</span>)            │     <span style=\"color: #00af00; text-decoration-color: #00af00\">1,049,088</span> │\n",
              "├─────────────────────────────────┼────────────────────────┼───────────────┤\n",
              "│ dropout_15 (<span style=\"color: #0087ff; text-decoration-color: #0087ff\">Dropout</span>)            │ (<span style=\"color: #00d7ff; text-decoration-color: #00d7ff\">None</span>, <span style=\"color: #00af00; text-decoration-color: #00af00\">512</span>)            │             <span style=\"color: #00af00; text-decoration-color: #00af00\">0</span> │\n",
              "├─────────────────────────────────┼────────────────────────┼───────────────┤\n",
              "│ dense_23 (<span style=\"color: #0087ff; text-decoration-color: #0087ff\">Dense</span>)                │ (<span style=\"color: #00d7ff; text-decoration-color: #00d7ff\">None</span>, <span style=\"color: #00af00; text-decoration-color: #00af00\">6</span>)              │         <span style=\"color: #00af00; text-decoration-color: #00af00\">3,078</span> │\n",
              "└─────────────────────────────────┴────────────────────────┴───────────────┘\n",
              "</pre>\n"
            ],
            "text/plain": [
              "┏━━━━━━━━━━━━━━━━━━━━━━━━━━━━━━━━━┳━━━━━━━━━━━━━━━━━━━━━━━━┳━━━━━━━━━━━━━━━┓\n",
              "┃\u001b[1m \u001b[0m\u001b[1mLayer (type)                   \u001b[0m\u001b[1m \u001b[0m┃\u001b[1m \u001b[0m\u001b[1mOutput Shape          \u001b[0m\u001b[1m \u001b[0m┃\u001b[1m \u001b[0m\u001b[1m      Param #\u001b[0m\u001b[1m \u001b[0m┃\n",
              "┡━━━━━━━━━━━━━━━━━━━━━━━━━━━━━━━━━╇━━━━━━━━━━━━━━━━━━━━━━━━╇━━━━━━━━━━━━━━━┩\n",
              "│ input_layer_8 (\u001b[38;5;33mInputLayer\u001b[0m)      │ (\u001b[38;5;45mNone\u001b[0m, \u001b[38;5;34m10\u001b[0m, \u001b[38;5;34m10\u001b[0m, \u001b[38;5;34m1\u001b[0m)      │             \u001b[38;5;34m0\u001b[0m │\n",
              "├─────────────────────────────────┼────────────────────────┼───────────────┤\n",
              "│ conv2d_43 (\u001b[38;5;33mConv2D\u001b[0m)              │ (\u001b[38;5;45mNone\u001b[0m, \u001b[38;5;34m10\u001b[0m, \u001b[38;5;34m10\u001b[0m, \u001b[38;5;34m40\u001b[0m)     │         \u001b[38;5;34m1,040\u001b[0m │\n",
              "├─────────────────────────────────┼────────────────────────┼───────────────┤\n",
              "│ conv2d_44 (\u001b[38;5;33mConv2D\u001b[0m)              │ (\u001b[38;5;45mNone\u001b[0m, \u001b[38;5;34m10\u001b[0m, \u001b[38;5;34m10\u001b[0m, \u001b[38;5;34m1\u001b[0m)      │         \u001b[38;5;34m1,001\u001b[0m │\n",
              "├─────────────────────────────────┼────────────────────────┼───────────────┤\n",
              "│ conv2d_45 (\u001b[38;5;33mConv2D\u001b[0m)              │ (\u001b[38;5;45mNone\u001b[0m, \u001b[38;5;34m10\u001b[0m, \u001b[38;5;34m10\u001b[0m, \u001b[38;5;34m1\u001b[0m)      │            \u001b[38;5;34m26\u001b[0m │\n",
              "├─────────────────────────────────┼────────────────────────┼───────────────┤\n",
              "│ conv2d_46 (\u001b[38;5;33mConv2D\u001b[0m)              │ (\u001b[38;5;45mNone\u001b[0m, \u001b[38;5;34m10\u001b[0m, \u001b[38;5;34m10\u001b[0m, \u001b[38;5;34m1\u001b[0m)      │            \u001b[38;5;34m26\u001b[0m │\n",
              "├─────────────────────────────────┼────────────────────────┼───────────────┤\n",
              "│ conv2d_47 (\u001b[38;5;33mConv2D\u001b[0m)              │ (\u001b[38;5;45mNone\u001b[0m, \u001b[38;5;34m10\u001b[0m, \u001b[38;5;34m10\u001b[0m, \u001b[38;5;34m1\u001b[0m)      │            \u001b[38;5;34m26\u001b[0m │\n",
              "├─────────────────────────────────┼────────────────────────┼───────────────┤\n",
              "│ conv2d_48 (\u001b[38;5;33mConv2D\u001b[0m)              │ (\u001b[38;5;45mNone\u001b[0m, \u001b[38;5;34m10\u001b[0m, \u001b[38;5;34m10\u001b[0m, \u001b[38;5;34m6\u001b[0m)      │           \u001b[38;5;34m156\u001b[0m │\n",
              "├─────────────────────────────────┼────────────────────────┼───────────────┤\n",
              "│ max_pooling2d_7 (\u001b[38;5;33mMaxPooling2D\u001b[0m)  │ (\u001b[38;5;45mNone\u001b[0m, \u001b[38;5;34m5\u001b[0m, \u001b[38;5;34m5\u001b[0m, \u001b[38;5;34m6\u001b[0m)        │             \u001b[38;5;34m0\u001b[0m │\n",
              "├─────────────────────────────────┼────────────────────────┼───────────────┤\n",
              "│ flatten_7 (\u001b[38;5;33mFlatten\u001b[0m)             │ (\u001b[38;5;45mNone\u001b[0m, \u001b[38;5;34m150\u001b[0m)            │             \u001b[38;5;34m0\u001b[0m │\n",
              "├─────────────────────────────────┼────────────────────────┼───────────────┤\n",
              "│ dense_21 (\u001b[38;5;33mDense\u001b[0m)                │ (\u001b[38;5;45mNone\u001b[0m, \u001b[38;5;34m2048\u001b[0m)           │       \u001b[38;5;34m309,248\u001b[0m │\n",
              "├─────────────────────────────────┼────────────────────────┼───────────────┤\n",
              "│ dropout_14 (\u001b[38;5;33mDropout\u001b[0m)            │ (\u001b[38;5;45mNone\u001b[0m, \u001b[38;5;34m2048\u001b[0m)           │             \u001b[38;5;34m0\u001b[0m │\n",
              "├─────────────────────────────────┼────────────────────────┼───────────────┤\n",
              "│ dense_22 (\u001b[38;5;33mDense\u001b[0m)                │ (\u001b[38;5;45mNone\u001b[0m, \u001b[38;5;34m512\u001b[0m)            │     \u001b[38;5;34m1,049,088\u001b[0m │\n",
              "├─────────────────────────────────┼────────────────────────┼───────────────┤\n",
              "│ dropout_15 (\u001b[38;5;33mDropout\u001b[0m)            │ (\u001b[38;5;45mNone\u001b[0m, \u001b[38;5;34m512\u001b[0m)            │             \u001b[38;5;34m0\u001b[0m │\n",
              "├─────────────────────────────────┼────────────────────────┼───────────────┤\n",
              "│ dense_23 (\u001b[38;5;33mDense\u001b[0m)                │ (\u001b[38;5;45mNone\u001b[0m, \u001b[38;5;34m6\u001b[0m)              │         \u001b[38;5;34m3,078\u001b[0m │\n",
              "└─────────────────────────────────┴────────────────────────┴───────────────┘\n"
            ]
          },
          "metadata": {},
          "output_type": "display_data"
        },
        {
          "data": {
            "text/html": [
              "<pre style=\"white-space:pre;overflow-x:auto;line-height:normal;font-family:Menlo,'DejaVu Sans Mono',consolas,'Courier New',monospace\"><span style=\"font-weight: bold\"> Total params: </span><span style=\"color: #00af00; text-decoration-color: #00af00\">1,363,689</span> (5.20 MB)\n",
              "</pre>\n"
            ],
            "text/plain": [
              "\u001b[1m Total params: \u001b[0m\u001b[38;5;34m1,363,689\u001b[0m (5.20 MB)\n"
            ]
          },
          "metadata": {},
          "output_type": "display_data"
        },
        {
          "data": {
            "text/html": [
              "<pre style=\"white-space:pre;overflow-x:auto;line-height:normal;font-family:Menlo,'DejaVu Sans Mono',consolas,'Courier New',monospace\"><span style=\"font-weight: bold\"> Trainable params: </span><span style=\"color: #00af00; text-decoration-color: #00af00\">1,363,689</span> (5.20 MB)\n",
              "</pre>\n"
            ],
            "text/plain": [
              "\u001b[1m Trainable params: \u001b[0m\u001b[38;5;34m1,363,689\u001b[0m (5.20 MB)\n"
            ]
          },
          "metadata": {},
          "output_type": "display_data"
        },
        {
          "data": {
            "text/html": [
              "<pre style=\"white-space:pre;overflow-x:auto;line-height:normal;font-family:Menlo,'DejaVu Sans Mono',consolas,'Courier New',monospace\"><span style=\"font-weight: bold\"> Non-trainable params: </span><span style=\"color: #00af00; text-decoration-color: #00af00\">0</span> (0.00 B)\n",
              "</pre>\n"
            ],
            "text/plain": [
              "\u001b[1m Non-trainable params: \u001b[0m\u001b[38;5;34m0\u001b[0m (0.00 B)\n"
            ]
          },
          "metadata": {},
          "output_type": "display_data"
        }
      ],
      "source": [
        "import tensorflow as tf\n",
        "\n",
        "# Definindo a função de inicialização com distribuição normal truncada\n",
        "def truncated_normal_init(shape, dtype=None):\n",
        "    return tf.random.truncated_normal(shape, stddev=0.1, dtype=dtype)\n",
        "\n",
        "# Parâmetros do modelo\n",
        "n = 5\n",
        "k = [40, 1, 1, 1, 1]\n",
        "conv_kernel_size = 5\n",
        "c = 6  # ou 7\n",
        "\n",
        "# Placeholder para a entrada\n",
        "hight, width = frequency_input[0].shape\n",
        "input_image = tf.keras.layers.Input(shape=(hight, width, 1))\n",
        "\n",
        "# Construindo as camadas LMK com filtros de multiplicação\n",
        "x = input_image\n",
        "for filters in k:\n",
        "    x = tf.keras.layers.Conv2D(\n",
        "        filters=filters,\n",
        "        kernel_size=(conv_kernel_size, conv_kernel_size),\n",
        "        padding='same',\n",
        "        kernel_initializer=truncated_normal_init)(x)\n",
        "\n",
        "# Adicionando camada de convolução e pooling\n",
        "x = tf.keras.layers.Conv2D(\n",
        "    filters=c,\n",
        "    kernel_size=(conv_kernel_size, conv_kernel_size),\n",
        "    padding='same',\n",
        "    kernel_initializer=truncated_normal_init)(x)\n",
        "\n",
        "x = tf.keras.layers.MaxPooling2D(pool_size=(2, 2))(x)\n",
        "\n",
        "# Adicionando camadas totalmente conectadas para classificação\n",
        "x = tf.keras.layers.Flatten()(x)\n",
        "x = tf.keras.layers.Dense(2048, activation='relu')(x)\n",
        "x = tf.keras.layers.Dropout(0.5)(x)\n",
        "x = tf.keras.layers.Dense(512, activation='relu')(x)\n",
        "x = tf.keras.layers.Dropout(0.5)(x)\n",
        "output = tf.keras.layers.Dense(c, activation='softmax')(x)\n",
        "\n",
        "# Definindo o modelo\n",
        "model = tf.keras.Model(inputs=input_image, outputs=output)\n",
        "\n",
        "# Compilando o modelo\n",
        "model.compile(optimizer='adam', loss='categorical_crossentropy', metrics=['accuracy'])\n",
        "\n",
        "# Resumo do modelo\n",
        "model.summary()\n"
      ]
    },
    {
      "cell_type": "code",
      "execution_count": 81,
      "metadata": {},
      "outputs": [
        {
          "name": "stdout",
          "output_type": "stream",
          "text": [
            "Epoch 1/10\n"
          ]
        },
        {
          "ename": "AttributeError",
          "evalue": "'NoneType' object has no attribute 'items'",
          "output_type": "error",
          "traceback": [
            "\u001b[0;31m---------------------------------------------------------------------------\u001b[0m",
            "\u001b[0;31mAttributeError\u001b[0m                            Traceback (most recent call last)",
            "Cell \u001b[0;32mIn[81], line 1\u001b[0m\n\u001b[0;32m----> 1\u001b[0m \u001b[43mmodel\u001b[49m\u001b[38;5;241;43m.\u001b[39;49m\u001b[43mfit\u001b[49m\u001b[43m(\u001b[49m\u001b[43mdataset\u001b[49m\u001b[43m,\u001b[49m\u001b[43m \u001b[49m\u001b[43mone_hot_labels\u001b[49m\u001b[43m,\u001b[49m\u001b[43m \u001b[49m\u001b[43mverbose\u001b[49m\u001b[38;5;241;43m=\u001b[39;49m\u001b[38;5;241;43m1\u001b[39;49m\u001b[43m,\u001b[49m\u001b[43m \u001b[49m\u001b[43mepochs\u001b[49m\u001b[38;5;241;43m=\u001b[39;49m\u001b[38;5;241;43m10\u001b[39;49m\u001b[43m,\u001b[49m\u001b[43m \u001b[49m\u001b[43mbatch_size\u001b[49m\u001b[38;5;241;43m=\u001b[39;49m\u001b[38;5;241;43m1\u001b[39;49m\u001b[43m)\u001b[49m\n",
            "File \u001b[0;32m~/python/fer_recognition_using_frequency_neural_network/.venv/lib/python3.10/site-packages/keras/src/utils/traceback_utils.py:122\u001b[0m, in \u001b[0;36mfilter_traceback.<locals>.error_handler\u001b[0;34m(*args, **kwargs)\u001b[0m\n\u001b[1;32m    119\u001b[0m     filtered_tb \u001b[38;5;241m=\u001b[39m _process_traceback_frames(e\u001b[38;5;241m.\u001b[39m__traceback__)\n\u001b[1;32m    120\u001b[0m     \u001b[38;5;66;03m# To get the full stack trace, call:\u001b[39;00m\n\u001b[1;32m    121\u001b[0m     \u001b[38;5;66;03m# `keras.config.disable_traceback_filtering()`\u001b[39;00m\n\u001b[0;32m--> 122\u001b[0m     \u001b[38;5;28;01mraise\u001b[39;00m e\u001b[38;5;241m.\u001b[39mwith_traceback(filtered_tb) \u001b[38;5;28;01mfrom\u001b[39;00m \u001b[38;5;28;01mNone\u001b[39;00m\n\u001b[1;32m    123\u001b[0m \u001b[38;5;28;01mfinally\u001b[39;00m:\n\u001b[1;32m    124\u001b[0m     \u001b[38;5;28;01mdel\u001b[39;00m filtered_tb\n",
            "File \u001b[0;32m~/python/fer_recognition_using_frequency_neural_network/.venv/lib/python3.10/site-packages/keras/src/trainers/trainer.py:923\u001b[0m, in \u001b[0;36mTrainer._pythonify_logs\u001b[0;34m(self, logs)\u001b[0m\n\u001b[1;32m    921\u001b[0m \u001b[38;5;28;01mdef\u001b[39;00m \u001b[38;5;21m_pythonify_logs\u001b[39m(\u001b[38;5;28mself\u001b[39m, logs):\n\u001b[1;32m    922\u001b[0m     result \u001b[38;5;241m=\u001b[39m {}\n\u001b[0;32m--> 923\u001b[0m     \u001b[38;5;28;01mfor\u001b[39;00m key, value \u001b[38;5;129;01min\u001b[39;00m \u001b[38;5;28msorted\u001b[39m(\u001b[43mlogs\u001b[49m\u001b[38;5;241;43m.\u001b[39;49m\u001b[43mitems\u001b[49m()):\n\u001b[1;32m    924\u001b[0m         \u001b[38;5;28;01mif\u001b[39;00m \u001b[38;5;28misinstance\u001b[39m(value, \u001b[38;5;28mdict\u001b[39m):\n\u001b[1;32m    925\u001b[0m             result\u001b[38;5;241m.\u001b[39mupdate(\u001b[38;5;28mself\u001b[39m\u001b[38;5;241m.\u001b[39m_pythonify_logs(value))\n",
            "\u001b[0;31mAttributeError\u001b[0m: 'NoneType' object has no attribute 'items'"
          ]
        }
      ],
      "source": [
        "model.fit(dataset, one_hot_labels, verbose=1, epochs=10, batch_size=1)"
      ]
    },
    {
      "cell_type": "code",
      "execution_count": null,
      "metadata": {},
      "outputs": [],
      "source": [
        "frequency_input"
      ]
    },
    {
      "cell_type": "code",
      "execution_count": 79,
      "metadata": {},
      "outputs": [
        {
          "name": "stdout",
          "output_type": "stream",
          "text": [
            "(920, 10, 10)\n",
            "[4 2 4 0 2 4 5 3 3 3 5 0 0 4 4 3 1 5 5 4 0 0 4 4 2 5 0 1 4 0 1 5 0 2 4 0 2\n",
            " 2 3 1 2 3 2 0 4 3 1 2 3 5 0 5 3 0 4 1 1 4 0 3 0 5 4 0 3 1 1 5 2 2 0 5 5 0\n",
            " 0 1 2 3 5 4 3 5 4 0 5 2 5 5 0 0 5 0 2 5 5 5 1 2 4 5 0 1 2 3 1 4 5 3 2 3 2\n",
            " 3 4 5 4 3 4 3 3 0 4 4 4 5 4 3 5 5 1 2 2 1 4 3 4 0 5 4 0 4 1 2 3 1 5 3 4 2\n",
            " 0 4 1 5 2 5 4 5 1 4 0 5 3 1 5 0 0 4 5 2 3 1 1 5 4 0 5 0 1 4 3 4 2 1 3 3 1\n",
            " 5 2 4 4 2 3 3 5 0 4 3 1 1 0 3 3 3 3 3 1 1 2 3 0 5 1 5 1 0 0 3 3 5 5 3 1 1\n",
            " 3 1 5 2 3 2 1 4 2 4 0 5 3 2 1 1 2 4 0 4 1 3 1 2 2 4 1 3 1 4 5 4 4 1 4 0 3\n",
            " 2 1 5 0 4 0 3 0 5 3 2 1 2 0 3 2 3 1 4 4 0 5 1 0 3 3 5 2 0 2 0 2 2 4 4 3 4\n",
            " 1 1 4 0 0 1 3 5 3 5 0 3 0 0 1 5 2 5 3 5 2 0 1 3 1 2 5 2 5 3 4 5 5 3 5 5 0\n",
            " 1 2 5 3 4 2 0 0 0 3 4 3 1 5 2 1 2 1 4 1 5 0 2 4 0 2 2 3 4 0 0 5 3 1 4 3 5\n",
            " 2 0 5 1 4 0 0 0 3 0 2 4 1 1 4 3 4 0 2 0 5 0 0 1 5 4 0 0 4 5 0 0 3 3 1 1 3\n",
            " 2 4 1 5 3 2 2 4 2 2 5 0 4 0 1 0 1 0 5 5 4 3 1 1 2 2 0 1 3 1 4 1 5 5 0 5 3\n",
            " 5 3 1 4 1 0 3 4 4 3 0 4 5 0 3 1 1 2 3 5 2 4 3 4 5 4 2 4 2 3 5 5 1 2 0 2 4\n",
            " 3 3 2 1 4 4 5 3 1 0 1 5 1 2 4 4 3 2 2 4 4 0 3 1 1 3 3 1 5 4 2 0 4 2 0 2 2\n",
            " 2 4 0 5 1 0 2 2 0 5 4 2 3 2 4 0 0 2 2 2 3 3 5 2 1 4 3 0 3 2 0 3 2 2 3 2 2\n",
            " 4 2 4 2 2 0 1 2 1 4 2 5 5 2 4 0 2 3 4 5 0 4 1 4 1 3 3 3 3 1 1 5 3 5 2 0 1\n",
            " 4 0 5 0 2 4 0 3 5 2 4 3 2 3 5 0 2 2 5 3 4 5 0 5 0 0 1 0 5 3 1 4 1 5 2 2 3\n",
            " 4 1 3 3 4 4 5 5 3 2 4 4 3 3 2 5 3 2 4 2 1 5 4 0 5 0 1 2 1 5 2 1 4 1 1 2 4\n",
            " 3 0 3 5 3 5 1 0 3 1 5 4 0 5 4 3 4 3 5 0 5 2 3 5 2 4 1 3 3 5 5 4 3 5 3 5 0\n",
            " 4 4 2 1 2 4 1 5 3 0 3 1 3 4 1 1 1 3 0 5 3 2 5 1 5 5 1 2 5 0 3 0 5 3 0 3 2\n",
            " 0 1 3 3 5 4 0 1 4 5 1 0 4 4 0 1 2 0 1 5 1 2 1 1 0 3 3 0 5 1 1 3 1 4 0 1 2\n",
            " 5 5 5 1 0 1 0 0 0 4 3 5 1 4 4 0 0 3 4 4 0 5 1 0 0 0 2 4 0 2 3 4 5 4 5 5 3\n",
            " 1 1 5 4 5 2 2 2 0 4 3 5 0 1 0 1 5 0 5 5 3 4 2 5 4 4 1 2 2 5 1 3 2 4 1 2 1\n",
            " 2 4 1 1 2 4 2 1 4 4 3 2 4 4 0 4 3 3 0 1 5 0 3 4 0 0 1 1 4 3 1 2 4 1 3 4 2\n",
            " 1 4 3 5 1 3 4 0 0 0 2 1 4 4 2 1 4 3 1 3 3 1 4 5 3 1 0 0 1 2 3 4]\n"
          ]
        }
      ],
      "source": [
        "dataset = np.array(frequency_input)\n",
        "labels = np.random.randint(0, c, size=920)\n",
        "one_hot_labels = tf.keras.utils.to_categorical(labels, num_classes=c)\n",
        "\n",
        "\n",
        "# Verificar o shape do dataset\n",
        "print(dataset.shape)  # Deve ser (920, 2, 2, 1)\n",
        "print(labels)  # Deve ser (920, 2, 2, 1)"
      ]
    },
    {
      "cell_type": "code",
      "execution_count": 54,
      "metadata": {},
      "outputs": [
        {
          "data": {
            "text/plain": [
              "array([[[ 972.7       ,  -91.46013746],\n",
              "        [ -73.90475194,  -67.64519694]],\n",
              "\n",
              "       [[1735.7       , -197.3260819 ],\n",
              "        [  78.85559975,    2.61668936]],\n",
              "\n",
              "       [[1448.5       ,  -48.55307093],\n",
              "        [ -93.77884479,   84.15349893]],\n",
              "\n",
              "       ...,\n",
              "\n",
              "       [[1422.9       , -195.20479917],\n",
              "        [ 231.57251337,  -14.94132964]],\n",
              "\n",
              "       [[1691.2       , -223.95670535],\n",
              "        [  42.48282822,    8.13824621]],\n",
              "\n",
              "       [[1484.5       , -230.17996219],\n",
              "        [ 252.89777006,   64.64080413]]])"
            ]
          },
          "execution_count": 54,
          "metadata": {},
          "output_type": "execute_result"
        }
      ],
      "source": [
        "dataset"
      ]
    },
    {
      "cell_type": "code",
      "execution_count": null,
      "metadata": {},
      "outputs": [],
      "source": []
    }
  ],
  "metadata": {
    "accelerator": "GPU",
    "colab": {
      "collapsed_sections": [
        "ebU8jxH5xTqU",
        "8cfUewjQ2uOX",
        "rVVDTzGJ0Y_0"
      ],
      "gpuType": "L4",
      "include_colab_link": true,
      "machine_shape": "hm",
      "provenance": []
    },
    "kernelspec": {
      "display_name": "Python 3",
      "name": "python3"
    },
    "language_info": {
      "codemirror_mode": {
        "name": "ipython",
        "version": 3
      },
      "file_extension": ".py",
      "mimetype": "text/x-python",
      "name": "python",
      "nbconvert_exporter": "python",
      "pygments_lexer": "ipython3",
      "version": "3.10.12"
    }
  },
  "nbformat": 4,
  "nbformat_minor": 0
}
