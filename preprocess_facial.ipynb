{
  "cells": [
    {
      "cell_type": "code",
      "execution_count": 1,
      "metadata": {
        "colab": {
          "base_uri": "https://localhost:8080/"
        },
        "id": "B8551beZ4LMN",
        "outputId": "c8f0038b-c2a8-4a89-d929-db622b61e51b"
      },
      "outputs": [
        {
          "name": "stdout",
          "output_type": "stream",
          "text": [
            "Defaulting to user installation because normal site-packages is not writeable\n",
            "Collecting pillow\n",
            "  Downloading pillow-10.4.0-cp310-cp310-manylinux_2_17_x86_64.manylinux2014_x86_64.whl (4.4 MB)\n",
            "\u001b[K     |████████████████████████████████| 4.4 MB 1.6 MB/s eta 0:00:01\n",
            "\u001b[?25hInstalling collected packages: pillow\n",
            "Successfully installed pillow-10.4.0\n",
            "\u001b[33mWARNING: You are using pip version 21.2.3; however, version 24.1.2 is available.\n",
            "You should consider upgrading via the '/usr/local/bin/python3.10 -m pip install --upgrade pip' command.\u001b[0m\n",
            "Note: you may need to restart the kernel to use updated packages.\n"
          ]
        }
      ],
      "source": [
        "pip install pillow"
      ]
    },
    {
      "cell_type": "code",
      "execution_count": 2,
      "metadata": {
        "colab": {
          "base_uri": "https://localhost:8080/"
        },
        "id": "2iSDoaXV-zWh",
        "outputId": "99d310a1-35ab-4cb7-f15c-33c789dfa242"
      },
      "outputs": [
        {
          "name": "stdout",
          "output_type": "stream",
          "text": [
            "Defaulting to user installation because normal site-packages is not writeable\n",
            "Collecting dlib\n",
            "  Downloading dlib-19.24.4.tar.gz (3.3 MB)\n",
            "\u001b[K     |████████████████████████████████| 3.3 MB 2.0 MB/s eta 0:00:01\n",
            "\u001b[?25h  Installing build dependencies ... \u001b[?25ldone\n",
            "\u001b[?25h  Getting requirements to build wheel ... \u001b[?25ldone\n",
            "\u001b[?25h    Preparing wheel metadata ... \u001b[?25ldone\n",
            "\u001b[?25hBuilding wheels for collected packages: dlib\n",
            "  Building wheel for dlib (PEP 517) ... \u001b[?25lerror\n",
            "\u001b[31m  ERROR: Command errored out with exit status 1:\n",
            "   command: /usr/local/bin/python3.10 /usr/local/lib/python3.10/site-packages/pip/_vendor/pep517/in_process/_in_process.py build_wheel /tmp/tmpxtbedaeq\n",
            "       cwd: /tmp/pip-install-eno18q0d/dlib_26f3f4d26ff243b6a6619efdd6b32768\n",
            "  Complete output (6 lines):\n",
            "  running bdist_wheel\n",
            "  running build\n",
            "  running build_ext\n",
            "  \n",
            "  ERROR: CMake must be installed to build dlib\n",
            "  \n",
            "  ----------------------------------------\u001b[0m\n",
            "\u001b[?25h\u001b[31m  ERROR: Failed building wheel for dlib\u001b[0m\n",
            "Failed to build dlib\n",
            "\u001b[31mERROR: Could not build wheels for dlib which use PEP 517 and cannot be installed directly\u001b[0m\n",
            "\u001b[33mWARNING: You are using pip version 21.2.3; however, version 24.1.2 is available.\n",
            "You should consider upgrading via the '/usr/local/bin/python3.10 -m pip install --upgrade pip' command.\u001b[0m\n",
            "Note: you may need to restart the kernel to use updated packages.\n"
          ]
        }
      ],
      "source": [
        "pip install dlib"
      ]
    },
    {
      "cell_type": "code",
      "execution_count": 3,
      "metadata": {
        "colab": {
          "base_uri": "https://localhost:8080/"
        },
        "id": "JNHDvz7E1nff",
        "outputId": "c93fb665-c232-41fd-8321-8fcbda2fda78"
      },
      "outputs": [
        {
          "name": "stdout",
          "output_type": "stream",
          "text": [
            "Defaulting to user installation because normal site-packages is not writeable\n",
            "Collecting face_recognition\n",
            "  Downloading face_recognition-1.3.0-py2.py3-none-any.whl (15 kB)\n",
            "Collecting Pillow\n",
            "  Downloading Pillow-8.4.0-cp36-cp36m-manylinux_2_17_x86_64.manylinux2014_x86_64.whl (3.1 MB)\n",
            "     |████████████████████████████████| 3.1 MB 1.8 MB/s            \n",
            "\u001b[?25hCollecting numpy\n",
            "  Downloading numpy-1.19.5-cp36-cp36m-manylinux2010_x86_64.whl (14.8 MB)\n",
            "     |████████████████████████████████| 14.8 MB 2.4 MB/s             ████▏              | 7.9 MB 16.7 MB/s eta 0:00:01   | 8.8 MB 16.7 MB/s eta 0:00:01\n",
            "\u001b[?25hCollecting dlib>=19.7\n",
            "  Using cached dlib-19.24.4.tar.gz (3.3 MB)\n",
            "  Installing build dependencies ... \u001b[?25ldone\n",
            "\u001b[?25h  Getting requirements to build wheel ... \u001b[?25ldone\n",
            "\u001b[?25h  Preparing metadata (pyproject.toml) ... \u001b[?25ldone\n",
            "\u001b[?25hCollecting face-recognition-models>=0.3.0\n",
            "  Downloading face_recognition_models-0.3.0.tar.gz (100.1 MB)\n",
            "     |████████████████████████████████| 100.1 MB 35.9 MB/s            \n",
            "\u001b[?25h  Preparing metadata (setup.py) ... \u001b[?25ldone\n",
            "\u001b[?25hRequirement already satisfied: Click>=6.0 in /usr/lib/python3/dist-packages (from face_recognition) (6.7)\n",
            "Building wheels for collected packages: dlib, face-recognition-models\n",
            "  Building wheel for dlib (pyproject.toml) ... \u001b[?25lerror\n",
            "\u001b[31m  ERROR: Command errored out with exit status 1:\n",
            "   command: /usr/bin/python3 /home/thierry/.local/lib/python3.6/site-packages/pip/_vendor/pep517/in_process/_in_process.py build_wheel /tmp/tmp8utdpsb8\n",
            "       cwd: /tmp/pip-install-ver_yx79/dlib_69b7169b37384b8eb7f401979a7e0aa3\n",
            "  Complete output (6 lines):\n",
            "  running bdist_wheel\n",
            "  running build\n",
            "  running build_ext\n",
            "  \n",
            "  ERROR: CMake must be installed to build dlib\n",
            "  \n",
            "  ----------------------------------------\u001b[0m\n",
            "\u001b[31m  ERROR: Failed building wheel for dlib\u001b[0m\n",
            "\u001b[?25h  Building wheel for face-recognition-models (setup.py) ... \u001b[?25ldone\n",
            "\u001b[?25h  Created wheel for face-recognition-models: filename=face_recognition_models-0.3.0-py2.py3-none-any.whl size=100564597 sha256=1d57b0a975dc8d815546deb45ebb7f43e15745475410f993df0a8d70077eebb5\n",
            "  Stored in directory: /home/thierry/.cache/pip/wheels/6a/e1/1a/8969952b51c25409d5b96ecb09603de12b8534bd6d68e6e7d1\n",
            "Successfully built face-recognition-models\n",
            "Failed to build dlib\n",
            "\u001b[31mERROR: Could not build wheels for dlib, which is required to install pyproject.toml-based projects\u001b[0m\n"
          ]
        }
      ],
      "source": [
        "\n",
        "!pip install face_recognition Pillow numpy"
      ]
    },
    {
      "cell_type": "markdown",
      "metadata": {
        "id": "OT2jwqpxWAui"
      },
      "source": [
        "**CARREGANDO ARQUIVOS NO COLAB**"
      ]
    },
    {
      "cell_type": "code",
      "execution_count": 4,
      "metadata": {
        "colab": {
          "base_uri": "https://localhost:8080/",
          "height": 269
        },
        "id": "AfENSbOg6Uo6",
        "outputId": "b3247834-0cdd-4b2f-94ae-71efc0f4a1cd"
      },
      "outputs": [
        {
          "ename": "ModuleNotFoundError",
          "evalue": "No module named 'google'",
          "output_type": "error",
          "traceback": [
            "\u001b[0;31m---------------------------------------------------------------------------\u001b[0m",
            "\u001b[0;31mModuleNotFoundError\u001b[0m                       Traceback (most recent call last)",
            "Cell \u001b[0;32mIn[4], line 1\u001b[0m\n\u001b[0;32m----> 1\u001b[0m \u001b[38;5;28;01mfrom\u001b[39;00m \u001b[38;5;21;01mgoogle\u001b[39;00m\u001b[38;5;21;01m.\u001b[39;00m\u001b[38;5;21;01mcolab\u001b[39;00m \u001b[38;5;28;01mimport\u001b[39;00m files\n\u001b[1;32m      2\u001b[0m uploaded \u001b[38;5;241m=\u001b[39m files\u001b[38;5;241m.\u001b[39mupload()\n",
            "\u001b[0;31mModuleNotFoundError\u001b[0m: No module named 'google'"
          ]
        }
      ],
      "source": [
        "from google.colab import files\n",
        "uploaded = files.upload()"
      ]
    },
    {
      "cell_type": "code",
      "execution_count": null,
      "metadata": {},
      "outputs": [],
      "source": [
        "df_ck_plus = pd.read_csv('./Datasets/ckextended.csv')\n",
        "df_ck_plus"
      ]
    },
    {
      "cell_type": "markdown",
      "metadata": {
        "id": "IO_PIBQcQFDT"
      },
      "source": [
        "**CONVERTER A IMAGEM EM TONS DE CINZA**"
      ]
    },
    {
      "cell_type": "code",
      "execution_count": null,
      "metadata": {
        "colab": {
          "base_uri": "https://localhost:8080/"
        },
        "id": "ohz5iFaR4J4Q",
        "outputId": "9693f0ad-46e9-447a-ea3b-2b68f4cb9735"
      },
      "outputs": [
        {
          "name": "stdout",
          "output_type": "stream",
          "text": [
            "Imagem 0007_02.jpg convertida e salva em output_images_grayscale/0007_02.jpg\n",
            "Imagem 0005_01.jpg convertida e salva em output_images_grayscale/0005_01.jpg\n",
            "Imagem 0008_01.jpg convertida e salva em output_images_grayscale/0008_01.jpg\n",
            "Imagem 0009_01.jpg convertida e salva em output_images_grayscale/0009_01.jpg\n",
            "Imagem 0010_01.jpg convertida e salva em output_images_grayscale/0010_01.jpg\n",
            "Imagem 0006_01.jpg convertida e salva em output_images_grayscale/0006_01.jpg\n"
          ]
        }
      ],
      "source": [
        "from PIL import Image\n",
        "import os\n",
        "\n",
        "def convert_images_to_grayscale(input_folder, output_folder):\n",
        "    # Criar a pasta de saída, se não existir\n",
        "    os.makedirs(output_folder, exist_ok=True)\n",
        "\n",
        "    # Percorrer todas as imagens na pasta de entrada\n",
        "    for filename in os.listdir(input_folder):\n",
        "        if filename.lower().endswith('.jpeg') or filename.lower().endswith('.jpg'):\n",
        "            # Caminho completo da imagem\n",
        "            img_path = os.path.join(input_folder, filename)\n",
        "\n",
        "            # Abrir a imagem\n",
        "            with Image.open(img_path) as img:\n",
        "                # Converter para grayscale\n",
        "                grayscale_img = img.convert('L')\n",
        "\n",
        "                # Caminho completo da imagem de saída\n",
        "                output_path = os.path.join(output_folder, filename)\n",
        "\n",
        "                # Salvar a imagem em grayscale\n",
        "                grayscale_img.save(output_path)\n",
        "                print(f'Imagem {filename} convertida e salva em {output_path}')\n",
        "\n",
        "# Caminho para a pasta de entrada com imagens JPEG\n",
        "input_folder = 'input_images'\n",
        "\n",
        "# Caminho para a pasta de saída para salvar as imagens convertidas\n",
        "output_folder = 'output_images_grayscale'\n",
        "\n",
        "# Chamar a função para converter as imagens\n",
        "convert_images_to_grayscale(input_folder, output_folder)\n"
      ]
    },
    {
      "cell_type": "code",
      "execution_count": null,
      "metadata": {
        "colab": {
          "base_uri": "https://localhost:8080/"
        },
        "id": "kAm5q5REQVrR",
        "outputId": "6bd92be2-7ebe-42e2-dc6a-25bce23ae0ed"
      },
      "outputs": [
        {
          "name": "stdout",
          "output_type": "stream",
          "text": [
            "Arquivo renomeado para output_images_grayscale/0007_02_gray.jpg\n",
            "Arquivo renomeado para output_images_grayscale/0005_01_gray.jpg\n",
            "Arquivo renomeado para output_images_grayscale/0008_01_gray.jpg\n",
            "Arquivo renomeado para output_images_grayscale/0009_01_gray.jpg\n",
            "Arquivo renomeado para output_images_grayscale/0010_01_gray.jpg\n",
            "Arquivo renomeado para output_images_grayscale/0006_01_gray.jpg\n"
          ]
        }
      ],
      "source": [
        "import os\n",
        "\n",
        "# Pasta contendo as imagens a serem renomeadas\n",
        "output_dir = 'output_images_grayscale'\n",
        "\n",
        "# Iterar por todos os arquivos na pasta de saída\n",
        "for filename in os.listdir(output_dir):\n",
        "    # Verificar se o arquivo tem uma extensão de imagem válida\n",
        "    if filename.lower().endswith(('.png', '.jpg', '.jpeg', '.bmp', '.gif')):\n",
        "        # Dividir o nome do arquivo e a extensão\n",
        "        base, extension = os.path.splitext(filename)\n",
        "\n",
        "        # Adicionar \"gray\" ao final do nome do arquivo\n",
        "        new_filename = base + '_gray' + extension\n",
        "\n",
        "        # Caminho completo do arquivo atual\n",
        "        current_path = os.path.join(output_dir, filename)\n",
        "\n",
        "        # Caminho completo do novo arquivo\n",
        "        new_path = os.path.join(output_dir, new_filename)\n",
        "\n",
        "        # Renomear o arquivo\n",
        "        os.rename(current_path, new_path)\n",
        "\n",
        "        print(f\"Arquivo renomeado para {new_path}\")\n"
      ]
    },
    {
      "cell_type": "markdown",
      "metadata": {
        "id": "RR24NL21VW3i"
      },
      "source": [
        "**REALIZANDO OS AJUSTES DO PRÉ-PROCESSAMENTO: RECORTE DO ROSTO,  ROTAÇÃO E CENTRALIZAÇÃO DO ROSTO**"
      ]
    },
    {
      "cell_type": "code",
      "execution_count": null,
      "metadata": {
        "colab": {
          "base_uri": "https://localhost:8080/"
        },
        "id": "eUAK0fUb3GYC",
        "outputId": "d6377de0-66de-4324-94ae-3bc666901699"
      },
      "outputs": [
        {
          "name": "stdout",
          "output_type": "stream",
          "text": [
            "Rosto 1 salvo em /content/output_images_recortado/0008_01_gray_face.jpg\n",
            "Rosto 1 salvo em /content/output_images_recortado/0010_01_gray_face.jpg\n",
            "Rosto 1 salvo em /content/output_images_recortado/0009_01_gray_face.jpg\n",
            "Rosto 1 salvo em /content/output_images_recortado/0005_01_gray_face.jpg\n",
            "Rosto 1 salvo em /content/output_images_recortado/0007_02_gray_face.jpg\n",
            "Rosto 1 salvo em /content/output_images_recortado/0006_01_gray_face.jpg\n"
          ]
        }
      ],
      "source": [
        "import dlib\n",
        "from PIL import Image\n",
        "import numpy as np\n",
        "import os\n",
        "\n",
        "def adjust_and_crop_face(image_path, output_folder):\n",
        "    # Carregar a imagem\n",
        "    image = dlib.load_rgb_image(image_path)\n",
        "\n",
        "    # Inicializar o detector de rostos e o preditor de pontos-chave\n",
        "    detector = dlib.get_frontal_face_detector()\n",
        "\n",
        "    # Caminho completo para o arquivo shape_predictor_68_face_landmarks.dat\n",
        "    dat_file_path = '/content/shape_predictor_68_face_landmarks.dat'\n",
        "    # Carregar o preditor de forma\n",
        "    predictor = dlib.shape_predictor(dat_file_path)\n",
        "\n",
        "    # Detectar os rostos na imagem\n",
        "    faces = detector(image, 1)\n",
        "\n",
        "    # Criar a pasta de saída, se não existir\n",
        "    os.makedirs(output_folder, exist_ok=True)\n",
        "\n",
        "    # Processar cada rosto detectado\n",
        "    for i, face in enumerate(faces):\n",
        "        # Obter os pontos chave do rosto\n",
        "        landmarks = predictor(image, face)\n",
        "\n",
        "        # Converter os pontos chave para um formato utilizável\n",
        "        face_landmarks = {\n",
        "            \"left_eye\": [(landmarks.part(j).x, landmarks.part(j).y) for j in range(36, 42)],\n",
        "            \"right_eye\": [(landmarks.part(j).x, landmarks.part(j).y) for j in range(42, 48)],\n",
        "            \"left_eyebrow\": [(landmarks.part(j).x, landmarks.part(j).y) for j in range(17, 22)],\n",
        "            \"right_eyebrow\": [(landmarks.part(j).x, landmarks.part(j).y) for j in range(22, 27)],\n",
        "            \"chin\": [(landmarks.part(j).x, landmarks.part(j).y) for j in range(0, 17)],\n",
        "        }\n",
        "\n",
        "        # Obter os pontos dos olhos, sobrancelhas e queixo\n",
        "        left_eye = np.array(face_landmarks['left_eye'])\n",
        "        right_eye = np.array(face_landmarks['right_eye'])\n",
        "        left_eyebrow = np.array(face_landmarks['left_eyebrow'])\n",
        "        right_eyebrow = np.array(face_landmarks['right_eyebrow'])\n",
        "        chin = np.array(face_landmarks['chin'])\n",
        "\n",
        "        # Calcular o ponto médio entre os olhos\n",
        "        left_eye_center = left_eye.mean(axis=0)\n",
        "        right_eye_center = right_eye.mean(axis=0)\n",
        "        eye_center = ((left_eye_center + right_eye_center) / 2).astype(int)\n",
        "\n",
        "        # Calcular o ângulo para horizontalizar os olhos\n",
        "        dy = right_eye_center[1] - left_eye_center[1]\n",
        "        dx = right_eye_center[0] - left_eye_center[0]\n",
        "        angle = np.degrees(np.arctan2(dy, dx))\n",
        "\n",
        "        # Rotacionar a imagem para horizontalizar os olhos\n",
        "        pil_image = Image.fromarray(image)\n",
        "        pil_image = pil_image.rotate(angle, center=tuple(eye_center), expand=True)\n",
        "\n",
        "        # Recalcular os pontos chave após rotação\n",
        "        rotated_image = np.array(pil_image)\n",
        "        rotated_faces = detector(rotated_image, 1)\n",
        "        rotated_landmarks = predictor(rotated_image, rotated_faces[0])\n",
        "\n",
        "        # Obter os novos pontos chave para sobrancelhas e queixo\n",
        "        left_eyebrow = np.array([(rotated_landmarks.part(j).x, rotated_landmarks.part(j).y) for j in range(17, 22)])\n",
        "        right_eyebrow = np.array([(rotated_landmarks.part(j).x, rotated_landmarks.part(j).y) for j in range(22, 27)])\n",
        "        chin = np.array([(rotated_landmarks.part(j).x, rotated_landmarks.part(j).y) for j in range(0, 17)])\n",
        "\n",
        "        # Calcular o topo das sobrancelhas e o fundo do queixo\n",
        "        top_of_eyebrows = min(left_eyebrow[:,1].min(), right_eyebrow[:,1].min())\n",
        "        bottom_of_chin = chin[:,1].max()\n",
        "\n",
        "        # Calcular as coordenadas do recorte\n",
        "        top = top_of_eyebrows\n",
        "        bottom = bottom_of_chin\n",
        "        left = min(chin[:,0].min(), left_eyebrow[:,0].min(), right_eyebrow[:,0].min())\n",
        "        right = max(chin[:,0].max(), left_eyebrow[:,0].max(), right_eyebrow[:,0].max())\n",
        "\n",
        "        # Recortar a imagem\n",
        "        cropped_face = pil_image.crop((left, top, right, bottom))\n",
        "\n",
        "        # Salvar a imagem recortada com o nome original acrescido de \"face\"\n",
        "        base_filename, ext = os.path.splitext(os.path.basename(image_path))\n",
        "        face_image_path = os.path.join(output_folder, f'{base_filename}_face{ext}')\n",
        "        cropped_face.save(face_image_path)\n",
        "        print(f'Rosto {i+1} salvo em {face_image_path}')\n",
        "\n",
        "# Caminho para a pasta de entrada\n",
        "input_folder = '/content/output_images_grayscale'\n",
        "\n",
        "# Pasta para salvar os rostos recortados\n",
        "output_folder = '/content/output_images_recortado'\n",
        "\n",
        "# Processar cada imagem na pasta de entrada\n",
        "for filename in os.listdir(input_folder):\n",
        "    if filename.lower().endswith(('.png', '.jpg', '.jpeg', '.bmp', '.gif')):\n",
        "        image_path = os.path.join(input_folder, filename)\n",
        "        adjust_and_crop_face(image_path, output_folder)\n"
      ]
    },
    {
      "cell_type": "code",
      "execution_count": null,
      "metadata": {
        "id": "-Wg3PjdwVL7R"
      },
      "outputs": [],
      "source": []
    }
  ],
  "metadata": {
    "accelerator": "GPU",
    "colab": {
      "gpuType": "T4",
      "provenance": []
    },
    "kernelspec": {
      "display_name": "Python 3",
      "name": "python3"
    },
    "language_info": {
      "codemirror_mode": {
        "name": "ipython",
        "version": 3
      },
      "file_extension": ".py",
      "mimetype": "text/x-python",
      "name": "python",
      "nbconvert_exporter": "python",
      "pygments_lexer": "ipython3",
      "version": "3.10.0"
    }
  },
  "nbformat": 4,
  "nbformat_minor": 0
}
