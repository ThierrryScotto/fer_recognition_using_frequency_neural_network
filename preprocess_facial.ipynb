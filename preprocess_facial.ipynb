{
  "nbformat": 4,
  "nbformat_minor": 0,
  "metadata": {
    "colab": {
      "provenance": [],
      "gpuType": "T4"
    },
    "kernelspec": {
      "name": "python3",
      "display_name": "Python 3"
    },
    "language_info": {
      "name": "python"
    },
    "accelerator": "GPU"
  },
  "cells": [
    {
      "cell_type": "code",
      "source": [
        "pip install pillow"
      ],
      "metadata": {
        "colab": {
          "base_uri": "https://localhost:8080/"
        },
        "id": "B8551beZ4LMN",
        "outputId": "c8f0038b-c2a8-4a89-d929-db622b61e51b"
      },
      "execution_count": null,
      "outputs": [
        {
          "output_type": "stream",
          "name": "stdout",
          "text": [
            "Requirement already satisfied: pillow in /usr/local/lib/python3.10/dist-packages (9.4.0)\n"
          ]
        }
      ]
    },
    {
      "cell_type": "code",
      "source": [
        "pip install dlib"
      ],
      "metadata": {
        "colab": {
          "base_uri": "https://localhost:8080/"
        },
        "id": "2iSDoaXV-zWh",
        "outputId": "99d310a1-35ab-4cb7-f15c-33c789dfa242"
      },
      "execution_count": null,
      "outputs": [
        {
          "output_type": "stream",
          "name": "stdout",
          "text": [
            "Requirement already satisfied: dlib in /usr/local/lib/python3.10/dist-packages (19.24.4)\n"
          ]
        }
      ]
    },
    {
      "cell_type": "code",
      "execution_count": null,
      "metadata": {
        "colab": {
          "base_uri": "https://localhost:8080/"
        },
        "id": "JNHDvz7E1nff",
        "outputId": "c93fb665-c232-41fd-8321-8fcbda2fda78"
      },
      "outputs": [
        {
          "output_type": "stream",
          "name": "stdout",
          "text": [
            "Collecting face_recognition\n",
            "  Downloading face_recognition-1.3.0-py2.py3-none-any.whl.metadata (21 kB)\n",
            "Requirement already satisfied: Pillow in /usr/local/lib/python3.10/dist-packages (9.4.0)\n",
            "Requirement already satisfied: numpy in /usr/local/lib/python3.10/dist-packages (1.25.2)\n",
            "Collecting face-recognition-models>=0.3.0 (from face_recognition)\n",
            "  Downloading face_recognition_models-0.3.0.tar.gz (100.1 MB)\n",
            "\u001b[2K     \u001b[90m━━━━━━━━━━━━━━━━━━━━━━━━━━━━━━━━━━━━━━━━\u001b[0m \u001b[32m100.1/100.1 MB\u001b[0m \u001b[31m6.6 MB/s\u001b[0m eta \u001b[36m0:00:00\u001b[0m\n",
            "\u001b[?25h  Preparing metadata (setup.py) ... \u001b[?25l\u001b[?25hdone\n",
            "Requirement already satisfied: Click>=6.0 in /usr/local/lib/python3.10/dist-packages (from face_recognition) (8.1.7)\n",
            "Requirement already satisfied: dlib>=19.7 in /usr/local/lib/python3.10/dist-packages (from face_recognition) (19.24.4)\n",
            "Downloading face_recognition-1.3.0-py2.py3-none-any.whl (15 kB)\n",
            "Building wheels for collected packages: face-recognition-models\n",
            "  Building wheel for face-recognition-models (setup.py) ... \u001b[?25l\u001b[?25hdone\n",
            "  Created wheel for face-recognition-models: filename=face_recognition_models-0.3.0-py2.py3-none-any.whl size=100566164 sha256=a68392da623068e29450e10344a61225fccdd4c0144cef1b8a589e8178ca9aa2\n",
            "  Stored in directory: /root/.cache/pip/wheels/7a/eb/cf/e9eced74122b679557f597bb7c8e4c739cfcac526db1fd523d\n",
            "Successfully built face-recognition-models\n",
            "Installing collected packages: face-recognition-models, face_recognition\n",
            "Successfully installed face-recognition-models-0.3.0 face_recognition-1.3.0\n"
          ]
        }
      ],
      "source": [
        "\n",
        "!pip install face_recognition Pillow numpy"
      ]
    },
    {
      "cell_type": "markdown",
      "source": [
        "**CARREGANDO ARQUIVOS NO COLAB**"
      ],
      "metadata": {
        "id": "OT2jwqpxWAui"
      }
    },
    {
      "cell_type": "code",
      "source": [
        "from google.colab import files\n",
        "uploaded = files.upload()"
      ],
      "metadata": {
        "colab": {
          "base_uri": "https://localhost:8080/",
          "height": 269
        },
        "id": "AfENSbOg6Uo6",
        "outputId": "b3247834-0cdd-4b2f-94ae-71efc0f4a1cd"
      },
      "execution_count": null,
      "outputs": [
        {
          "output_type": "display_data",
          "data": {
            "text/plain": [
              "<IPython.core.display.HTML object>"
            ],
            "text/html": [
              "\n",
              "     <input type=\"file\" id=\"files-3a017a83-8b52-4c02-9639-8d1f6ca454a5\" name=\"files[]\" multiple disabled\n",
              "        style=\"border:none\" />\n",
              "     <output id=\"result-3a017a83-8b52-4c02-9639-8d1f6ca454a5\">\n",
              "      Upload widget is only available when the cell has been executed in the\n",
              "      current browser session. Please rerun this cell to enable.\n",
              "      </output>\n",
              "      <script>// Copyright 2017 Google LLC\n",
              "//\n",
              "// Licensed under the Apache License, Version 2.0 (the \"License\");\n",
              "// you may not use this file except in compliance with the License.\n",
              "// You may obtain a copy of the License at\n",
              "//\n",
              "//      http://www.apache.org/licenses/LICENSE-2.0\n",
              "//\n",
              "// Unless required by applicable law or agreed to in writing, software\n",
              "// distributed under the License is distributed on an \"AS IS\" BASIS,\n",
              "// WITHOUT WARRANTIES OR CONDITIONS OF ANY KIND, either express or implied.\n",
              "// See the License for the specific language governing permissions and\n",
              "// limitations under the License.\n",
              "\n",
              "/**\n",
              " * @fileoverview Helpers for google.colab Python module.\n",
              " */\n",
              "(function(scope) {\n",
              "function span(text, styleAttributes = {}) {\n",
              "  const element = document.createElement('span');\n",
              "  element.textContent = text;\n",
              "  for (const key of Object.keys(styleAttributes)) {\n",
              "    element.style[key] = styleAttributes[key];\n",
              "  }\n",
              "  return element;\n",
              "}\n",
              "\n",
              "// Max number of bytes which will be uploaded at a time.\n",
              "const MAX_PAYLOAD_SIZE = 100 * 1024;\n",
              "\n",
              "function _uploadFiles(inputId, outputId) {\n",
              "  const steps = uploadFilesStep(inputId, outputId);\n",
              "  const outputElement = document.getElementById(outputId);\n",
              "  // Cache steps on the outputElement to make it available for the next call\n",
              "  // to uploadFilesContinue from Python.\n",
              "  outputElement.steps = steps;\n",
              "\n",
              "  return _uploadFilesContinue(outputId);\n",
              "}\n",
              "\n",
              "// This is roughly an async generator (not supported in the browser yet),\n",
              "// where there are multiple asynchronous steps and the Python side is going\n",
              "// to poll for completion of each step.\n",
              "// This uses a Promise to block the python side on completion of each step,\n",
              "// then passes the result of the previous step as the input to the next step.\n",
              "function _uploadFilesContinue(outputId) {\n",
              "  const outputElement = document.getElementById(outputId);\n",
              "  const steps = outputElement.steps;\n",
              "\n",
              "  const next = steps.next(outputElement.lastPromiseValue);\n",
              "  return Promise.resolve(next.value.promise).then((value) => {\n",
              "    // Cache the last promise value to make it available to the next\n",
              "    // step of the generator.\n",
              "    outputElement.lastPromiseValue = value;\n",
              "    return next.value.response;\n",
              "  });\n",
              "}\n",
              "\n",
              "/**\n",
              " * Generator function which is called between each async step of the upload\n",
              " * process.\n",
              " * @param {string} inputId Element ID of the input file picker element.\n",
              " * @param {string} outputId Element ID of the output display.\n",
              " * @return {!Iterable<!Object>} Iterable of next steps.\n",
              " */\n",
              "function* uploadFilesStep(inputId, outputId) {\n",
              "  const inputElement = document.getElementById(inputId);\n",
              "  inputElement.disabled = false;\n",
              "\n",
              "  const outputElement = document.getElementById(outputId);\n",
              "  outputElement.innerHTML = '';\n",
              "\n",
              "  const pickedPromise = new Promise((resolve) => {\n",
              "    inputElement.addEventListener('change', (e) => {\n",
              "      resolve(e.target.files);\n",
              "    });\n",
              "  });\n",
              "\n",
              "  const cancel = document.createElement('button');\n",
              "  inputElement.parentElement.appendChild(cancel);\n",
              "  cancel.textContent = 'Cancel upload';\n",
              "  const cancelPromise = new Promise((resolve) => {\n",
              "    cancel.onclick = () => {\n",
              "      resolve(null);\n",
              "    };\n",
              "  });\n",
              "\n",
              "  // Wait for the user to pick the files.\n",
              "  const files = yield {\n",
              "    promise: Promise.race([pickedPromise, cancelPromise]),\n",
              "    response: {\n",
              "      action: 'starting',\n",
              "    }\n",
              "  };\n",
              "\n",
              "  cancel.remove();\n",
              "\n",
              "  // Disable the input element since further picks are not allowed.\n",
              "  inputElement.disabled = true;\n",
              "\n",
              "  if (!files) {\n",
              "    return {\n",
              "      response: {\n",
              "        action: 'complete',\n",
              "      }\n",
              "    };\n",
              "  }\n",
              "\n",
              "  for (const file of files) {\n",
              "    const li = document.createElement('li');\n",
              "    li.append(span(file.name, {fontWeight: 'bold'}));\n",
              "    li.append(span(\n",
              "        `(${file.type || 'n/a'}) - ${file.size} bytes, ` +\n",
              "        `last modified: ${\n",
              "            file.lastModifiedDate ? file.lastModifiedDate.toLocaleDateString() :\n",
              "                                    'n/a'} - `));\n",
              "    const percent = span('0% done');\n",
              "    li.appendChild(percent);\n",
              "\n",
              "    outputElement.appendChild(li);\n",
              "\n",
              "    const fileDataPromise = new Promise((resolve) => {\n",
              "      const reader = new FileReader();\n",
              "      reader.onload = (e) => {\n",
              "        resolve(e.target.result);\n",
              "      };\n",
              "      reader.readAsArrayBuffer(file);\n",
              "    });\n",
              "    // Wait for the data to be ready.\n",
              "    let fileData = yield {\n",
              "      promise: fileDataPromise,\n",
              "      response: {\n",
              "        action: 'continue',\n",
              "      }\n",
              "    };\n",
              "\n",
              "    // Use a chunked sending to avoid message size limits. See b/62115660.\n",
              "    let position = 0;\n",
              "    do {\n",
              "      const length = Math.min(fileData.byteLength - position, MAX_PAYLOAD_SIZE);\n",
              "      const chunk = new Uint8Array(fileData, position, length);\n",
              "      position += length;\n",
              "\n",
              "      const base64 = btoa(String.fromCharCode.apply(null, chunk));\n",
              "      yield {\n",
              "        response: {\n",
              "          action: 'append',\n",
              "          file: file.name,\n",
              "          data: base64,\n",
              "        },\n",
              "      };\n",
              "\n",
              "      let percentDone = fileData.byteLength === 0 ?\n",
              "          100 :\n",
              "          Math.round((position / fileData.byteLength) * 100);\n",
              "      percent.textContent = `${percentDone}% done`;\n",
              "\n",
              "    } while (position < fileData.byteLength);\n",
              "  }\n",
              "\n",
              "  // All done.\n",
              "  yield {\n",
              "    response: {\n",
              "      action: 'complete',\n",
              "    }\n",
              "  };\n",
              "}\n",
              "\n",
              "scope.google = scope.google || {};\n",
              "scope.google.colab = scope.google.colab || {};\n",
              "scope.google.colab._files = {\n",
              "  _uploadFiles,\n",
              "  _uploadFilesContinue,\n",
              "};\n",
              "})(self);\n",
              "</script> "
            ]
          },
          "metadata": {}
        },
        {
          "output_type": "stream",
          "name": "stdout",
          "text": [
            "Saving 0005_01.jpg to 0005_01.jpg\n",
            "Saving 0006_01.jpg to 0006_01.jpg\n",
            "Saving 0007_02.jpg to 0007_02.jpg\n",
            "Saving 0008_01.jpg to 0008_01.jpg\n",
            "Saving 0009_01.jpg to 0009_01.jpg\n",
            "Saving 0010_01.jpg to 0010_01.jpg\n"
          ]
        }
      ]
    },
    {
      "cell_type": "markdown",
      "source": [
        "**CONVERTER A IMAGEM EM TONS DE CINZA**"
      ],
      "metadata": {
        "id": "IO_PIBQcQFDT"
      }
    },
    {
      "cell_type": "code",
      "source": [
        "from PIL import Image\n",
        "import os\n",
        "\n",
        "def convert_images_to_grayscale(input_folder, output_folder):\n",
        "    # Criar a pasta de saída, se não existir\n",
        "    os.makedirs(output_folder, exist_ok=True)\n",
        "\n",
        "    # Percorrer todas as imagens na pasta de entrada\n",
        "    for filename in os.listdir(input_folder):\n",
        "        if filename.lower().endswith('.jpeg') or filename.lower().endswith('.jpg'):\n",
        "            # Caminho completo da imagem\n",
        "            img_path = os.path.join(input_folder, filename)\n",
        "\n",
        "            # Abrir a imagem\n",
        "            with Image.open(img_path) as img:\n",
        "                # Converter para grayscale\n",
        "                grayscale_img = img.convert('L')\n",
        "\n",
        "                # Caminho completo da imagem de saída\n",
        "                output_path = os.path.join(output_folder, filename)\n",
        "\n",
        "                # Salvar a imagem em grayscale\n",
        "                grayscale_img.save(output_path)\n",
        "                print(f'Imagem {filename} convertida e salva em {output_path}')\n",
        "\n",
        "# Caminho para a pasta de entrada com imagens JPEG\n",
        "input_folder = 'input_images'\n",
        "\n",
        "# Caminho para a pasta de saída para salvar as imagens convertidas\n",
        "output_folder = 'output_images_grayscale'\n",
        "\n",
        "# Chamar a função para converter as imagens\n",
        "convert_images_to_grayscale(input_folder, output_folder)\n"
      ],
      "metadata": {
        "id": "ohz5iFaR4J4Q",
        "colab": {
          "base_uri": "https://localhost:8080/"
        },
        "outputId": "9693f0ad-46e9-447a-ea3b-2b68f4cb9735"
      },
      "execution_count": null,
      "outputs": [
        {
          "output_type": "stream",
          "name": "stdout",
          "text": [
            "Imagem 0007_02.jpg convertida e salva em output_images_grayscale/0007_02.jpg\n",
            "Imagem 0005_01.jpg convertida e salva em output_images_grayscale/0005_01.jpg\n",
            "Imagem 0008_01.jpg convertida e salva em output_images_grayscale/0008_01.jpg\n",
            "Imagem 0009_01.jpg convertida e salva em output_images_grayscale/0009_01.jpg\n",
            "Imagem 0010_01.jpg convertida e salva em output_images_grayscale/0010_01.jpg\n",
            "Imagem 0006_01.jpg convertida e salva em output_images_grayscale/0006_01.jpg\n"
          ]
        }
      ]
    },
    {
      "cell_type": "code",
      "source": [
        "import os\n",
        "\n",
        "# Pasta contendo as imagens a serem renomeadas\n",
        "output_dir = 'output_images_grayscale'\n",
        "\n",
        "# Iterar por todos os arquivos na pasta de saída\n",
        "for filename in os.listdir(output_dir):\n",
        "    # Verificar se o arquivo tem uma extensão de imagem válida\n",
        "    if filename.lower().endswith(('.png', '.jpg', '.jpeg', '.bmp', '.gif')):\n",
        "        # Dividir o nome do arquivo e a extensão\n",
        "        base, extension = os.path.splitext(filename)\n",
        "\n",
        "        # Adicionar \"gray\" ao final do nome do arquivo\n",
        "        new_filename = base + '_gray' + extension\n",
        "\n",
        "        # Caminho completo do arquivo atual\n",
        "        current_path = os.path.join(output_dir, filename)\n",
        "\n",
        "        # Caminho completo do novo arquivo\n",
        "        new_path = os.path.join(output_dir, new_filename)\n",
        "\n",
        "        # Renomear o arquivo\n",
        "        os.rename(current_path, new_path)\n",
        "\n",
        "        print(f\"Arquivo renomeado para {new_path}\")\n"
      ],
      "metadata": {
        "colab": {
          "base_uri": "https://localhost:8080/"
        },
        "id": "kAm5q5REQVrR",
        "outputId": "6bd92be2-7ebe-42e2-dc6a-25bce23ae0ed"
      },
      "execution_count": null,
      "outputs": [
        {
          "output_type": "stream",
          "name": "stdout",
          "text": [
            "Arquivo renomeado para output_images_grayscale/0007_02_gray.jpg\n",
            "Arquivo renomeado para output_images_grayscale/0005_01_gray.jpg\n",
            "Arquivo renomeado para output_images_grayscale/0008_01_gray.jpg\n",
            "Arquivo renomeado para output_images_grayscale/0009_01_gray.jpg\n",
            "Arquivo renomeado para output_images_grayscale/0010_01_gray.jpg\n",
            "Arquivo renomeado para output_images_grayscale/0006_01_gray.jpg\n"
          ]
        }
      ]
    },
    {
      "cell_type": "markdown",
      "source": [
        "**REALIZANDO OS AJUSTES DO PRÉ-PROCESSAMENTO: RECORTE DO ROSTO,  ROTAÇÃO E CENTRALIZAÇÃO DO ROSTO**"
      ],
      "metadata": {
        "id": "RR24NL21VW3i"
      }
    },
    {
      "cell_type": "code",
      "source": [
        "import dlib\n",
        "from PIL import Image\n",
        "import numpy as np\n",
        "import os\n",
        "\n",
        "def adjust_and_crop_face(image_path, output_folder):\n",
        "    # Carregar a imagem\n",
        "    image = dlib.load_rgb_image(image_path)\n",
        "\n",
        "    # Inicializar o detector de rostos e o preditor de pontos-chave\n",
        "    detector = dlib.get_frontal_face_detector()\n",
        "\n",
        "    # Caminho completo para o arquivo shape_predictor_68_face_landmarks.dat\n",
        "    dat_file_path = '/content/shape_predictor_68_face_landmarks.dat'\n",
        "    # Carregar o preditor de forma\n",
        "    predictor = dlib.shape_predictor(dat_file_path)\n",
        "\n",
        "    # Detectar os rostos na imagem\n",
        "    faces = detector(image, 1)\n",
        "\n",
        "    # Criar a pasta de saída, se não existir\n",
        "    os.makedirs(output_folder, exist_ok=True)\n",
        "\n",
        "    # Processar cada rosto detectado\n",
        "    for i, face in enumerate(faces):\n",
        "        # Obter os pontos chave do rosto\n",
        "        landmarks = predictor(image, face)\n",
        "\n",
        "        # Converter os pontos chave para um formato utilizável\n",
        "        face_landmarks = {\n",
        "            \"left_eye\": [(landmarks.part(j).x, landmarks.part(j).y) for j in range(36, 42)],\n",
        "            \"right_eye\": [(landmarks.part(j).x, landmarks.part(j).y) for j in range(42, 48)],\n",
        "            \"left_eyebrow\": [(landmarks.part(j).x, landmarks.part(j).y) for j in range(17, 22)],\n",
        "            \"right_eyebrow\": [(landmarks.part(j).x, landmarks.part(j).y) for j in range(22, 27)],\n",
        "            \"chin\": [(landmarks.part(j).x, landmarks.part(j).y) for j in range(0, 17)],\n",
        "        }\n",
        "\n",
        "        # Obter os pontos dos olhos, sobrancelhas e queixo\n",
        "        left_eye = np.array(face_landmarks['left_eye'])\n",
        "        right_eye = np.array(face_landmarks['right_eye'])\n",
        "        left_eyebrow = np.array(face_landmarks['left_eyebrow'])\n",
        "        right_eyebrow = np.array(face_landmarks['right_eyebrow'])\n",
        "        chin = np.array(face_landmarks['chin'])\n",
        "\n",
        "        # Calcular o ponto médio entre os olhos\n",
        "        left_eye_center = left_eye.mean(axis=0)\n",
        "        right_eye_center = right_eye.mean(axis=0)\n",
        "        eye_center = ((left_eye_center + right_eye_center) / 2).astype(int)\n",
        "\n",
        "        # Calcular o ângulo para horizontalizar os olhos\n",
        "        dy = right_eye_center[1] - left_eye_center[1]\n",
        "        dx = right_eye_center[0] - left_eye_center[0]\n",
        "        angle = np.degrees(np.arctan2(dy, dx))\n",
        "\n",
        "        # Rotacionar a imagem para horizontalizar os olhos\n",
        "        pil_image = Image.fromarray(image)\n",
        "        pil_image = pil_image.rotate(angle, center=tuple(eye_center), expand=True)\n",
        "\n",
        "        # Recalcular os pontos chave após rotação\n",
        "        rotated_image = np.array(pil_image)\n",
        "        rotated_faces = detector(rotated_image, 1)\n",
        "        rotated_landmarks = predictor(rotated_image, rotated_faces[0])\n",
        "\n",
        "        # Obter os novos pontos chave para sobrancelhas e queixo\n",
        "        left_eyebrow = np.array([(rotated_landmarks.part(j).x, rotated_landmarks.part(j).y) for j in range(17, 22)])\n",
        "        right_eyebrow = np.array([(rotated_landmarks.part(j).x, rotated_landmarks.part(j).y) for j in range(22, 27)])\n",
        "        chin = np.array([(rotated_landmarks.part(j).x, rotated_landmarks.part(j).y) for j in range(0, 17)])\n",
        "\n",
        "        # Calcular o topo das sobrancelhas e o fundo do queixo\n",
        "        top_of_eyebrows = min(left_eyebrow[:,1].min(), right_eyebrow[:,1].min())\n",
        "        bottom_of_chin = chin[:,1].max()\n",
        "\n",
        "        # Calcular as coordenadas do recorte\n",
        "        top = top_of_eyebrows\n",
        "        bottom = bottom_of_chin\n",
        "        left = min(chin[:,0].min(), left_eyebrow[:,0].min(), right_eyebrow[:,0].min())\n",
        "        right = max(chin[:,0].max(), left_eyebrow[:,0].max(), right_eyebrow[:,0].max())\n",
        "\n",
        "        # Recortar a imagem\n",
        "        cropped_face = pil_image.crop((left, top, right, bottom))\n",
        "\n",
        "        # Salvar a imagem recortada com o nome original acrescido de \"face\"\n",
        "        base_filename, ext = os.path.splitext(os.path.basename(image_path))\n",
        "        face_image_path = os.path.join(output_folder, f'{base_filename}_face{ext}')\n",
        "        cropped_face.save(face_image_path)\n",
        "        print(f'Rosto {i+1} salvo em {face_image_path}')\n",
        "\n",
        "# Caminho para a pasta de entrada\n",
        "input_folder = '/content/output_images_grayscale'\n",
        "\n",
        "# Pasta para salvar os rostos recortados\n",
        "output_folder = '/content/output_images_recortado'\n",
        "\n",
        "# Processar cada imagem na pasta de entrada\n",
        "for filename in os.listdir(input_folder):\n",
        "    if filename.lower().endswith(('.png', '.jpg', '.jpeg', '.bmp', '.gif')):\n",
        "        image_path = os.path.join(input_folder, filename)\n",
        "        adjust_and_crop_face(image_path, output_folder)\n"
      ],
      "metadata": {
        "colab": {
          "base_uri": "https://localhost:8080/"
        },
        "id": "eUAK0fUb3GYC",
        "outputId": "d6377de0-66de-4324-94ae-3bc666901699"
      },
      "execution_count": null,
      "outputs": [
        {
          "output_type": "stream",
          "name": "stdout",
          "text": [
            "Rosto 1 salvo em /content/output_images_recortado/0008_01_gray_face.jpg\n",
            "Rosto 1 salvo em /content/output_images_recortado/0010_01_gray_face.jpg\n",
            "Rosto 1 salvo em /content/output_images_recortado/0009_01_gray_face.jpg\n",
            "Rosto 1 salvo em /content/output_images_recortado/0005_01_gray_face.jpg\n",
            "Rosto 1 salvo em /content/output_images_recortado/0007_02_gray_face.jpg\n",
            "Rosto 1 salvo em /content/output_images_recortado/0006_01_gray_face.jpg\n"
          ]
        }
      ]
    },
    {
      "cell_type": "code",
      "source": [],
      "metadata": {
        "id": "-Wg3PjdwVL7R"
      },
      "execution_count": null,
      "outputs": []
    }
  ]
}